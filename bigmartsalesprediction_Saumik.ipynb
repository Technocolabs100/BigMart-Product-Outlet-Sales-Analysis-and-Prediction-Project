{
 "cells": [
  {
   "cell_type": "markdown",
   "id": "ffe7470c",
   "metadata": {},
   "source": [
    "### This is the mini project of Bigmart Outlet Sales prediction \n",
    "##### the methods that i have followed are\n",
    "* 1)The Business Problem Exploring \n",
    "* 2)The Dataset \n",
    "* 3)Exploratory Data Analysis (eda) - Outliers\n",
    "* 4)Exploratory Data Analysis (eda) - Graphs\n",
    "* 5)Converting Categorical To Numerical\n",
    "* 6)Seperating Training And Test Data\n",
    "* 7)Running The Models\n",
    "* 8)Hyper Parameter Tuning XGB And GBR\n",
    "* 9)Standard Scaling 06m Robust Scaling\n",
    "* 10)Final Predictions On The Test Dataset\n",
    "* 11)Saving The Final Model\n",
    "\n",
    "BY Saumik Sarkar"
   ]
  },
  {
   "cell_type": "code",
   "execution_count": 1,
   "id": "c8910c76",
   "metadata": {},
   "outputs": [],
   "source": [
    "import pandas as pd\n",
    "import numpy as np\n",
    "%matplotlib inline     \n",
    "#magic function in IPython  In[101]\n",
    "import matplotlib.pyplot as plt     # is a collection of command style functions that make matplotlib work like MATLAB\n",
    "import seaborn as sns"
   ]
  },
  {
   "cell_type": "code",
   "execution_count": 2,
   "id": "6b59f41c",
   "metadata": {},
   "outputs": [],
   "source": [
    "df_train= pd.read_csv('../BigmartData/Train.csv')\n",
    "df_test= pd.read_csv('../BigmartData/Test.csv')"
   ]
  },
  {
   "cell_type": "code",
   "execution_count": 3,
   "id": "9e4f0fdb",
   "metadata": {},
   "outputs": [
    {
     "data": {
      "text/html": [
       "<div>\n",
       "<style scoped>\n",
       "    .dataframe tbody tr th:only-of-type {\n",
       "        vertical-align: middle;\n",
       "    }\n",
       "\n",
       "    .dataframe tbody tr th {\n",
       "        vertical-align: top;\n",
       "    }\n",
       "\n",
       "    .dataframe thead th {\n",
       "        text-align: right;\n",
       "    }\n",
       "</style>\n",
       "<table border=\"1\" class=\"dataframe\">\n",
       "  <thead>\n",
       "    <tr style=\"text-align: right;\">\n",
       "      <th></th>\n",
       "      <th>Item_Identifier</th>\n",
       "      <th>Item_Weight</th>\n",
       "      <th>Item_Fat_Content</th>\n",
       "      <th>Item_Visibility</th>\n",
       "      <th>Item_Type</th>\n",
       "      <th>Item_MRP</th>\n",
       "      <th>Outlet_Identifier</th>\n",
       "      <th>Outlet_Establishment_Year</th>\n",
       "      <th>Outlet_Size</th>\n",
       "      <th>Outlet_Location_Type</th>\n",
       "      <th>Outlet_Type</th>\n",
       "      <th>Item_Outlet_Sales</th>\n",
       "    </tr>\n",
       "  </thead>\n",
       "  <tbody>\n",
       "    <tr>\n",
       "      <th>0</th>\n",
       "      <td>FDA15</td>\n",
       "      <td>9.30</td>\n",
       "      <td>Low Fat</td>\n",
       "      <td>0.016047</td>\n",
       "      <td>Dairy</td>\n",
       "      <td>249.8092</td>\n",
       "      <td>OUT049</td>\n",
       "      <td>1999</td>\n",
       "      <td>Medium</td>\n",
       "      <td>Tier 1</td>\n",
       "      <td>Supermarket Type1</td>\n",
       "      <td>3735.1380</td>\n",
       "    </tr>\n",
       "    <tr>\n",
       "      <th>1</th>\n",
       "      <td>DRC01</td>\n",
       "      <td>5.92</td>\n",
       "      <td>Regular</td>\n",
       "      <td>0.019278</td>\n",
       "      <td>Soft Drinks</td>\n",
       "      <td>48.2692</td>\n",
       "      <td>OUT018</td>\n",
       "      <td>2009</td>\n",
       "      <td>Medium</td>\n",
       "      <td>Tier 3</td>\n",
       "      <td>Supermarket Type2</td>\n",
       "      <td>443.4228</td>\n",
       "    </tr>\n",
       "    <tr>\n",
       "      <th>2</th>\n",
       "      <td>FDN15</td>\n",
       "      <td>17.50</td>\n",
       "      <td>Low Fat</td>\n",
       "      <td>0.016760</td>\n",
       "      <td>Meat</td>\n",
       "      <td>141.6180</td>\n",
       "      <td>OUT049</td>\n",
       "      <td>1999</td>\n",
       "      <td>Medium</td>\n",
       "      <td>Tier 1</td>\n",
       "      <td>Supermarket Type1</td>\n",
       "      <td>2097.2700</td>\n",
       "    </tr>\n",
       "    <tr>\n",
       "      <th>3</th>\n",
       "      <td>FDX07</td>\n",
       "      <td>19.20</td>\n",
       "      <td>Regular</td>\n",
       "      <td>0.000000</td>\n",
       "      <td>Fruits and Vegetables</td>\n",
       "      <td>182.0950</td>\n",
       "      <td>OUT010</td>\n",
       "      <td>1998</td>\n",
       "      <td>NaN</td>\n",
       "      <td>Tier 3</td>\n",
       "      <td>Grocery Store</td>\n",
       "      <td>732.3800</td>\n",
       "    </tr>\n",
       "    <tr>\n",
       "      <th>4</th>\n",
       "      <td>NCD19</td>\n",
       "      <td>8.93</td>\n",
       "      <td>Low Fat</td>\n",
       "      <td>0.000000</td>\n",
       "      <td>Household</td>\n",
       "      <td>53.8614</td>\n",
       "      <td>OUT013</td>\n",
       "      <td>1987</td>\n",
       "      <td>High</td>\n",
       "      <td>Tier 3</td>\n",
       "      <td>Supermarket Type1</td>\n",
       "      <td>994.7052</td>\n",
       "    </tr>\n",
       "  </tbody>\n",
       "</table>\n",
       "</div>"
      ],
      "text/plain": [
       "  Item_Identifier  Item_Weight Item_Fat_Content  Item_Visibility  \\\n",
       "0           FDA15         9.30          Low Fat         0.016047   \n",
       "1           DRC01         5.92          Regular         0.019278   \n",
       "2           FDN15        17.50          Low Fat         0.016760   \n",
       "3           FDX07        19.20          Regular         0.000000   \n",
       "4           NCD19         8.93          Low Fat         0.000000   \n",
       "\n",
       "               Item_Type  Item_MRP Outlet_Identifier  \\\n",
       "0                  Dairy  249.8092            OUT049   \n",
       "1            Soft Drinks   48.2692            OUT018   \n",
       "2                   Meat  141.6180            OUT049   \n",
       "3  Fruits and Vegetables  182.0950            OUT010   \n",
       "4              Household   53.8614            OUT013   \n",
       "\n",
       "   Outlet_Establishment_Year Outlet_Size Outlet_Location_Type  \\\n",
       "0                       1999      Medium               Tier 1   \n",
       "1                       2009      Medium               Tier 3   \n",
       "2                       1999      Medium               Tier 1   \n",
       "3                       1998         NaN               Tier 3   \n",
       "4                       1987        High               Tier 3   \n",
       "\n",
       "         Outlet_Type  Item_Outlet_Sales  \n",
       "0  Supermarket Type1          3735.1380  \n",
       "1  Supermarket Type2           443.4228  \n",
       "2  Supermarket Type1          2097.2700  \n",
       "3      Grocery Store           732.3800  \n",
       "4  Supermarket Type1           994.7052  "
      ]
     },
     "execution_count": 3,
     "metadata": {},
     "output_type": "execute_result"
    }
   ],
   "source": [
    "df_train.head()  # displays the first five rows of the dataframe by default"
   ]
  },
  {
   "cell_type": "code",
   "execution_count": 4,
   "id": "c77799e0",
   "metadata": {},
   "outputs": [
    {
     "data": {
      "text/html": [
       "<div>\n",
       "<style scoped>\n",
       "    .dataframe tbody tr th:only-of-type {\n",
       "        vertical-align: middle;\n",
       "    }\n",
       "\n",
       "    .dataframe tbody tr th {\n",
       "        vertical-align: top;\n",
       "    }\n",
       "\n",
       "    .dataframe thead th {\n",
       "        text-align: right;\n",
       "    }\n",
       "</style>\n",
       "<table border=\"1\" class=\"dataframe\">\n",
       "  <thead>\n",
       "    <tr style=\"text-align: right;\">\n",
       "      <th></th>\n",
       "      <th>Item_Identifier</th>\n",
       "      <th>Item_Weight</th>\n",
       "      <th>Item_Fat_Content</th>\n",
       "      <th>Item_Visibility</th>\n",
       "      <th>Item_Type</th>\n",
       "      <th>Item_MRP</th>\n",
       "      <th>Outlet_Identifier</th>\n",
       "      <th>Outlet_Establishment_Year</th>\n",
       "      <th>Outlet_Size</th>\n",
       "      <th>Outlet_Location_Type</th>\n",
       "      <th>Outlet_Type</th>\n",
       "    </tr>\n",
       "  </thead>\n",
       "  <tbody>\n",
       "    <tr>\n",
       "      <th>0</th>\n",
       "      <td>FDW58</td>\n",
       "      <td>20.750</td>\n",
       "      <td>Low Fat</td>\n",
       "      <td>0.007565</td>\n",
       "      <td>Snack Foods</td>\n",
       "      <td>107.8622</td>\n",
       "      <td>OUT049</td>\n",
       "      <td>1999</td>\n",
       "      <td>Medium</td>\n",
       "      <td>Tier 1</td>\n",
       "      <td>Supermarket Type1</td>\n",
       "    </tr>\n",
       "    <tr>\n",
       "      <th>1</th>\n",
       "      <td>FDW14</td>\n",
       "      <td>8.300</td>\n",
       "      <td>reg</td>\n",
       "      <td>0.038428</td>\n",
       "      <td>Dairy</td>\n",
       "      <td>87.3198</td>\n",
       "      <td>OUT017</td>\n",
       "      <td>2007</td>\n",
       "      <td>NaN</td>\n",
       "      <td>Tier 2</td>\n",
       "      <td>Supermarket Type1</td>\n",
       "    </tr>\n",
       "    <tr>\n",
       "      <th>2</th>\n",
       "      <td>NCN55</td>\n",
       "      <td>14.600</td>\n",
       "      <td>Low Fat</td>\n",
       "      <td>0.099575</td>\n",
       "      <td>Others</td>\n",
       "      <td>241.7538</td>\n",
       "      <td>OUT010</td>\n",
       "      <td>1998</td>\n",
       "      <td>NaN</td>\n",
       "      <td>Tier 3</td>\n",
       "      <td>Grocery Store</td>\n",
       "    </tr>\n",
       "    <tr>\n",
       "      <th>3</th>\n",
       "      <td>FDQ58</td>\n",
       "      <td>7.315</td>\n",
       "      <td>Low Fat</td>\n",
       "      <td>0.015388</td>\n",
       "      <td>Snack Foods</td>\n",
       "      <td>155.0340</td>\n",
       "      <td>OUT017</td>\n",
       "      <td>2007</td>\n",
       "      <td>NaN</td>\n",
       "      <td>Tier 2</td>\n",
       "      <td>Supermarket Type1</td>\n",
       "    </tr>\n",
       "    <tr>\n",
       "      <th>4</th>\n",
       "      <td>FDY38</td>\n",
       "      <td>NaN</td>\n",
       "      <td>Regular</td>\n",
       "      <td>0.118599</td>\n",
       "      <td>Dairy</td>\n",
       "      <td>234.2300</td>\n",
       "      <td>OUT027</td>\n",
       "      <td>1985</td>\n",
       "      <td>Medium</td>\n",
       "      <td>Tier 3</td>\n",
       "      <td>Supermarket Type3</td>\n",
       "    </tr>\n",
       "  </tbody>\n",
       "</table>\n",
       "</div>"
      ],
      "text/plain": [
       "  Item_Identifier  Item_Weight Item_Fat_Content  Item_Visibility    Item_Type  \\\n",
       "0           FDW58       20.750          Low Fat         0.007565  Snack Foods   \n",
       "1           FDW14        8.300              reg         0.038428        Dairy   \n",
       "2           NCN55       14.600          Low Fat         0.099575       Others   \n",
       "3           FDQ58        7.315          Low Fat         0.015388  Snack Foods   \n",
       "4           FDY38          NaN          Regular         0.118599        Dairy   \n",
       "\n",
       "   Item_MRP Outlet_Identifier  Outlet_Establishment_Year Outlet_Size  \\\n",
       "0  107.8622            OUT049                       1999      Medium   \n",
       "1   87.3198            OUT017                       2007         NaN   \n",
       "2  241.7538            OUT010                       1998         NaN   \n",
       "3  155.0340            OUT017                       2007         NaN   \n",
       "4  234.2300            OUT027                       1985      Medium   \n",
       "\n",
       "  Outlet_Location_Type        Outlet_Type  \n",
       "0               Tier 1  Supermarket Type1  \n",
       "1               Tier 2  Supermarket Type1  \n",
       "2               Tier 3      Grocery Store  \n",
       "3               Tier 2  Supermarket Type1  \n",
       "4               Tier 3  Supermarket Type3  "
      ]
     },
     "execution_count": 4,
     "metadata": {},
     "output_type": "execute_result"
    }
   ],
   "source": [
    "df_test.head()"
   ]
  },
  {
   "cell_type": "code",
   "execution_count": 5,
   "id": "26412004",
   "metadata": {},
   "outputs": [
    {
     "data": {
      "text/plain": [
       "(8523, 12)"
      ]
     },
     "execution_count": 5,
     "metadata": {},
     "output_type": "execute_result"
    }
   ],
   "source": [
    "df_train.shape  # a tuple of array dimensions that tells the number of rows and columns of a given DataFrame"
   ]
  },
  {
   "cell_type": "code",
   "execution_count": 6,
   "id": "8b6193b6",
   "metadata": {},
   "outputs": [
    {
     "data": {
      "text/plain": [
       "Item_Identifier                 0\n",
       "Item_Weight                  1463\n",
       "Item_Fat_Content                0\n",
       "Item_Visibility                 0\n",
       "Item_Type                       0\n",
       "Item_MRP                        0\n",
       "Outlet_Identifier               0\n",
       "Outlet_Establishment_Year       0\n",
       "Outlet_Size                  2410\n",
       "Outlet_Location_Type            0\n",
       "Outlet_Type                     0\n",
       "Item_Outlet_Sales               0\n",
       "dtype: int64"
      ]
     },
     "execution_count": 6,
     "metadata": {},
     "output_type": "execute_result"
    }
   ],
   "source": [
    "df_train.isnull().sum()  #seeing the number of null values in the train data"
   ]
  },
  {
   "cell_type": "code",
   "execution_count": 7,
   "id": "286b6ce0",
   "metadata": {},
   "outputs": [
    {
     "data": {
      "text/plain": [
       "Item_Identifier                 0\n",
       "Item_Weight                   976\n",
       "Item_Fat_Content                0\n",
       "Item_Visibility                 0\n",
       "Item_Type                       0\n",
       "Item_MRP                        0\n",
       "Outlet_Identifier               0\n",
       "Outlet_Establishment_Year       0\n",
       "Outlet_Size                  1606\n",
       "Outlet_Location_Type            0\n",
       "Outlet_Type                     0\n",
       "dtype: int64"
      ]
     },
     "execution_count": 7,
     "metadata": {},
     "output_type": "execute_result"
    }
   ],
   "source": [
    "##checking for null values in test data\n",
    "df_test.isnull().sum()"
   ]
  },
  {
   "cell_type": "code",
   "execution_count": 8,
   "id": "72c37386",
   "metadata": {},
   "outputs": [
    {
     "name": "stdout",
     "output_type": "stream",
     "text": [
      "<class 'pandas.core.frame.DataFrame'>\n",
      "RangeIndex: 8523 entries, 0 to 8522\n",
      "Data columns (total 12 columns):\n",
      " #   Column                     Non-Null Count  Dtype  \n",
      "---  ------                     --------------  -----  \n",
      " 0   Item_Identifier            8523 non-null   object \n",
      " 1   Item_Weight                7060 non-null   float64\n",
      " 2   Item_Fat_Content           8523 non-null   object \n",
      " 3   Item_Visibility            8523 non-null   float64\n",
      " 4   Item_Type                  8523 non-null   object \n",
      " 5   Item_MRP                   8523 non-null   float64\n",
      " 6   Outlet_Identifier          8523 non-null   object \n",
      " 7   Outlet_Establishment_Year  8523 non-null   int64  \n",
      " 8   Outlet_Size                6113 non-null   object \n",
      " 9   Outlet_Location_Type       8523 non-null   object \n",
      " 10  Outlet_Type                8523 non-null   object \n",
      " 11  Item_Outlet_Sales          8523 non-null   float64\n",
      "dtypes: float64(4), int64(1), object(7)\n",
      "memory usage: 799.2+ KB\n"
     ]
    }
   ],
   "source": [
    "df_train.info()   #seeing the detailed info of the dataset and its types of target variables"
   ]
  },
  {
   "cell_type": "code",
   "execution_count": 9,
   "id": "07b2afb5",
   "metadata": {},
   "outputs": [
    {
     "data": {
      "text/html": [
       "<div>\n",
       "<style scoped>\n",
       "    .dataframe tbody tr th:only-of-type {\n",
       "        vertical-align: middle;\n",
       "    }\n",
       "\n",
       "    .dataframe tbody tr th {\n",
       "        vertical-align: top;\n",
       "    }\n",
       "\n",
       "    .dataframe thead th {\n",
       "        text-align: right;\n",
       "    }\n",
       "</style>\n",
       "<table border=\"1\" class=\"dataframe\">\n",
       "  <thead>\n",
       "    <tr style=\"text-align: right;\">\n",
       "      <th></th>\n",
       "      <th>Item_Weight</th>\n",
       "      <th>Item_Visibility</th>\n",
       "      <th>Item_MRP</th>\n",
       "      <th>Outlet_Establishment_Year</th>\n",
       "      <th>Item_Outlet_Sales</th>\n",
       "    </tr>\n",
       "  </thead>\n",
       "  <tbody>\n",
       "    <tr>\n",
       "      <th>count</th>\n",
       "      <td>7060.000000</td>\n",
       "      <td>8523.000000</td>\n",
       "      <td>8523.000000</td>\n",
       "      <td>8523.000000</td>\n",
       "      <td>8523.000000</td>\n",
       "    </tr>\n",
       "    <tr>\n",
       "      <th>mean</th>\n",
       "      <td>12.857645</td>\n",
       "      <td>0.066132</td>\n",
       "      <td>140.992782</td>\n",
       "      <td>1997.831867</td>\n",
       "      <td>2181.288914</td>\n",
       "    </tr>\n",
       "    <tr>\n",
       "      <th>std</th>\n",
       "      <td>4.643456</td>\n",
       "      <td>0.051598</td>\n",
       "      <td>62.275067</td>\n",
       "      <td>8.371760</td>\n",
       "      <td>1706.499616</td>\n",
       "    </tr>\n",
       "    <tr>\n",
       "      <th>min</th>\n",
       "      <td>4.555000</td>\n",
       "      <td>0.000000</td>\n",
       "      <td>31.290000</td>\n",
       "      <td>1985.000000</td>\n",
       "      <td>33.290000</td>\n",
       "    </tr>\n",
       "    <tr>\n",
       "      <th>25%</th>\n",
       "      <td>8.773750</td>\n",
       "      <td>0.026989</td>\n",
       "      <td>93.826500</td>\n",
       "      <td>1987.000000</td>\n",
       "      <td>834.247400</td>\n",
       "    </tr>\n",
       "    <tr>\n",
       "      <th>50%</th>\n",
       "      <td>12.600000</td>\n",
       "      <td>0.053931</td>\n",
       "      <td>143.012800</td>\n",
       "      <td>1999.000000</td>\n",
       "      <td>1794.331000</td>\n",
       "    </tr>\n",
       "    <tr>\n",
       "      <th>75%</th>\n",
       "      <td>16.850000</td>\n",
       "      <td>0.094585</td>\n",
       "      <td>185.643700</td>\n",
       "      <td>2004.000000</td>\n",
       "      <td>3101.296400</td>\n",
       "    </tr>\n",
       "    <tr>\n",
       "      <th>max</th>\n",
       "      <td>21.350000</td>\n",
       "      <td>0.328391</td>\n",
       "      <td>266.888400</td>\n",
       "      <td>2009.000000</td>\n",
       "      <td>13086.964800</td>\n",
       "    </tr>\n",
       "  </tbody>\n",
       "</table>\n",
       "</div>"
      ],
      "text/plain": [
       "       Item_Weight  Item_Visibility     Item_MRP  Outlet_Establishment_Year  \\\n",
       "count  7060.000000      8523.000000  8523.000000                8523.000000   \n",
       "mean     12.857645         0.066132   140.992782                1997.831867   \n",
       "std       4.643456         0.051598    62.275067                   8.371760   \n",
       "min       4.555000         0.000000    31.290000                1985.000000   \n",
       "25%       8.773750         0.026989    93.826500                1987.000000   \n",
       "50%      12.600000         0.053931   143.012800                1999.000000   \n",
       "75%      16.850000         0.094585   185.643700                2004.000000   \n",
       "max      21.350000         0.328391   266.888400                2009.000000   \n",
       "\n",
       "       Item_Outlet_Sales  \n",
       "count        8523.000000  \n",
       "mean         2181.288914  \n",
       "std          1706.499616  \n",
       "min            33.290000  \n",
       "25%           834.247400  \n",
       "50%          1794.331000  \n",
       "75%          3101.296400  \n",
       "max         13086.964800  "
      ]
     },
     "execution_count": 9,
     "metadata": {},
     "output_type": "execute_result"
    }
   ],
   "source": [
    "df_train.describe()  # to generate descriptive statistics that summarize the central tendency, dispersion and\n",
    "                     # shape of a dataset's distribution, excluding NaN values."
   ]
  },
  {
   "cell_type": "markdown",
   "id": "27ad105e",
   "metadata": {},
   "source": [
    "#####  Item_Weight is numerical column so i filled it with Mean of the Item weights"
   ]
  },
  {
   "cell_type": "code",
   "execution_count": 10,
   "id": "4a1d93b2",
   "metadata": {},
   "outputs": [
    {
     "data": {
      "text/plain": [
       "count    7060.000000\n",
       "mean       12.857645\n",
       "std         4.643456\n",
       "min         4.555000\n",
       "25%         8.773750\n",
       "50%        12.600000\n",
       "75%        16.850000\n",
       "max        21.350000\n",
       "Name: Item_Weight, dtype: float64"
      ]
     },
     "execution_count": 10,
     "metadata": {},
     "output_type": "execute_result"
    }
   ],
   "source": [
    "df_train['Item_Weight'].describe()  #seeing all the central tendenies of the dataset"
   ]
  },
  {
   "cell_type": "code",
   "execution_count": 11,
   "id": "69dd88b2",
   "metadata": {},
   "outputs": [],
   "source": [
    "df_train['Item_Weight'].fillna(df_train['Item_Weight'].mean(),inplace=True)  #replacing null values with mean values\n",
    "df_test['Item_Weight'].fillna(df_train['Item_Weight'].mean(),inplace=True)"
   ]
  },
  {
   "cell_type": "code",
   "execution_count": 12,
   "id": "615c2646",
   "metadata": {},
   "outputs": [
    {
     "data": {
      "text/plain": [
       "Item_Identifier                 0\n",
       "Item_Weight                     0\n",
       "Item_Fat_Content                0\n",
       "Item_Visibility                 0\n",
       "Item_Type                       0\n",
       "Item_MRP                        0\n",
       "Outlet_Identifier               0\n",
       "Outlet_Establishment_Year       0\n",
       "Outlet_Size                  2410\n",
       "Outlet_Location_Type            0\n",
       "Outlet_Type                     0\n",
       "Item_Outlet_Sales               0\n",
       "dtype: int64"
      ]
     },
     "execution_count": 12,
     "metadata": {},
     "output_type": "execute_result"
    }
   ],
   "source": [
    "df_train.isnull().sum()  #no null values in item weight"
   ]
  },
  {
   "cell_type": "code",
   "execution_count": 13,
   "id": "5e18a0fe",
   "metadata": {
    "scrolled": true
   },
   "outputs": [
    {
     "data": {
      "text/plain": [
       "count    8523.000000\n",
       "mean       12.857645\n",
       "std         4.226124\n",
       "min         4.555000\n",
       "25%         9.310000\n",
       "50%        12.857645\n",
       "75%        16.000000\n",
       "max        21.350000\n",
       "Name: Item_Weight, dtype: float64"
      ]
     },
     "execution_count": 13,
     "metadata": {},
     "output_type": "execute_result"
    }
   ],
   "source": [
    "df_train['Item_Weight'].describe()"
   ]
  },
  {
   "cell_type": "markdown",
   "id": "66242a6c",
   "metadata": {},
   "source": [
    "#### Filling outlet size with Mode Imputation as it is a categorical column "
   ]
  },
  {
   "cell_type": "code",
   "execution_count": 14,
   "id": "dca9e125",
   "metadata": {},
   "outputs": [
    {
     "data": {
      "text/plain": [
       "0       Medium\n",
       "1       Medium\n",
       "2       Medium\n",
       "3          NaN\n",
       "4         High\n",
       "         ...  \n",
       "8518      High\n",
       "8519       NaN\n",
       "8520     Small\n",
       "8521    Medium\n",
       "8522     Small\n",
       "Name: Outlet_Size, Length: 8523, dtype: object"
      ]
     },
     "execution_count": 14,
     "metadata": {},
     "output_type": "execute_result"
    }
   ],
   "source": [
    "df_train['Outlet_Size']  #it is a categorical value "
   ]
  },
  {
   "cell_type": "code",
   "execution_count": 15,
   "id": "993ebb93",
   "metadata": {},
   "outputs": [
    {
     "data": {
      "text/plain": [
       "Medium    2793\n",
       "Small     2388\n",
       "High       932\n",
       "Name: Outlet_Size, dtype: int64"
      ]
     },
     "execution_count": 15,
     "metadata": {},
     "output_type": "execute_result"
    }
   ],
   "source": [
    "df_train['Outlet_Size'].value_counts()"
   ]
  },
  {
   "cell_type": "code",
   "execution_count": 16,
   "id": "8605fc79",
   "metadata": {},
   "outputs": [
    {
     "data": {
      "text/plain": [
       "0    Medium\n",
       "Name: Outlet_Size, dtype: object"
      ]
     },
     "execution_count": 16,
     "metadata": {},
     "output_type": "execute_result"
    }
   ],
   "source": [
    "df_train['Outlet_Size'].mode()"
   ]
  },
  {
   "cell_type": "code",
   "execution_count": 17,
   "id": "ea4f96f3",
   "metadata": {},
   "outputs": [],
   "source": [
    "df_train['Outlet_Size'].fillna(df_train['Outlet_Size'].mode()[0],inplace=True)\n",
    "df_test['Outlet_Size'].fillna(df_test['Outlet_Size'].mode()[0],inplace=True)"
   ]
  },
  {
   "cell_type": "markdown",
   "id": "faf095ea",
   "metadata": {},
   "source": [
    "## pandas treats the mode as something special since they can be unimodal , bimodal or multimodal distributions they \n",
    "## had to make sure that 1 value could be returned   \"Always return series even if only one value is returned\""
   ]
  },
  {
   "cell_type": "code",
   "execution_count": 18,
   "id": "a070ee83",
   "metadata": {},
   "outputs": [
    {
     "data": {
      "text/plain": [
       "Item_Identifier              0\n",
       "Item_Weight                  0\n",
       "Item_Fat_Content             0\n",
       "Item_Visibility              0\n",
       "Item_Type                    0\n",
       "Item_MRP                     0\n",
       "Outlet_Identifier            0\n",
       "Outlet_Establishment_Year    0\n",
       "Outlet_Size                  0\n",
       "Outlet_Location_Type         0\n",
       "Outlet_Type                  0\n",
       "Item_Outlet_Sales            0\n",
       "dtype: int64"
      ]
     },
     "execution_count": 18,
     "metadata": {},
     "output_type": "execute_result"
    }
   ],
   "source": [
    "df_train.isnull().sum()  #no null value :)"
   ]
  },
  {
   "cell_type": "code",
   "execution_count": 19,
   "id": "94965d51",
   "metadata": {},
   "outputs": [
    {
     "data": {
      "text/plain": [
       "Item_Identifier              0\n",
       "Item_Weight                  0\n",
       "Item_Fat_Content             0\n",
       "Item_Visibility              0\n",
       "Item_Type                    0\n",
       "Item_MRP                     0\n",
       "Outlet_Identifier            0\n",
       "Outlet_Establishment_Year    0\n",
       "Outlet_Size                  0\n",
       "Outlet_Location_Type         0\n",
       "Outlet_Type                  0\n",
       "dtype: int64"
      ]
     },
     "execution_count": 19,
     "metadata": {},
     "output_type": "execute_result"
    }
   ],
   "source": [
    "df_test.isnull().sum()"
   ]
  },
  {
   "cell_type": "markdown",
   "id": "efed5c3a",
   "metadata": {},
   "source": [
    "# Dimesnsionality reduction of item identifier and outlet identifier"
   ]
  },
  {
   "cell_type": "code",
   "execution_count": 20,
   "id": "cd446b72",
   "metadata": {},
   "outputs": [],
   "source": [
    "df_train.drop(['Item_Identifier','Outlet_Identifier'],axis=1,inplace=True)\n",
    "df_test.drop(['Item_Identifier','Outlet_Identifier'],axis=1,inplace=True)"
   ]
  },
  {
   "cell_type": "code",
   "execution_count": 21,
   "id": "96f01329",
   "metadata": {},
   "outputs": [
    {
     "data": {
      "text/html": [
       "<div>\n",
       "<style scoped>\n",
       "    .dataframe tbody tr th:only-of-type {\n",
       "        vertical-align: middle;\n",
       "    }\n",
       "\n",
       "    .dataframe tbody tr th {\n",
       "        vertical-align: top;\n",
       "    }\n",
       "\n",
       "    .dataframe thead th {\n",
       "        text-align: right;\n",
       "    }\n",
       "</style>\n",
       "<table border=\"1\" class=\"dataframe\">\n",
       "  <thead>\n",
       "    <tr style=\"text-align: right;\">\n",
       "      <th></th>\n",
       "      <th>Item_Weight</th>\n",
       "      <th>Item_Fat_Content</th>\n",
       "      <th>Item_Visibility</th>\n",
       "      <th>Item_Type</th>\n",
       "      <th>Item_MRP</th>\n",
       "      <th>Outlet_Establishment_Year</th>\n",
       "      <th>Outlet_Size</th>\n",
       "      <th>Outlet_Location_Type</th>\n",
       "      <th>Outlet_Type</th>\n",
       "      <th>Item_Outlet_Sales</th>\n",
       "    </tr>\n",
       "  </thead>\n",
       "  <tbody>\n",
       "    <tr>\n",
       "      <th>0</th>\n",
       "      <td>9.300</td>\n",
       "      <td>Low Fat</td>\n",
       "      <td>0.016047</td>\n",
       "      <td>Dairy</td>\n",
       "      <td>249.8092</td>\n",
       "      <td>1999</td>\n",
       "      <td>Medium</td>\n",
       "      <td>Tier 1</td>\n",
       "      <td>Supermarket Type1</td>\n",
       "      <td>3735.1380</td>\n",
       "    </tr>\n",
       "    <tr>\n",
       "      <th>1</th>\n",
       "      <td>5.920</td>\n",
       "      <td>Regular</td>\n",
       "      <td>0.019278</td>\n",
       "      <td>Soft Drinks</td>\n",
       "      <td>48.2692</td>\n",
       "      <td>2009</td>\n",
       "      <td>Medium</td>\n",
       "      <td>Tier 3</td>\n",
       "      <td>Supermarket Type2</td>\n",
       "      <td>443.4228</td>\n",
       "    </tr>\n",
       "    <tr>\n",
       "      <th>2</th>\n",
       "      <td>17.500</td>\n",
       "      <td>Low Fat</td>\n",
       "      <td>0.016760</td>\n",
       "      <td>Meat</td>\n",
       "      <td>141.6180</td>\n",
       "      <td>1999</td>\n",
       "      <td>Medium</td>\n",
       "      <td>Tier 1</td>\n",
       "      <td>Supermarket Type1</td>\n",
       "      <td>2097.2700</td>\n",
       "    </tr>\n",
       "    <tr>\n",
       "      <th>3</th>\n",
       "      <td>19.200</td>\n",
       "      <td>Regular</td>\n",
       "      <td>0.000000</td>\n",
       "      <td>Fruits and Vegetables</td>\n",
       "      <td>182.0950</td>\n",
       "      <td>1998</td>\n",
       "      <td>Medium</td>\n",
       "      <td>Tier 3</td>\n",
       "      <td>Grocery Store</td>\n",
       "      <td>732.3800</td>\n",
       "    </tr>\n",
       "    <tr>\n",
       "      <th>4</th>\n",
       "      <td>8.930</td>\n",
       "      <td>Low Fat</td>\n",
       "      <td>0.000000</td>\n",
       "      <td>Household</td>\n",
       "      <td>53.8614</td>\n",
       "      <td>1987</td>\n",
       "      <td>High</td>\n",
       "      <td>Tier 3</td>\n",
       "      <td>Supermarket Type1</td>\n",
       "      <td>994.7052</td>\n",
       "    </tr>\n",
       "    <tr>\n",
       "      <th>...</th>\n",
       "      <td>...</td>\n",
       "      <td>...</td>\n",
       "      <td>...</td>\n",
       "      <td>...</td>\n",
       "      <td>...</td>\n",
       "      <td>...</td>\n",
       "      <td>...</td>\n",
       "      <td>...</td>\n",
       "      <td>...</td>\n",
       "      <td>...</td>\n",
       "    </tr>\n",
       "    <tr>\n",
       "      <th>8518</th>\n",
       "      <td>6.865</td>\n",
       "      <td>Low Fat</td>\n",
       "      <td>0.056783</td>\n",
       "      <td>Snack Foods</td>\n",
       "      <td>214.5218</td>\n",
       "      <td>1987</td>\n",
       "      <td>High</td>\n",
       "      <td>Tier 3</td>\n",
       "      <td>Supermarket Type1</td>\n",
       "      <td>2778.3834</td>\n",
       "    </tr>\n",
       "    <tr>\n",
       "      <th>8519</th>\n",
       "      <td>8.380</td>\n",
       "      <td>Regular</td>\n",
       "      <td>0.046982</td>\n",
       "      <td>Baking Goods</td>\n",
       "      <td>108.1570</td>\n",
       "      <td>2002</td>\n",
       "      <td>Medium</td>\n",
       "      <td>Tier 2</td>\n",
       "      <td>Supermarket Type1</td>\n",
       "      <td>549.2850</td>\n",
       "    </tr>\n",
       "    <tr>\n",
       "      <th>8520</th>\n",
       "      <td>10.600</td>\n",
       "      <td>Low Fat</td>\n",
       "      <td>0.035186</td>\n",
       "      <td>Health and Hygiene</td>\n",
       "      <td>85.1224</td>\n",
       "      <td>2004</td>\n",
       "      <td>Small</td>\n",
       "      <td>Tier 2</td>\n",
       "      <td>Supermarket Type1</td>\n",
       "      <td>1193.1136</td>\n",
       "    </tr>\n",
       "    <tr>\n",
       "      <th>8521</th>\n",
       "      <td>7.210</td>\n",
       "      <td>Regular</td>\n",
       "      <td>0.145221</td>\n",
       "      <td>Snack Foods</td>\n",
       "      <td>103.1332</td>\n",
       "      <td>2009</td>\n",
       "      <td>Medium</td>\n",
       "      <td>Tier 3</td>\n",
       "      <td>Supermarket Type2</td>\n",
       "      <td>1845.5976</td>\n",
       "    </tr>\n",
       "    <tr>\n",
       "      <th>8522</th>\n",
       "      <td>14.800</td>\n",
       "      <td>Low Fat</td>\n",
       "      <td>0.044878</td>\n",
       "      <td>Soft Drinks</td>\n",
       "      <td>75.4670</td>\n",
       "      <td>1997</td>\n",
       "      <td>Small</td>\n",
       "      <td>Tier 1</td>\n",
       "      <td>Supermarket Type1</td>\n",
       "      <td>765.6700</td>\n",
       "    </tr>\n",
       "  </tbody>\n",
       "</table>\n",
       "<p>8523 rows × 10 columns</p>\n",
       "</div>"
      ],
      "text/plain": [
       "      Item_Weight Item_Fat_Content  Item_Visibility              Item_Type  \\\n",
       "0           9.300          Low Fat         0.016047                  Dairy   \n",
       "1           5.920          Regular         0.019278            Soft Drinks   \n",
       "2          17.500          Low Fat         0.016760                   Meat   \n",
       "3          19.200          Regular         0.000000  Fruits and Vegetables   \n",
       "4           8.930          Low Fat         0.000000              Household   \n",
       "...           ...              ...              ...                    ...   \n",
       "8518        6.865          Low Fat         0.056783            Snack Foods   \n",
       "8519        8.380          Regular         0.046982           Baking Goods   \n",
       "8520       10.600          Low Fat         0.035186     Health and Hygiene   \n",
       "8521        7.210          Regular         0.145221            Snack Foods   \n",
       "8522       14.800          Low Fat         0.044878            Soft Drinks   \n",
       "\n",
       "      Item_MRP  Outlet_Establishment_Year Outlet_Size Outlet_Location_Type  \\\n",
       "0     249.8092                       1999      Medium               Tier 1   \n",
       "1      48.2692                       2009      Medium               Tier 3   \n",
       "2     141.6180                       1999      Medium               Tier 1   \n",
       "3     182.0950                       1998      Medium               Tier 3   \n",
       "4      53.8614                       1987        High               Tier 3   \n",
       "...        ...                        ...         ...                  ...   \n",
       "8518  214.5218                       1987        High               Tier 3   \n",
       "8519  108.1570                       2002      Medium               Tier 2   \n",
       "8520   85.1224                       2004       Small               Tier 2   \n",
       "8521  103.1332                       2009      Medium               Tier 3   \n",
       "8522   75.4670                       1997       Small               Tier 1   \n",
       "\n",
       "            Outlet_Type  Item_Outlet_Sales  \n",
       "0     Supermarket Type1          3735.1380  \n",
       "1     Supermarket Type2           443.4228  \n",
       "2     Supermarket Type1          2097.2700  \n",
       "3         Grocery Store           732.3800  \n",
       "4     Supermarket Type1           994.7052  \n",
       "...                 ...                ...  \n",
       "8518  Supermarket Type1          2778.3834  \n",
       "8519  Supermarket Type1           549.2850  \n",
       "8520  Supermarket Type1          1193.1136  \n",
       "8521  Supermarket Type2          1845.5976  \n",
       "8522  Supermarket Type1           765.6700  \n",
       "\n",
       "[8523 rows x 10 columns]"
      ]
     },
     "execution_count": 21,
     "metadata": {},
     "output_type": "execute_result"
    }
   ],
   "source": [
    "df_train"
   ]
  },
  {
   "cell_type": "code",
   "execution_count": 22,
   "id": "1c79de28",
   "metadata": {},
   "outputs": [
    {
     "data": {
      "text/html": [
       "<div>\n",
       "<style scoped>\n",
       "    .dataframe tbody tr th:only-of-type {\n",
       "        vertical-align: middle;\n",
       "    }\n",
       "\n",
       "    .dataframe tbody tr th {\n",
       "        vertical-align: top;\n",
       "    }\n",
       "\n",
       "    .dataframe thead th {\n",
       "        text-align: right;\n",
       "    }\n",
       "</style>\n",
       "<table border=\"1\" class=\"dataframe\">\n",
       "  <thead>\n",
       "    <tr style=\"text-align: right;\">\n",
       "      <th></th>\n",
       "      <th>Item_Weight</th>\n",
       "      <th>Item_Fat_Content</th>\n",
       "      <th>Item_Visibility</th>\n",
       "      <th>Item_Type</th>\n",
       "      <th>Item_MRP</th>\n",
       "      <th>Outlet_Establishment_Year</th>\n",
       "      <th>Outlet_Size</th>\n",
       "      <th>Outlet_Location_Type</th>\n",
       "      <th>Outlet_Type</th>\n",
       "    </tr>\n",
       "  </thead>\n",
       "  <tbody>\n",
       "    <tr>\n",
       "      <th>0</th>\n",
       "      <td>20.750000</td>\n",
       "      <td>Low Fat</td>\n",
       "      <td>0.007565</td>\n",
       "      <td>Snack Foods</td>\n",
       "      <td>107.8622</td>\n",
       "      <td>1999</td>\n",
       "      <td>Medium</td>\n",
       "      <td>Tier 1</td>\n",
       "      <td>Supermarket Type1</td>\n",
       "    </tr>\n",
       "    <tr>\n",
       "      <th>1</th>\n",
       "      <td>8.300000</td>\n",
       "      <td>reg</td>\n",
       "      <td>0.038428</td>\n",
       "      <td>Dairy</td>\n",
       "      <td>87.3198</td>\n",
       "      <td>2007</td>\n",
       "      <td>Medium</td>\n",
       "      <td>Tier 2</td>\n",
       "      <td>Supermarket Type1</td>\n",
       "    </tr>\n",
       "    <tr>\n",
       "      <th>2</th>\n",
       "      <td>14.600000</td>\n",
       "      <td>Low Fat</td>\n",
       "      <td>0.099575</td>\n",
       "      <td>Others</td>\n",
       "      <td>241.7538</td>\n",
       "      <td>1998</td>\n",
       "      <td>Medium</td>\n",
       "      <td>Tier 3</td>\n",
       "      <td>Grocery Store</td>\n",
       "    </tr>\n",
       "    <tr>\n",
       "      <th>3</th>\n",
       "      <td>7.315000</td>\n",
       "      <td>Low Fat</td>\n",
       "      <td>0.015388</td>\n",
       "      <td>Snack Foods</td>\n",
       "      <td>155.0340</td>\n",
       "      <td>2007</td>\n",
       "      <td>Medium</td>\n",
       "      <td>Tier 2</td>\n",
       "      <td>Supermarket Type1</td>\n",
       "    </tr>\n",
       "    <tr>\n",
       "      <th>4</th>\n",
       "      <td>12.857645</td>\n",
       "      <td>Regular</td>\n",
       "      <td>0.118599</td>\n",
       "      <td>Dairy</td>\n",
       "      <td>234.2300</td>\n",
       "      <td>1985</td>\n",
       "      <td>Medium</td>\n",
       "      <td>Tier 3</td>\n",
       "      <td>Supermarket Type3</td>\n",
       "    </tr>\n",
       "    <tr>\n",
       "      <th>...</th>\n",
       "      <td>...</td>\n",
       "      <td>...</td>\n",
       "      <td>...</td>\n",
       "      <td>...</td>\n",
       "      <td>...</td>\n",
       "      <td>...</td>\n",
       "      <td>...</td>\n",
       "      <td>...</td>\n",
       "      <td>...</td>\n",
       "    </tr>\n",
       "    <tr>\n",
       "      <th>5676</th>\n",
       "      <td>10.500000</td>\n",
       "      <td>Regular</td>\n",
       "      <td>0.013496</td>\n",
       "      <td>Snack Foods</td>\n",
       "      <td>141.3154</td>\n",
       "      <td>1997</td>\n",
       "      <td>Small</td>\n",
       "      <td>Tier 1</td>\n",
       "      <td>Supermarket Type1</td>\n",
       "    </tr>\n",
       "    <tr>\n",
       "      <th>5677</th>\n",
       "      <td>7.600000</td>\n",
       "      <td>Regular</td>\n",
       "      <td>0.142991</td>\n",
       "      <td>Starchy Foods</td>\n",
       "      <td>169.1448</td>\n",
       "      <td>2009</td>\n",
       "      <td>Medium</td>\n",
       "      <td>Tier 3</td>\n",
       "      <td>Supermarket Type2</td>\n",
       "    </tr>\n",
       "    <tr>\n",
       "      <th>5678</th>\n",
       "      <td>10.000000</td>\n",
       "      <td>Low Fat</td>\n",
       "      <td>0.073529</td>\n",
       "      <td>Health and Hygiene</td>\n",
       "      <td>118.7440</td>\n",
       "      <td>2002</td>\n",
       "      <td>Medium</td>\n",
       "      <td>Tier 2</td>\n",
       "      <td>Supermarket Type1</td>\n",
       "    </tr>\n",
       "    <tr>\n",
       "      <th>5679</th>\n",
       "      <td>15.300000</td>\n",
       "      <td>Regular</td>\n",
       "      <td>0.000000</td>\n",
       "      <td>Canned</td>\n",
       "      <td>214.6218</td>\n",
       "      <td>2007</td>\n",
       "      <td>Medium</td>\n",
       "      <td>Tier 2</td>\n",
       "      <td>Supermarket Type1</td>\n",
       "    </tr>\n",
       "    <tr>\n",
       "      <th>5680</th>\n",
       "      <td>9.500000</td>\n",
       "      <td>Regular</td>\n",
       "      <td>0.104720</td>\n",
       "      <td>Canned</td>\n",
       "      <td>79.7960</td>\n",
       "      <td>2002</td>\n",
       "      <td>Medium</td>\n",
       "      <td>Tier 2</td>\n",
       "      <td>Supermarket Type1</td>\n",
       "    </tr>\n",
       "  </tbody>\n",
       "</table>\n",
       "<p>5681 rows × 9 columns</p>\n",
       "</div>"
      ],
      "text/plain": [
       "      Item_Weight Item_Fat_Content  Item_Visibility           Item_Type  \\\n",
       "0       20.750000          Low Fat         0.007565         Snack Foods   \n",
       "1        8.300000              reg         0.038428               Dairy   \n",
       "2       14.600000          Low Fat         0.099575              Others   \n",
       "3        7.315000          Low Fat         0.015388         Snack Foods   \n",
       "4       12.857645          Regular         0.118599               Dairy   \n",
       "...           ...              ...              ...                 ...   \n",
       "5676    10.500000          Regular         0.013496         Snack Foods   \n",
       "5677     7.600000          Regular         0.142991       Starchy Foods   \n",
       "5678    10.000000          Low Fat         0.073529  Health and Hygiene   \n",
       "5679    15.300000          Regular         0.000000              Canned   \n",
       "5680     9.500000          Regular         0.104720              Canned   \n",
       "\n",
       "      Item_MRP  Outlet_Establishment_Year Outlet_Size Outlet_Location_Type  \\\n",
       "0     107.8622                       1999      Medium               Tier 1   \n",
       "1      87.3198                       2007      Medium               Tier 2   \n",
       "2     241.7538                       1998      Medium               Tier 3   \n",
       "3     155.0340                       2007      Medium               Tier 2   \n",
       "4     234.2300                       1985      Medium               Tier 3   \n",
       "...        ...                        ...         ...                  ...   \n",
       "5676  141.3154                       1997       Small               Tier 1   \n",
       "5677  169.1448                       2009      Medium               Tier 3   \n",
       "5678  118.7440                       2002      Medium               Tier 2   \n",
       "5679  214.6218                       2007      Medium               Tier 2   \n",
       "5680   79.7960                       2002      Medium               Tier 2   \n",
       "\n",
       "            Outlet_Type  \n",
       "0     Supermarket Type1  \n",
       "1     Supermarket Type1  \n",
       "2         Grocery Store  \n",
       "3     Supermarket Type1  \n",
       "4     Supermarket Type3  \n",
       "...                 ...  \n",
       "5676  Supermarket Type1  \n",
       "5677  Supermarket Type2  \n",
       "5678  Supermarket Type1  \n",
       "5679  Supermarket Type1  \n",
       "5680  Supermarket Type1  \n",
       "\n",
       "[5681 rows x 9 columns]"
      ]
     },
     "execution_count": 22,
     "metadata": {},
     "output_type": "execute_result"
    }
   ],
   "source": [
    "df_test"
   ]
  },
  {
   "cell_type": "markdown",
   "id": "d8af9a33",
   "metadata": {},
   "source": [
    "## EDA done using Klib library"
   ]
  },
  {
   "cell_type": "code",
   "execution_count": 23,
   "id": "b105871c",
   "metadata": {},
   "outputs": [],
   "source": [
    "#pip install klib"
   ]
  },
  {
   "cell_type": "code",
   "execution_count": 24,
   "id": "5f225744",
   "metadata": {},
   "outputs": [],
   "source": [
    "import klib"
   ]
  },
  {
   "cell_type": "code",
   "execution_count": 25,
   "id": "68085e5a",
   "metadata": {},
   "outputs": [
    {
     "data": {
      "text/plain": [
       "GridSpec(6, 5)"
      ]
     },
     "execution_count": 25,
     "metadata": {},
     "output_type": "execute_result"
    },
    {
     "data": {
      "image/png": "[encoded data removed]",
      "text/plain": [
       "<Figure size 1800x1800 with 11 Axes>"
      ]
     },
     "metadata": {},
     "output_type": "display_data"
    }
   ],
   "source": [
    "# klib.describe - functions for visualizing datasets\n",
    "## this will return all the frequency of categorical columns or features\n",
    "klib.cat_plot(df_train) "
   ]
  },
  {
   "cell_type": "code",
   "execution_count": 26,
   "id": "c9306fc7",
   "metadata": {},
   "outputs": [
    {
     "data": {
      "text/html": [
       "<style type=\"text/css\">\n",
       "#T_b30ca_row0_col0, #T_b30ca_row0_col2, #T_b30ca_row0_col4, #T_b30ca_row1_col1, #T_b30ca_row2_col0, #T_b30ca_row2_col2, #T_b30ca_row2_col3, #T_b30ca_row2_col4, #T_b30ca_row3_col2, #T_b30ca_row3_col3, #T_b30ca_row4_col0, #T_b30ca_row4_col2, #T_b30ca_row4_col4 {\n",
       "  color: None;\n",
       "}\n",
       "#T_b30ca_row0_col1, #T_b30ca_row0_col3, #T_b30ca_row1_col0, #T_b30ca_row1_col2, #T_b30ca_row1_col3, #T_b30ca_row1_col4, #T_b30ca_row2_col1, #T_b30ca_row3_col0, #T_b30ca_row3_col1, #T_b30ca_row3_col4, #T_b30ca_row4_col1, #T_b30ca_row4_col3 {\n",
       "  color: #FF3344;\n",
       "}\n",
       "</style>\n",
       "<table id=\"T_b30ca\">\n",
       "  <thead>\n",
       "    <tr>\n",
       "      <th class=\"blank level0\" >&nbsp;</th>\n",
       "      <th id=\"T_b30ca_level0_col0\" class=\"col_heading level0 col0\" >Item_Weight</th>\n",
       "      <th id=\"T_b30ca_level0_col1\" class=\"col_heading level0 col1\" >Item_Visibility</th>\n",
       "      <th id=\"T_b30ca_level0_col2\" class=\"col_heading level0 col2\" >Item_MRP</th>\n",
       "      <th id=\"T_b30ca_level0_col3\" class=\"col_heading level0 col3\" >Outlet_Establishment_Year</th>\n",
       "      <th id=\"T_b30ca_level0_col4\" class=\"col_heading level0 col4\" >Item_Outlet_Sales</th>\n",
       "    </tr>\n",
       "  </thead>\n",
       "  <tbody>\n",
       "    <tr>\n",
       "      <th id=\"T_b30ca_level0_row0\" class=\"row_heading level0 row0\" >Item_Weight</th>\n",
       "      <td id=\"T_b30ca_row0_col0\" class=\"data row0 col0\" >1.00</td>\n",
       "      <td id=\"T_b30ca_row0_col1\" class=\"data row0 col1\" >-0.01</td>\n",
       "      <td id=\"T_b30ca_row0_col2\" class=\"data row0 col2\" >0.02</td>\n",
       "      <td id=\"T_b30ca_row0_col3\" class=\"data row0 col3\" >-0.01</td>\n",
       "      <td id=\"T_b30ca_row0_col4\" class=\"data row0 col4\" >0.01</td>\n",
       "    </tr>\n",
       "    <tr>\n",
       "      <th id=\"T_b30ca_level0_row1\" class=\"row_heading level0 row1\" >Item_Visibility</th>\n",
       "      <td id=\"T_b30ca_row1_col0\" class=\"data row1 col0\" >-0.01</td>\n",
       "      <td id=\"T_b30ca_row1_col1\" class=\"data row1 col1\" >1.00</td>\n",
       "      <td id=\"T_b30ca_row1_col2\" class=\"data row1 col2\" >-0.00</td>\n",
       "      <td id=\"T_b30ca_row1_col3\" class=\"data row1 col3\" >-0.07</td>\n",
       "      <td id=\"T_b30ca_row1_col4\" class=\"data row1 col4\" >-0.13</td>\n",
       "    </tr>\n",
       "    <tr>\n",
       "      <th id=\"T_b30ca_level0_row2\" class=\"row_heading level0 row2\" >Item_MRP</th>\n",
       "      <td id=\"T_b30ca_row2_col0\" class=\"data row2 col0\" >0.02</td>\n",
       "      <td id=\"T_b30ca_row2_col1\" class=\"data row2 col1\" >-0.00</td>\n",
       "      <td id=\"T_b30ca_row2_col2\" class=\"data row2 col2\" >1.00</td>\n",
       "      <td id=\"T_b30ca_row2_col3\" class=\"data row2 col3\" >0.01</td>\n",
       "      <td id=\"T_b30ca_row2_col4\" class=\"data row2 col4\" >0.57</td>\n",
       "    </tr>\n",
       "    <tr>\n",
       "      <th id=\"T_b30ca_level0_row3\" class=\"row_heading level0 row3\" >Outlet_Establishment_Year</th>\n",
       "      <td id=\"T_b30ca_row3_col0\" class=\"data row3 col0\" >-0.01</td>\n",
       "      <td id=\"T_b30ca_row3_col1\" class=\"data row3 col1\" >-0.07</td>\n",
       "      <td id=\"T_b30ca_row3_col2\" class=\"data row3 col2\" >0.01</td>\n",
       "      <td id=\"T_b30ca_row3_col3\" class=\"data row3 col3\" >1.00</td>\n",
       "      <td id=\"T_b30ca_row3_col4\" class=\"data row3 col4\" >-0.05</td>\n",
       "    </tr>\n",
       "    <tr>\n",
       "      <th id=\"T_b30ca_level0_row4\" class=\"row_heading level0 row4\" >Item_Outlet_Sales</th>\n",
       "      <td id=\"T_b30ca_row4_col0\" class=\"data row4 col0\" >0.01</td>\n",
       "      <td id=\"T_b30ca_row4_col1\" class=\"data row4 col1\" >-0.13</td>\n",
       "      <td id=\"T_b30ca_row4_col2\" class=\"data row4 col2\" >0.57</td>\n",
       "      <td id=\"T_b30ca_row4_col3\" class=\"data row4 col3\" >-0.05</td>\n",
       "      <td id=\"T_b30ca_row4_col4\" class=\"data row4 col4\" >1.00</td>\n",
       "    </tr>\n",
       "  </tbody>\n",
       "</table>\n"
      ],
      "text/plain": [
       "<pandas.io.formats.style.Styler at 0x1a4a580d840>"
      ]
     },
     "execution_count": 26,
     "metadata": {},
     "output_type": "execute_result"
    }
   ],
   "source": [
    "klib.corr_mat(df_train) # returns a color-encoded correlation matrix"
   ]
  },
  {
   "cell_type": "code",
   "execution_count": 27,
   "id": "43d35a87",
   "metadata": {},
   "outputs": [
    {
     "data": {
      "text/plain": [
       "<AxesSubplot: title={'center': 'Feature-correlation (pearson)'}>"
      ]
     },
     "execution_count": 27,
     "metadata": {},
     "output_type": "execute_result"
    },
    {
     "data": {
      "image/png": "[encoded data removed]",
      "text/plain": [
       "<Figure size 1200x1000 with 2 Axes>"
      ]
     },
     "metadata": {},
     "output_type": "display_data"
    }
   ],
   "source": [
    "klib.corr_plot(df_train) # returns a color-encoded heatmap, ideal for correlations"
   ]
  },
  {
   "cell_type": "code",
   "execution_count": 28,
   "id": "cbde4db9",
   "metadata": {},
   "outputs": [
    {
     "data": {
      "text/plain": [
       "<AxesSubplot: xlabel='Item_Outlet_Sales', ylabel='Density'>"
      ]
     },
     "execution_count": 28,
     "metadata": {},
     "output_type": "execute_result"
    },
    {
     "data": {
      "image/png": "[encoded data removed]",
      "text/plain": [
       "<Figure size 1500x300 with 1 Axes>"
      ]
     },
     "metadata": {},
     "output_type": "display_data"
    },
    {
     "data": {
      "image/png": "[encoded data removed]",
      "text/plain": [
       "<Figure size 1500x300 with 1 Axes>"
      ]
     },
     "metadata": {},
     "output_type": "display_data"
    },
    {
     "data": {
      "image/png": "[encoded data removed]",
      "text/plain": [
       "<Figure size 1500x300 with 1 Axes>"
      ]
     },
     "metadata": {},
     "output_type": "display_data"
    },
    {
     "data": {
      "image/png": "[encoded data removed]",
      "text/plain": [
       "<Figure size 1500x300 with 1 Axes>"
      ]
     },
     "metadata": {},
     "output_type": "display_data"
    },
    {
     "data": {
      "image/png": "[encoded data removed]",
      "text/plain": [
       "<Figure size 1500x300 with 1 Axes>"
      ]
     },
     "metadata": {},
     "output_type": "display_data"
    }
   ],
   "source": [
    "klib.dist_plot(df_train) # returns a distribution plot for every numeric feature"
   ]
  },
  {
   "cell_type": "code",
   "execution_count": 29,
   "id": "b68f4416",
   "metadata": {},
   "outputs": [
    {
     "name": "stdout",
     "output_type": "stream",
     "text": [
      "No missing values found in the dataset.\n"
     ]
    }
   ],
   "source": [
    "klib.missingval_plot(df_train) # returns a figure containing information about missing values"
   ]
  },
  {
   "cell_type": "markdown",
   "id": "0fa98323",
   "metadata": {},
   "source": [
    "## Data cleaning Klib "
   ]
  },
  {
   "cell_type": "code",
   "execution_count": 30,
   "id": "7e67916b",
   "metadata": {},
   "outputs": [
    {
     "name": "stdout",
     "output_type": "stream",
     "text": [
      "Shape of cleaned data: (8523, 10) - Remaining NAs: 0\n",
      "\n",
      "\n",
      "Dropped rows: 0\n",
      "     of which 0 duplicates. (Rows (first 150 shown): [])\n",
      "\n",
      "Dropped columns: 0\n",
      "     of which 0 single valued.     Columns: []\n",
      "Dropped missing values: 0\n",
      "Reduced memory by at least: 0.46 MB (-70.77%)\n",
      "\n"
     ]
    },
    {
     "data": {
      "text/html": [
       "<div>\n",
       "<style scoped>\n",
       "    .dataframe tbody tr th:only-of-type {\n",
       "        vertical-align: middle;\n",
       "    }\n",
       "\n",
       "    .dataframe tbody tr th {\n",
       "        vertical-align: top;\n",
       "    }\n",
       "\n",
       "    .dataframe thead th {\n",
       "        text-align: right;\n",
       "    }\n",
       "</style>\n",
       "<table border=\"1\" class=\"dataframe\">\n",
       "  <thead>\n",
       "    <tr style=\"text-align: right;\">\n",
       "      <th></th>\n",
       "      <th>item_weight</th>\n",
       "      <th>item_fat_content</th>\n",
       "      <th>item_visibility</th>\n",
       "      <th>item_type</th>\n",
       "      <th>item_mrp</th>\n",
       "      <th>outlet_establishment_year</th>\n",
       "      <th>outlet_size</th>\n",
       "      <th>outlet_location_type</th>\n",
       "      <th>outlet_type</th>\n",
       "      <th>item_outlet_sales</th>\n",
       "    </tr>\n",
       "  </thead>\n",
       "  <tbody>\n",
       "    <tr>\n",
       "      <th>0</th>\n",
       "      <td>9.300000</td>\n",
       "      <td>Low Fat</td>\n",
       "      <td>0.016047</td>\n",
       "      <td>Dairy</td>\n",
       "      <td>249.809204</td>\n",
       "      <td>1999</td>\n",
       "      <td>Medium</td>\n",
       "      <td>Tier 1</td>\n",
       "      <td>Supermarket Type1</td>\n",
       "      <td>3735.137939</td>\n",
       "    </tr>\n",
       "    <tr>\n",
       "      <th>1</th>\n",
       "      <td>5.920000</td>\n",
       "      <td>Regular</td>\n",
       "      <td>0.019278</td>\n",
       "      <td>Soft Drinks</td>\n",
       "      <td>48.269199</td>\n",
       "      <td>2009</td>\n",
       "      <td>Medium</td>\n",
       "      <td>Tier 3</td>\n",
       "      <td>Supermarket Type2</td>\n",
       "      <td>443.422791</td>\n",
       "    </tr>\n",
       "    <tr>\n",
       "      <th>2</th>\n",
       "      <td>17.500000</td>\n",
       "      <td>Low Fat</td>\n",
       "      <td>0.016760</td>\n",
       "      <td>Meat</td>\n",
       "      <td>141.617996</td>\n",
       "      <td>1999</td>\n",
       "      <td>Medium</td>\n",
       "      <td>Tier 1</td>\n",
       "      <td>Supermarket Type1</td>\n",
       "      <td>2097.270020</td>\n",
       "    </tr>\n",
       "    <tr>\n",
       "      <th>3</th>\n",
       "      <td>19.200001</td>\n",
       "      <td>Regular</td>\n",
       "      <td>0.000000</td>\n",
       "      <td>Fruits and Vegetables</td>\n",
       "      <td>182.095001</td>\n",
       "      <td>1998</td>\n",
       "      <td>Medium</td>\n",
       "      <td>Tier 3</td>\n",
       "      <td>Grocery Store</td>\n",
       "      <td>732.380005</td>\n",
       "    </tr>\n",
       "    <tr>\n",
       "      <th>4</th>\n",
       "      <td>8.930000</td>\n",
       "      <td>Low Fat</td>\n",
       "      <td>0.000000</td>\n",
       "      <td>Household</td>\n",
       "      <td>53.861401</td>\n",
       "      <td>1987</td>\n",
       "      <td>High</td>\n",
       "      <td>Tier 3</td>\n",
       "      <td>Supermarket Type1</td>\n",
       "      <td>994.705200</td>\n",
       "    </tr>\n",
       "    <tr>\n",
       "      <th>...</th>\n",
       "      <td>...</td>\n",
       "      <td>...</td>\n",
       "      <td>...</td>\n",
       "      <td>...</td>\n",
       "      <td>...</td>\n",
       "      <td>...</td>\n",
       "      <td>...</td>\n",
       "      <td>...</td>\n",
       "      <td>...</td>\n",
       "      <td>...</td>\n",
       "    </tr>\n",
       "    <tr>\n",
       "      <th>8518</th>\n",
       "      <td>6.865000</td>\n",
       "      <td>Low Fat</td>\n",
       "      <td>0.056783</td>\n",
       "      <td>Snack Foods</td>\n",
       "      <td>214.521805</td>\n",
       "      <td>1987</td>\n",
       "      <td>High</td>\n",
       "      <td>Tier 3</td>\n",
       "      <td>Supermarket Type1</td>\n",
       "      <td>2778.383301</td>\n",
       "    </tr>\n",
       "    <tr>\n",
       "      <th>8519</th>\n",
       "      <td>8.380000</td>\n",
       "      <td>Regular</td>\n",
       "      <td>0.046982</td>\n",
       "      <td>Baking Goods</td>\n",
       "      <td>108.156998</td>\n",
       "      <td>2002</td>\n",
       "      <td>Medium</td>\n",
       "      <td>Tier 2</td>\n",
       "      <td>Supermarket Type1</td>\n",
       "      <td>549.284973</td>\n",
       "    </tr>\n",
       "    <tr>\n",
       "      <th>8520</th>\n",
       "      <td>10.600000</td>\n",
       "      <td>Low Fat</td>\n",
       "      <td>0.035186</td>\n",
       "      <td>Health and Hygiene</td>\n",
       "      <td>85.122398</td>\n",
       "      <td>2004</td>\n",
       "      <td>Small</td>\n",
       "      <td>Tier 2</td>\n",
       "      <td>Supermarket Type1</td>\n",
       "      <td>1193.113647</td>\n",
       "    </tr>\n",
       "    <tr>\n",
       "      <th>8521</th>\n",
       "      <td>7.210000</td>\n",
       "      <td>Regular</td>\n",
       "      <td>0.145221</td>\n",
       "      <td>Snack Foods</td>\n",
       "      <td>103.133202</td>\n",
       "      <td>2009</td>\n",
       "      <td>Medium</td>\n",
       "      <td>Tier 3</td>\n",
       "      <td>Supermarket Type2</td>\n",
       "      <td>1845.597656</td>\n",
       "    </tr>\n",
       "    <tr>\n",
       "      <th>8522</th>\n",
       "      <td>14.800000</td>\n",
       "      <td>Low Fat</td>\n",
       "      <td>0.044878</td>\n",
       "      <td>Soft Drinks</td>\n",
       "      <td>75.467003</td>\n",
       "      <td>1997</td>\n",
       "      <td>Small</td>\n",
       "      <td>Tier 1</td>\n",
       "      <td>Supermarket Type1</td>\n",
       "      <td>765.669983</td>\n",
       "    </tr>\n",
       "  </tbody>\n",
       "</table>\n",
       "<p>8523 rows × 10 columns</p>\n",
       "</div>"
      ],
      "text/plain": [
       "      item_weight item_fat_content  item_visibility              item_type  \\\n",
       "0        9.300000          Low Fat         0.016047                  Dairy   \n",
       "1        5.920000          Regular         0.019278            Soft Drinks   \n",
       "2       17.500000          Low Fat         0.016760                   Meat   \n",
       "3       19.200001          Regular         0.000000  Fruits and Vegetables   \n",
       "4        8.930000          Low Fat         0.000000              Household   \n",
       "...           ...              ...              ...                    ...   \n",
       "8518     6.865000          Low Fat         0.056783            Snack Foods   \n",
       "8519     8.380000          Regular         0.046982           Baking Goods   \n",
       "8520    10.600000          Low Fat         0.035186     Health and Hygiene   \n",
       "8521     7.210000          Regular         0.145221            Snack Foods   \n",
       "8522    14.800000          Low Fat         0.044878            Soft Drinks   \n",
       "\n",
       "        item_mrp  outlet_establishment_year outlet_size outlet_location_type  \\\n",
       "0     249.809204                       1999      Medium               Tier 1   \n",
       "1      48.269199                       2009      Medium               Tier 3   \n",
       "2     141.617996                       1999      Medium               Tier 1   \n",
       "3     182.095001                       1998      Medium               Tier 3   \n",
       "4      53.861401                       1987        High               Tier 3   \n",
       "...          ...                        ...         ...                  ...   \n",
       "8518  214.521805                       1987        High               Tier 3   \n",
       "8519  108.156998                       2002      Medium               Tier 2   \n",
       "8520   85.122398                       2004       Small               Tier 2   \n",
       "8521  103.133202                       2009      Medium               Tier 3   \n",
       "8522   75.467003                       1997       Small               Tier 1   \n",
       "\n",
       "            outlet_type  item_outlet_sales  \n",
       "0     Supermarket Type1        3735.137939  \n",
       "1     Supermarket Type2         443.422791  \n",
       "2     Supermarket Type1        2097.270020  \n",
       "3         Grocery Store         732.380005  \n",
       "4     Supermarket Type1         994.705200  \n",
       "...                 ...                ...  \n",
       "8518  Supermarket Type1        2778.383301  \n",
       "8519  Supermarket Type1         549.284973  \n",
       "8520  Supermarket Type1        1193.113647  \n",
       "8521  Supermarket Type2        1845.597656  \n",
       "8522  Supermarket Type1         765.669983  \n",
       "\n",
       "[8523 rows x 10 columns]"
      ]
     },
     "execution_count": 30,
     "metadata": {},
     "output_type": "execute_result"
    }
   ],
   "source": [
    "# klib.clean - functions for cleaning datasets\n",
    "klib.data_cleaning(df_train) # performs datacleaning (drop duplicates & empty rows/cols, adjust dtypes,...)"
   ]
  },
  {
   "cell_type": "code",
   "execution_count": 31,
   "id": "fda258c1",
   "metadata": {},
   "outputs": [
    {
     "data": {
      "text/html": [
       "<div>\n",
       "<style scoped>\n",
       "    .dataframe tbody tr th:only-of-type {\n",
       "        vertical-align: middle;\n",
       "    }\n",
       "\n",
       "    .dataframe tbody tr th {\n",
       "        vertical-align: top;\n",
       "    }\n",
       "\n",
       "    .dataframe thead th {\n",
       "        text-align: right;\n",
       "    }\n",
       "</style>\n",
       "<table border=\"1\" class=\"dataframe\">\n",
       "  <thead>\n",
       "    <tr style=\"text-align: right;\">\n",
       "      <th></th>\n",
       "      <th>item_weight</th>\n",
       "      <th>item_fat_content</th>\n",
       "      <th>item_visibility</th>\n",
       "      <th>item_type</th>\n",
       "      <th>item_mrp</th>\n",
       "      <th>outlet_establishment_year</th>\n",
       "      <th>outlet_size</th>\n",
       "      <th>outlet_location_type</th>\n",
       "      <th>outlet_type</th>\n",
       "      <th>item_outlet_sales</th>\n",
       "    </tr>\n",
       "  </thead>\n",
       "  <tbody>\n",
       "    <tr>\n",
       "      <th>0</th>\n",
       "      <td>9.300</td>\n",
       "      <td>Low Fat</td>\n",
       "      <td>0.016047</td>\n",
       "      <td>Dairy</td>\n",
       "      <td>249.8092</td>\n",
       "      <td>1999</td>\n",
       "      <td>Medium</td>\n",
       "      <td>Tier 1</td>\n",
       "      <td>Supermarket Type1</td>\n",
       "      <td>3735.1380</td>\n",
       "    </tr>\n",
       "    <tr>\n",
       "      <th>1</th>\n",
       "      <td>5.920</td>\n",
       "      <td>Regular</td>\n",
       "      <td>0.019278</td>\n",
       "      <td>Soft Drinks</td>\n",
       "      <td>48.2692</td>\n",
       "      <td>2009</td>\n",
       "      <td>Medium</td>\n",
       "      <td>Tier 3</td>\n",
       "      <td>Supermarket Type2</td>\n",
       "      <td>443.4228</td>\n",
       "    </tr>\n",
       "    <tr>\n",
       "      <th>2</th>\n",
       "      <td>17.500</td>\n",
       "      <td>Low Fat</td>\n",
       "      <td>0.016760</td>\n",
       "      <td>Meat</td>\n",
       "      <td>141.6180</td>\n",
       "      <td>1999</td>\n",
       "      <td>Medium</td>\n",
       "      <td>Tier 1</td>\n",
       "      <td>Supermarket Type1</td>\n",
       "      <td>2097.2700</td>\n",
       "    </tr>\n",
       "    <tr>\n",
       "      <th>3</th>\n",
       "      <td>19.200</td>\n",
       "      <td>Regular</td>\n",
       "      <td>0.000000</td>\n",
       "      <td>Fruits and Vegetables</td>\n",
       "      <td>182.0950</td>\n",
       "      <td>1998</td>\n",
       "      <td>Medium</td>\n",
       "      <td>Tier 3</td>\n",
       "      <td>Grocery Store</td>\n",
       "      <td>732.3800</td>\n",
       "    </tr>\n",
       "    <tr>\n",
       "      <th>4</th>\n",
       "      <td>8.930</td>\n",
       "      <td>Low Fat</td>\n",
       "      <td>0.000000</td>\n",
       "      <td>Household</td>\n",
       "      <td>53.8614</td>\n",
       "      <td>1987</td>\n",
       "      <td>High</td>\n",
       "      <td>Tier 3</td>\n",
       "      <td>Supermarket Type1</td>\n",
       "      <td>994.7052</td>\n",
       "    </tr>\n",
       "    <tr>\n",
       "      <th>...</th>\n",
       "      <td>...</td>\n",
       "      <td>...</td>\n",
       "      <td>...</td>\n",
       "      <td>...</td>\n",
       "      <td>...</td>\n",
       "      <td>...</td>\n",
       "      <td>...</td>\n",
       "      <td>...</td>\n",
       "      <td>...</td>\n",
       "      <td>...</td>\n",
       "    </tr>\n",
       "    <tr>\n",
       "      <th>8518</th>\n",
       "      <td>6.865</td>\n",
       "      <td>Low Fat</td>\n",
       "      <td>0.056783</td>\n",
       "      <td>Snack Foods</td>\n",
       "      <td>214.5218</td>\n",
       "      <td>1987</td>\n",
       "      <td>High</td>\n",
       "      <td>Tier 3</td>\n",
       "      <td>Supermarket Type1</td>\n",
       "      <td>2778.3834</td>\n",
       "    </tr>\n",
       "    <tr>\n",
       "      <th>8519</th>\n",
       "      <td>8.380</td>\n",
       "      <td>Regular</td>\n",
       "      <td>0.046982</td>\n",
       "      <td>Baking Goods</td>\n",
       "      <td>108.1570</td>\n",
       "      <td>2002</td>\n",
       "      <td>Medium</td>\n",
       "      <td>Tier 2</td>\n",
       "      <td>Supermarket Type1</td>\n",
       "      <td>549.2850</td>\n",
       "    </tr>\n",
       "    <tr>\n",
       "      <th>8520</th>\n",
       "      <td>10.600</td>\n",
       "      <td>Low Fat</td>\n",
       "      <td>0.035186</td>\n",
       "      <td>Health and Hygiene</td>\n",
       "      <td>85.1224</td>\n",
       "      <td>2004</td>\n",
       "      <td>Small</td>\n",
       "      <td>Tier 2</td>\n",
       "      <td>Supermarket Type1</td>\n",
       "      <td>1193.1136</td>\n",
       "    </tr>\n",
       "    <tr>\n",
       "      <th>8521</th>\n",
       "      <td>7.210</td>\n",
       "      <td>Regular</td>\n",
       "      <td>0.145221</td>\n",
       "      <td>Snack Foods</td>\n",
       "      <td>103.1332</td>\n",
       "      <td>2009</td>\n",
       "      <td>Medium</td>\n",
       "      <td>Tier 3</td>\n",
       "      <td>Supermarket Type2</td>\n",
       "      <td>1845.5976</td>\n",
       "    </tr>\n",
       "    <tr>\n",
       "      <th>8522</th>\n",
       "      <td>14.800</td>\n",
       "      <td>Low Fat</td>\n",
       "      <td>0.044878</td>\n",
       "      <td>Soft Drinks</td>\n",
       "      <td>75.4670</td>\n",
       "      <td>1997</td>\n",
       "      <td>Small</td>\n",
       "      <td>Tier 1</td>\n",
       "      <td>Supermarket Type1</td>\n",
       "      <td>765.6700</td>\n",
       "    </tr>\n",
       "  </tbody>\n",
       "</table>\n",
       "<p>8523 rows × 10 columns</p>\n",
       "</div>"
      ],
      "text/plain": [
       "      item_weight item_fat_content  item_visibility              item_type  \\\n",
       "0           9.300          Low Fat         0.016047                  Dairy   \n",
       "1           5.920          Regular         0.019278            Soft Drinks   \n",
       "2          17.500          Low Fat         0.016760                   Meat   \n",
       "3          19.200          Regular         0.000000  Fruits and Vegetables   \n",
       "4           8.930          Low Fat         0.000000              Household   \n",
       "...           ...              ...              ...                    ...   \n",
       "8518        6.865          Low Fat         0.056783            Snack Foods   \n",
       "8519        8.380          Regular         0.046982           Baking Goods   \n",
       "8520       10.600          Low Fat         0.035186     Health and Hygiene   \n",
       "8521        7.210          Regular         0.145221            Snack Foods   \n",
       "8522       14.800          Low Fat         0.044878            Soft Drinks   \n",
       "\n",
       "      item_mrp  outlet_establishment_year outlet_size outlet_location_type  \\\n",
       "0     249.8092                       1999      Medium               Tier 1   \n",
       "1      48.2692                       2009      Medium               Tier 3   \n",
       "2     141.6180                       1999      Medium               Tier 1   \n",
       "3     182.0950                       1998      Medium               Tier 3   \n",
       "4      53.8614                       1987        High               Tier 3   \n",
       "...        ...                        ...         ...                  ...   \n",
       "8518  214.5218                       1987        High               Tier 3   \n",
       "8519  108.1570                       2002      Medium               Tier 2   \n",
       "8520   85.1224                       2004       Small               Tier 2   \n",
       "8521  103.1332                       2009      Medium               Tier 3   \n",
       "8522   75.4670                       1997       Small               Tier 1   \n",
       "\n",
       "            outlet_type  item_outlet_sales  \n",
       "0     Supermarket Type1          3735.1380  \n",
       "1     Supermarket Type2           443.4228  \n",
       "2     Supermarket Type1          2097.2700  \n",
       "3         Grocery Store           732.3800  \n",
       "4     Supermarket Type1           994.7052  \n",
       "...                 ...                ...  \n",
       "8518  Supermarket Type1          2778.3834  \n",
       "8519  Supermarket Type1           549.2850  \n",
       "8520  Supermarket Type1          1193.1136  \n",
       "8521  Supermarket Type2          1845.5976  \n",
       "8522  Supermarket Type1           765.6700  \n",
       "\n",
       "[8523 rows x 10 columns]"
      ]
     },
     "execution_count": 31,
     "metadata": {},
     "output_type": "execute_result"
    }
   ],
   "source": [
    "klib.clean_column_names(df_train) # cleans and standardizes column names, also called inside data_cleaning()"
   ]
  },
  {
   "cell_type": "code",
   "execution_count": 32,
   "id": "df05c989",
   "metadata": {},
   "outputs": [
    {
     "name": "stdout",
     "output_type": "stream",
     "text": [
      "<class 'pandas.core.frame.DataFrame'>\n",
      "RangeIndex: 8523 entries, 0 to 8522\n",
      "Data columns (total 10 columns):\n",
      " #   Column                     Non-Null Count  Dtype  \n",
      "---  ------                     --------------  -----  \n",
      " 0   item_weight                8523 non-null   float64\n",
      " 1   item_fat_content           8523 non-null   object \n",
      " 2   item_visibility            8523 non-null   float64\n",
      " 3   item_type                  8523 non-null   object \n",
      " 4   item_mrp                   8523 non-null   float64\n",
      " 5   outlet_establishment_year  8523 non-null   int64  \n",
      " 6   outlet_size                8523 non-null   object \n",
      " 7   outlet_location_type       8523 non-null   object \n",
      " 8   outlet_type                8523 non-null   object \n",
      " 9   item_outlet_sales          8523 non-null   float64\n",
      "dtypes: float64(4), int64(1), object(5)\n",
      "memory usage: 666.0+ KB\n"
     ]
    }
   ],
   "source": [
    "df_train.info()"
   ]
  },
  {
   "cell_type": "code",
   "execution_count": 33,
   "id": "084eb9f0",
   "metadata": {},
   "outputs": [
    {
     "name": "stdout",
     "output_type": "stream",
     "text": [
      "<class 'pandas.core.frame.DataFrame'>\n",
      "RangeIndex: 8523 entries, 0 to 8522\n",
      "Data columns (total 10 columns):\n",
      " #   Column                     Non-Null Count  Dtype   \n",
      "---  ------                     --------------  -----   \n",
      " 0   item_weight                8523 non-null   float32 \n",
      " 1   item_fat_content           8523 non-null   category\n",
      " 2   item_visibility            8523 non-null   float32 \n",
      " 3   item_type                  8523 non-null   category\n",
      " 4   item_mrp                   8523 non-null   float32 \n",
      " 5   outlet_establishment_year  8523 non-null   int16   \n",
      " 6   outlet_size                8523 non-null   category\n",
      " 7   outlet_location_type       8523 non-null   category\n",
      " 8   outlet_type                8523 non-null   category\n",
      " 9   item_outlet_sales          8523 non-null   float32 \n",
      "dtypes: category(5), float32(4), int16(1)\n",
      "memory usage: 192.9 KB\n"
     ]
    }
   ],
   "source": [
    "df_train=klib.convert_datatypes(df_train) # converts existing to more efficient dtypes, also called inside data_cleaning()\n",
    "df_train.info()"
   ]
  },
  {
   "cell_type": "code",
   "execution_count": 34,
   "id": "db05af9e",
   "metadata": {},
   "outputs": [
    {
     "data": {
      "text/html": [
       "<div>\n",
       "<style scoped>\n",
       "    .dataframe tbody tr th:only-of-type {\n",
       "        vertical-align: middle;\n",
       "    }\n",
       "\n",
       "    .dataframe tbody tr th {\n",
       "        vertical-align: top;\n",
       "    }\n",
       "\n",
       "    .dataframe thead th {\n",
       "        text-align: right;\n",
       "    }\n",
       "</style>\n",
       "<table border=\"1\" class=\"dataframe\">\n",
       "  <thead>\n",
       "    <tr style=\"text-align: right;\">\n",
       "      <th></th>\n",
       "      <th>item_weight</th>\n",
       "      <th>item_fat_content</th>\n",
       "      <th>item_visibility</th>\n",
       "      <th>item_type</th>\n",
       "      <th>item_mrp</th>\n",
       "      <th>outlet_establishment_year</th>\n",
       "      <th>outlet_size</th>\n",
       "      <th>outlet_location_type</th>\n",
       "      <th>outlet_type</th>\n",
       "      <th>item_outlet_sales</th>\n",
       "    </tr>\n",
       "  </thead>\n",
       "  <tbody>\n",
       "    <tr>\n",
       "      <th>0</th>\n",
       "      <td>9.300000</td>\n",
       "      <td>Low Fat</td>\n",
       "      <td>0.016047</td>\n",
       "      <td>Dairy</td>\n",
       "      <td>249.809204</td>\n",
       "      <td>1999</td>\n",
       "      <td>Medium</td>\n",
       "      <td>Tier 1</td>\n",
       "      <td>Supermarket Type1</td>\n",
       "      <td>3735.137939</td>\n",
       "    </tr>\n",
       "    <tr>\n",
       "      <th>1</th>\n",
       "      <td>5.920000</td>\n",
       "      <td>Regular</td>\n",
       "      <td>0.019278</td>\n",
       "      <td>Soft Drinks</td>\n",
       "      <td>48.269199</td>\n",
       "      <td>2009</td>\n",
       "      <td>Medium</td>\n",
       "      <td>Tier 3</td>\n",
       "      <td>Supermarket Type2</td>\n",
       "      <td>443.422791</td>\n",
       "    </tr>\n",
       "    <tr>\n",
       "      <th>2</th>\n",
       "      <td>17.500000</td>\n",
       "      <td>Low Fat</td>\n",
       "      <td>0.016760</td>\n",
       "      <td>Meat</td>\n",
       "      <td>141.617996</td>\n",
       "      <td>1999</td>\n",
       "      <td>Medium</td>\n",
       "      <td>Tier 1</td>\n",
       "      <td>Supermarket Type1</td>\n",
       "      <td>2097.270020</td>\n",
       "    </tr>\n",
       "    <tr>\n",
       "      <th>3</th>\n",
       "      <td>19.200001</td>\n",
       "      <td>Regular</td>\n",
       "      <td>0.000000</td>\n",
       "      <td>Fruits and Vegetables</td>\n",
       "      <td>182.095001</td>\n",
       "      <td>1998</td>\n",
       "      <td>Medium</td>\n",
       "      <td>Tier 3</td>\n",
       "      <td>Grocery Store</td>\n",
       "      <td>732.380005</td>\n",
       "    </tr>\n",
       "    <tr>\n",
       "      <th>4</th>\n",
       "      <td>8.930000</td>\n",
       "      <td>Low Fat</td>\n",
       "      <td>0.000000</td>\n",
       "      <td>Household</td>\n",
       "      <td>53.861401</td>\n",
       "      <td>1987</td>\n",
       "      <td>High</td>\n",
       "      <td>Tier 3</td>\n",
       "      <td>Supermarket Type1</td>\n",
       "      <td>994.705200</td>\n",
       "    </tr>\n",
       "    <tr>\n",
       "      <th>...</th>\n",
       "      <td>...</td>\n",
       "      <td>...</td>\n",
       "      <td>...</td>\n",
       "      <td>...</td>\n",
       "      <td>...</td>\n",
       "      <td>...</td>\n",
       "      <td>...</td>\n",
       "      <td>...</td>\n",
       "      <td>...</td>\n",
       "      <td>...</td>\n",
       "    </tr>\n",
       "    <tr>\n",
       "      <th>8518</th>\n",
       "      <td>6.865000</td>\n",
       "      <td>Low Fat</td>\n",
       "      <td>0.056783</td>\n",
       "      <td>Snack Foods</td>\n",
       "      <td>214.521805</td>\n",
       "      <td>1987</td>\n",
       "      <td>High</td>\n",
       "      <td>Tier 3</td>\n",
       "      <td>Supermarket Type1</td>\n",
       "      <td>2778.383301</td>\n",
       "    </tr>\n",
       "    <tr>\n",
       "      <th>8519</th>\n",
       "      <td>8.380000</td>\n",
       "      <td>Regular</td>\n",
       "      <td>0.046982</td>\n",
       "      <td>Baking Goods</td>\n",
       "      <td>108.156998</td>\n",
       "      <td>2002</td>\n",
       "      <td>Medium</td>\n",
       "      <td>Tier 2</td>\n",
       "      <td>Supermarket Type1</td>\n",
       "      <td>549.284973</td>\n",
       "    </tr>\n",
       "    <tr>\n",
       "      <th>8520</th>\n",
       "      <td>10.600000</td>\n",
       "      <td>Low Fat</td>\n",
       "      <td>0.035186</td>\n",
       "      <td>Health and Hygiene</td>\n",
       "      <td>85.122398</td>\n",
       "      <td>2004</td>\n",
       "      <td>Small</td>\n",
       "      <td>Tier 2</td>\n",
       "      <td>Supermarket Type1</td>\n",
       "      <td>1193.113647</td>\n",
       "    </tr>\n",
       "    <tr>\n",
       "      <th>8521</th>\n",
       "      <td>7.210000</td>\n",
       "      <td>Regular</td>\n",
       "      <td>0.145221</td>\n",
       "      <td>Snack Foods</td>\n",
       "      <td>103.133202</td>\n",
       "      <td>2009</td>\n",
       "      <td>Medium</td>\n",
       "      <td>Tier 3</td>\n",
       "      <td>Supermarket Type2</td>\n",
       "      <td>1845.597656</td>\n",
       "    </tr>\n",
       "    <tr>\n",
       "      <th>8522</th>\n",
       "      <td>14.800000</td>\n",
       "      <td>Low Fat</td>\n",
       "      <td>0.044878</td>\n",
       "      <td>Soft Drinks</td>\n",
       "      <td>75.467003</td>\n",
       "      <td>1997</td>\n",
       "      <td>Small</td>\n",
       "      <td>Tier 1</td>\n",
       "      <td>Supermarket Type1</td>\n",
       "      <td>765.669983</td>\n",
       "    </tr>\n",
       "  </tbody>\n",
       "</table>\n",
       "<p>8523 rows × 10 columns</p>\n",
       "</div>"
      ],
      "text/plain": [
       "      item_weight item_fat_content  item_visibility              item_type  \\\n",
       "0        9.300000          Low Fat         0.016047                  Dairy   \n",
       "1        5.920000          Regular         0.019278            Soft Drinks   \n",
       "2       17.500000          Low Fat         0.016760                   Meat   \n",
       "3       19.200001          Regular         0.000000  Fruits and Vegetables   \n",
       "4        8.930000          Low Fat         0.000000              Household   \n",
       "...           ...              ...              ...                    ...   \n",
       "8518     6.865000          Low Fat         0.056783            Snack Foods   \n",
       "8519     8.380000          Regular         0.046982           Baking Goods   \n",
       "8520    10.600000          Low Fat         0.035186     Health and Hygiene   \n",
       "8521     7.210000          Regular         0.145221            Snack Foods   \n",
       "8522    14.800000          Low Fat         0.044878            Soft Drinks   \n",
       "\n",
       "        item_mrp  outlet_establishment_year outlet_size outlet_location_type  \\\n",
       "0     249.809204                       1999      Medium               Tier 1   \n",
       "1      48.269199                       2009      Medium               Tier 3   \n",
       "2     141.617996                       1999      Medium               Tier 1   \n",
       "3     182.095001                       1998      Medium               Tier 3   \n",
       "4      53.861401                       1987        High               Tier 3   \n",
       "...          ...                        ...         ...                  ...   \n",
       "8518  214.521805                       1987        High               Tier 3   \n",
       "8519  108.156998                       2002      Medium               Tier 2   \n",
       "8520   85.122398                       2004       Small               Tier 2   \n",
       "8521  103.133202                       2009      Medium               Tier 3   \n",
       "8522   75.467003                       1997       Small               Tier 1   \n",
       "\n",
       "            outlet_type  item_outlet_sales  \n",
       "0     Supermarket Type1        3735.137939  \n",
       "1     Supermarket Type2         443.422791  \n",
       "2     Supermarket Type1        2097.270020  \n",
       "3         Grocery Store         732.380005  \n",
       "4     Supermarket Type1         994.705200  \n",
       "...                 ...                ...  \n",
       "8518  Supermarket Type1        2778.383301  \n",
       "8519  Supermarket Type1         549.284973  \n",
       "8520  Supermarket Type1        1193.113647  \n",
       "8521  Supermarket Type2        1845.597656  \n",
       "8522  Supermarket Type1         765.669983  \n",
       "\n",
       "[8523 rows x 10 columns]"
      ]
     },
     "execution_count": 34,
     "metadata": {},
     "output_type": "execute_result"
    }
   ],
   "source": [
    "klib.mv_col_handling(df_train)"
   ]
  },
  {
   "cell_type": "markdown",
   "id": "003379af",
   "metadata": {},
   "source": [
    "## Preprocessing Task before Model Building"
   ]
  },
  {
   "cell_type": "markdown",
   "id": "913b4752",
   "metadata": {},
   "source": [
    "## 1) Label encoding"
   ]
  },
  {
   "cell_type": "code",
   "execution_count": 35,
   "id": "4fdde05e",
   "metadata": {},
   "outputs": [],
   "source": [
    "from sklearn.preprocessing import LabelEncoder\n",
    "le=LabelEncoder()"
   ]
  },
  {
   "cell_type": "code",
   "execution_count": 36,
   "id": "aa23fd11",
   "metadata": {},
   "outputs": [],
   "source": [
    "df_train['item_fat_content']= le.fit_transform(df_train['item_fat_content'])\n",
    "df_train['item_type']= le.fit_transform(df_train['item_type'])\n",
    "df_train['outlet_size']= le.fit_transform(df_train['outlet_size'])\n",
    "df_train['outlet_location_type']= le.fit_transform(df_train['outlet_location_type'])\n",
    "df_train['outlet_type']= le.fit_transform(df_train['outlet_type'])"
   ]
  },
  {
   "cell_type": "code",
   "execution_count": 37,
   "id": "fa12d923",
   "metadata": {},
   "outputs": [
    {
     "data": {
      "text/html": [
       "<div>\n",
       "<style scoped>\n",
       "    .dataframe tbody tr th:only-of-type {\n",
       "        vertical-align: middle;\n",
       "    }\n",
       "\n",
       "    .dataframe tbody tr th {\n",
       "        vertical-align: top;\n",
       "    }\n",
       "\n",
       "    .dataframe thead th {\n",
       "        text-align: right;\n",
       "    }\n",
       "</style>\n",
       "<table border=\"1\" class=\"dataframe\">\n",
       "  <thead>\n",
       "    <tr style=\"text-align: right;\">\n",
       "      <th></th>\n",
       "      <th>item_weight</th>\n",
       "      <th>item_fat_content</th>\n",
       "      <th>item_visibility</th>\n",
       "      <th>item_type</th>\n",
       "      <th>item_mrp</th>\n",
       "      <th>outlet_establishment_year</th>\n",
       "      <th>outlet_size</th>\n",
       "      <th>outlet_location_type</th>\n",
       "      <th>outlet_type</th>\n",
       "      <th>item_outlet_sales</th>\n",
       "    </tr>\n",
       "  </thead>\n",
       "  <tbody>\n",
       "    <tr>\n",
       "      <th>0</th>\n",
       "      <td>9.300000</td>\n",
       "      <td>1</td>\n",
       "      <td>0.016047</td>\n",
       "      <td>4</td>\n",
       "      <td>249.809204</td>\n",
       "      <td>1999</td>\n",
       "      <td>1</td>\n",
       "      <td>0</td>\n",
       "      <td>1</td>\n",
       "      <td>3735.137939</td>\n",
       "    </tr>\n",
       "    <tr>\n",
       "      <th>1</th>\n",
       "      <td>5.920000</td>\n",
       "      <td>2</td>\n",
       "      <td>0.019278</td>\n",
       "      <td>14</td>\n",
       "      <td>48.269199</td>\n",
       "      <td>2009</td>\n",
       "      <td>1</td>\n",
       "      <td>2</td>\n",
       "      <td>2</td>\n",
       "      <td>443.422791</td>\n",
       "    </tr>\n",
       "    <tr>\n",
       "      <th>2</th>\n",
       "      <td>17.500000</td>\n",
       "      <td>1</td>\n",
       "      <td>0.016760</td>\n",
       "      <td>10</td>\n",
       "      <td>141.617996</td>\n",
       "      <td>1999</td>\n",
       "      <td>1</td>\n",
       "      <td>0</td>\n",
       "      <td>1</td>\n",
       "      <td>2097.270020</td>\n",
       "    </tr>\n",
       "    <tr>\n",
       "      <th>3</th>\n",
       "      <td>19.200001</td>\n",
       "      <td>2</td>\n",
       "      <td>0.000000</td>\n",
       "      <td>6</td>\n",
       "      <td>182.095001</td>\n",
       "      <td>1998</td>\n",
       "      <td>1</td>\n",
       "      <td>2</td>\n",
       "      <td>0</td>\n",
       "      <td>732.380005</td>\n",
       "    </tr>\n",
       "    <tr>\n",
       "      <th>4</th>\n",
       "      <td>8.930000</td>\n",
       "      <td>1</td>\n",
       "      <td>0.000000</td>\n",
       "      <td>9</td>\n",
       "      <td>53.861401</td>\n",
       "      <td>1987</td>\n",
       "      <td>0</td>\n",
       "      <td>2</td>\n",
       "      <td>1</td>\n",
       "      <td>994.705200</td>\n",
       "    </tr>\n",
       "  </tbody>\n",
       "</table>\n",
       "</div>"
      ],
      "text/plain": [
       "   item_weight  item_fat_content  item_visibility  item_type    item_mrp  \\\n",
       "0     9.300000                 1         0.016047          4  249.809204   \n",
       "1     5.920000                 2         0.019278         14   48.269199   \n",
       "2    17.500000                 1         0.016760         10  141.617996   \n",
       "3    19.200001                 2         0.000000          6  182.095001   \n",
       "4     8.930000                 1         0.000000          9   53.861401   \n",
       "\n",
       "   outlet_establishment_year  outlet_size  outlet_location_type  outlet_type  \\\n",
       "0                       1999            1                     0            1   \n",
       "1                       2009            1                     2            2   \n",
       "2                       1999            1                     0            1   \n",
       "3                       1998            1                     2            0   \n",
       "4                       1987            0                     2            1   \n",
       "\n",
       "   item_outlet_sales  \n",
       "0        3735.137939  \n",
       "1         443.422791  \n",
       "2        2097.270020  \n",
       "3         732.380005  \n",
       "4         994.705200  "
      ]
     },
     "execution_count": 37,
     "metadata": {},
     "output_type": "execute_result"
    }
   ],
   "source": [
    "df_train.head(5)"
   ]
  },
  {
   "cell_type": "markdown",
   "id": "8ac7207f",
   "metadata": {},
   "source": [
    "## 2) Splitting our data into train and test files"
   ]
  },
  {
   "cell_type": "code",
   "execution_count": 38,
   "id": "f34c451d",
   "metadata": {},
   "outputs": [],
   "source": [
    "X=df_train.drop('item_outlet_sales',axis=1)"
   ]
  },
  {
   "cell_type": "code",
   "execution_count": 39,
   "id": "adf57190",
   "metadata": {},
   "outputs": [],
   "source": [
    "Y=df_train['item_outlet_sales']"
   ]
  },
  {
   "cell_type": "code",
   "execution_count": 40,
   "id": "4321775d",
   "metadata": {},
   "outputs": [],
   "source": [
    "np.random.seed(42)\n",
    "from sklearn.model_selection import train_test_split\n",
    "\n",
    "X_train, X_test, Y_train, Y_test = train_test_split(X,Y,test_size=0.2)"
   ]
  },
  {
   "cell_type": "markdown",
   "id": "10805e3b",
   "metadata": {},
   "source": [
    "#### Standarization for fitting into the model values between 0-1"
   ]
  },
  {
   "cell_type": "code",
   "execution_count": 41,
   "id": "511be4bc",
   "metadata": {},
   "outputs": [
    {
     "data": {
      "text/html": [
       "<div>\n",
       "<style scoped>\n",
       "    .dataframe tbody tr th:only-of-type {\n",
       "        vertical-align: middle;\n",
       "    }\n",
       "\n",
       "    .dataframe tbody tr th {\n",
       "        vertical-align: top;\n",
       "    }\n",
       "\n",
       "    .dataframe thead th {\n",
       "        text-align: right;\n",
       "    }\n",
       "</style>\n",
       "<table border=\"1\" class=\"dataframe\">\n",
       "  <thead>\n",
       "    <tr style=\"text-align: right;\">\n",
       "      <th></th>\n",
       "      <th>item_weight</th>\n",
       "      <th>item_fat_content</th>\n",
       "      <th>item_visibility</th>\n",
       "      <th>item_type</th>\n",
       "      <th>item_mrp</th>\n",
       "      <th>outlet_establishment_year</th>\n",
       "      <th>outlet_size</th>\n",
       "      <th>outlet_location_type</th>\n",
       "      <th>outlet_type</th>\n",
       "    </tr>\n",
       "  </thead>\n",
       "  <tbody>\n",
       "    <tr>\n",
       "      <th>count</th>\n",
       "      <td>8523.000000</td>\n",
       "      <td>8523.000000</td>\n",
       "      <td>8523.000000</td>\n",
       "      <td>8523.000000</td>\n",
       "      <td>8523.000000</td>\n",
       "      <td>8523.000000</td>\n",
       "      <td>8523.000000</td>\n",
       "      <td>8523.000000</td>\n",
       "      <td>8523.000000</td>\n",
       "    </tr>\n",
       "    <tr>\n",
       "      <th>mean</th>\n",
       "      <td>12.857646</td>\n",
       "      <td>1.369354</td>\n",
       "      <td>0.066132</td>\n",
       "      <td>7.226681</td>\n",
       "      <td>140.992767</td>\n",
       "      <td>1997.831867</td>\n",
       "      <td>1.170832</td>\n",
       "      <td>1.112871</td>\n",
       "      <td>1.201220</td>\n",
       "    </tr>\n",
       "    <tr>\n",
       "      <th>std</th>\n",
       "      <td>4.226130</td>\n",
       "      <td>0.644810</td>\n",
       "      <td>0.051598</td>\n",
       "      <td>4.209990</td>\n",
       "      <td>62.275051</td>\n",
       "      <td>8.371760</td>\n",
       "      <td>0.600327</td>\n",
       "      <td>0.812757</td>\n",
       "      <td>0.796459</td>\n",
       "    </tr>\n",
       "    <tr>\n",
       "      <th>min</th>\n",
       "      <td>4.555000</td>\n",
       "      <td>0.000000</td>\n",
       "      <td>0.000000</td>\n",
       "      <td>0.000000</td>\n",
       "      <td>31.290001</td>\n",
       "      <td>1985.000000</td>\n",
       "      <td>0.000000</td>\n",
       "      <td>0.000000</td>\n",
       "      <td>0.000000</td>\n",
       "    </tr>\n",
       "    <tr>\n",
       "      <th>25%</th>\n",
       "      <td>9.310000</td>\n",
       "      <td>1.000000</td>\n",
       "      <td>0.026989</td>\n",
       "      <td>4.000000</td>\n",
       "      <td>93.826500</td>\n",
       "      <td>1987.000000</td>\n",
       "      <td>1.000000</td>\n",
       "      <td>0.000000</td>\n",
       "      <td>1.000000</td>\n",
       "    </tr>\n",
       "    <tr>\n",
       "      <th>50%</th>\n",
       "      <td>12.857645</td>\n",
       "      <td>1.000000</td>\n",
       "      <td>0.053931</td>\n",
       "      <td>6.000000</td>\n",
       "      <td>143.012802</td>\n",
       "      <td>1999.000000</td>\n",
       "      <td>1.000000</td>\n",
       "      <td>1.000000</td>\n",
       "      <td>1.000000</td>\n",
       "    </tr>\n",
       "    <tr>\n",
       "      <th>75%</th>\n",
       "      <td>16.000000</td>\n",
       "      <td>2.000000</td>\n",
       "      <td>0.094585</td>\n",
       "      <td>10.000000</td>\n",
       "      <td>185.643700</td>\n",
       "      <td>2004.000000</td>\n",
       "      <td>2.000000</td>\n",
       "      <td>2.000000</td>\n",
       "      <td>1.000000</td>\n",
       "    </tr>\n",
       "    <tr>\n",
       "      <th>max</th>\n",
       "      <td>21.350000</td>\n",
       "      <td>4.000000</td>\n",
       "      <td>0.328391</td>\n",
       "      <td>15.000000</td>\n",
       "      <td>266.888397</td>\n",
       "      <td>2009.000000</td>\n",
       "      <td>2.000000</td>\n",
       "      <td>2.000000</td>\n",
       "      <td>3.000000</td>\n",
       "    </tr>\n",
       "  </tbody>\n",
       "</table>\n",
       "</div>"
      ],
      "text/plain": [
       "       item_weight  item_fat_content  item_visibility    item_type  \\\n",
       "count  8523.000000       8523.000000      8523.000000  8523.000000   \n",
       "mean     12.857646          1.369354         0.066132     7.226681   \n",
       "std       4.226130          0.644810         0.051598     4.209990   \n",
       "min       4.555000          0.000000         0.000000     0.000000   \n",
       "25%       9.310000          1.000000         0.026989     4.000000   \n",
       "50%      12.857645          1.000000         0.053931     6.000000   \n",
       "75%      16.000000          2.000000         0.094585    10.000000   \n",
       "max      21.350000          4.000000         0.328391    15.000000   \n",
       "\n",
       "          item_mrp  outlet_establishment_year  outlet_size  \\\n",
       "count  8523.000000                8523.000000  8523.000000   \n",
       "mean    140.992767                1997.831867     1.170832   \n",
       "std      62.275051                   8.371760     0.600327   \n",
       "min      31.290001                1985.000000     0.000000   \n",
       "25%      93.826500                1987.000000     1.000000   \n",
       "50%     143.012802                1999.000000     1.000000   \n",
       "75%     185.643700                2004.000000     2.000000   \n",
       "max     266.888397                2009.000000     2.000000   \n",
       "\n",
       "       outlet_location_type  outlet_type  \n",
       "count           8523.000000  8523.000000  \n",
       "mean               1.112871     1.201220  \n",
       "std                0.812757     0.796459  \n",
       "min                0.000000     0.000000  \n",
       "25%                0.000000     1.000000  \n",
       "50%                1.000000     1.000000  \n",
       "75%                2.000000     1.000000  \n",
       "max                2.000000     3.000000  "
      ]
     },
     "execution_count": 41,
     "metadata": {},
     "output_type": "execute_result"
    }
   ],
   "source": [
    "X.describe()"
   ]
  },
  {
   "cell_type": "code",
   "execution_count": 42,
   "id": "82627c66",
   "metadata": {},
   "outputs": [],
   "source": [
    "from sklearn.preprocessing import StandardScaler\n",
    "sc= StandardScaler()"
   ]
  },
  {
   "cell_type": "code",
   "execution_count": 43,
   "id": "112dad7c",
   "metadata": {},
   "outputs": [],
   "source": [
    "X_train_std= sc.fit_transform(X_train)  # learning how the data is in X train and then transforming"
   ]
  },
  {
   "cell_type": "code",
   "execution_count": 44,
   "id": "729ae569",
   "metadata": {},
   "outputs": [],
   "source": [
    "X_test_std= sc.transform(X_test)"
   ]
  },
  {
   "cell_type": "code",
   "execution_count": 45,
   "id": "64531cfb",
   "metadata": {},
   "outputs": [
    {
     "data": {
      "text/plain": [
       "array([[-0.80021083,  0.97369917, -0.60070306, ..., -0.28419801,\n",
       "        -1.38348228, -0.25948864],\n",
       "       [ 1.21131737, -0.57161762, -0.36215852, ..., -0.28419801,\n",
       "        -0.14965858, -0.25948864],\n",
       "       [ 1.11665731,  0.97369917,  0.19493282, ...,  1.38332526,\n",
       "        -1.38348228, -0.25948864],\n",
       "       ...,\n",
       "       [ 1.11665731, -0.57161762, -0.9169315 , ..., -0.28419801,\n",
       "        -0.14965858, -0.25948864],\n",
       "       [ 1.76744585,  2.51901595, -0.22818683, ..., -0.28419801,\n",
       "        -0.14965858, -0.25948864],\n",
       "       [ 0.82084434, -2.1169344 , -0.95485941, ...,  1.38332526,\n",
       "        -1.38348228, -0.25948864]])"
      ]
     },
     "execution_count": 45,
     "metadata": {},
     "output_type": "execute_result"
    }
   ],
   "source": [
    "X_train_std"
   ]
  },
  {
   "cell_type": "code",
   "execution_count": 46,
   "id": "a80ec762",
   "metadata": {},
   "outputs": [
    {
     "data": {
      "text/plain": [
       "array([[ 0.33571102, -0.57161762, -0.77388703, ..., -1.95172128,\n",
       "         1.08416512, -0.25948864],\n",
       "       [-1.17175197, -0.57161762,  0.09797782, ...,  1.38332526,\n",
       "        -1.38348228, -0.25948864],\n",
       "       [ 0.38304105,  0.97369917, -0.48194222, ..., -0.28419801,\n",
       "        -1.38348228, -0.25948864],\n",
       "       ...,\n",
       "       [ 0.38304105,  0.97369917, -0.48385675, ..., -1.95172128,\n",
       "         1.08416512, -0.25948864],\n",
       "       [-0.72921568,  0.97369917,  1.46010303, ..., -0.28419801,\n",
       "         1.08416512,  0.9908248 ],\n",
       "       [-1.17766814, -0.57161762, -0.21387996, ..., -0.28419801,\n",
       "        -0.14965858, -0.25948864]])"
      ]
     },
     "execution_count": 46,
     "metadata": {},
     "output_type": "execute_result"
    }
   ],
   "source": [
    "X_test_std"
   ]
  },
  {
   "cell_type": "code",
   "execution_count": 47,
   "id": "8ac7b017",
   "metadata": {},
   "outputs": [
    {
     "data": {
      "text/plain": [
       "549     2386.227295\n",
       "7757    3103.959717\n",
       "764     1125.202026\n",
       "6867     284.296600\n",
       "2716    4224.500977\n",
       "           ...     \n",
       "5734     280.967590\n",
       "5191    1301.639038\n",
       "5390    6145.333984\n",
       "860     1649.852417\n",
       "7270     965.409973\n",
       "Name: item_outlet_sales, Length: 6818, dtype: float32"
      ]
     },
     "execution_count": 47,
     "metadata": {},
     "output_type": "execute_result"
    }
   ],
   "source": [
    "Y_train"
   ]
  },
  {
   "cell_type": "code",
   "execution_count": 48,
   "id": "0ff324ac",
   "metadata": {},
   "outputs": [
    {
     "data": {
      "text/plain": [
       "7503    1743.064453\n",
       "2957     356.868805\n",
       "7031     377.508606\n",
       "1084    5778.478027\n",
       "856     2356.931885\n",
       "           ...     \n",
       "7205    3004.089600\n",
       "3257     890.840393\n",
       "6346     629.181030\n",
       "6318     253.003998\n",
       "6339     976.728577\n",
       "Name: item_outlet_sales, Length: 1705, dtype: float32"
      ]
     },
     "execution_count": 48,
     "metadata": {},
     "output_type": "execute_result"
    }
   ],
   "source": [
    "Y_test"
   ]
  },
  {
   "cell_type": "code",
   "execution_count": 49,
   "id": "c8af3ada",
   "metadata": {},
   "outputs": [],
   "source": [
    "import joblib "
   ]
  },
  {
   "cell_type": "code",
   "execution_count": 50,
   "id": "61195809",
   "metadata": {},
   "outputs": [
    {
     "data": {
      "text/plain": [
       "['../BigmartData/sc.sav']"
      ]
     },
     "execution_count": 50,
     "metadata": {},
     "output_type": "execute_result"
    }
   ],
   "source": [
    "joblib.dump(sc,'../BigmartData/sc.sav')"
   ]
  },
  {
   "cell_type": "markdown",
   "id": "1b9cc95e",
   "metadata": {},
   "source": [
    "# Model building "
   ]
  },
  {
   "cell_type": "code",
   "execution_count": 51,
   "id": "7a7395b1",
   "metadata": {},
   "outputs": [
    {
     "data": {
      "text/html": [
       "<div>\n",
       "<style scoped>\n",
       "    .dataframe tbody tr th:only-of-type {\n",
       "        vertical-align: middle;\n",
       "    }\n",
       "\n",
       "    .dataframe tbody tr th {\n",
       "        vertical-align: top;\n",
       "    }\n",
       "\n",
       "    .dataframe thead th {\n",
       "        text-align: right;\n",
       "    }\n",
       "</style>\n",
       "<table border=\"1\" class=\"dataframe\">\n",
       "  <thead>\n",
       "    <tr style=\"text-align: right;\">\n",
       "      <th></th>\n",
       "      <th>item_weight</th>\n",
       "      <th>item_fat_content</th>\n",
       "      <th>item_visibility</th>\n",
       "      <th>item_type</th>\n",
       "      <th>item_mrp</th>\n",
       "      <th>outlet_establishment_year</th>\n",
       "      <th>outlet_size</th>\n",
       "      <th>outlet_location_type</th>\n",
       "      <th>outlet_type</th>\n",
       "    </tr>\n",
       "  </thead>\n",
       "  <tbody>\n",
       "    <tr>\n",
       "      <th>7503</th>\n",
       "      <td>14.300000</td>\n",
       "      <td>1</td>\n",
       "      <td>0.026300</td>\n",
       "      <td>5</td>\n",
       "      <td>79.430199</td>\n",
       "      <td>1987</td>\n",
       "      <td>0</td>\n",
       "      <td>2</td>\n",
       "      <td>1</td>\n",
       "    </tr>\n",
       "    <tr>\n",
       "      <th>2957</th>\n",
       "      <td>7.930000</td>\n",
       "      <td>1</td>\n",
       "      <td>0.071136</td>\n",
       "      <td>8</td>\n",
       "      <td>42.708599</td>\n",
       "      <td>1997</td>\n",
       "      <td>2</td>\n",
       "      <td>0</td>\n",
       "      <td>1</td>\n",
       "    </tr>\n",
       "    <tr>\n",
       "      <th>7031</th>\n",
       "      <td>14.500000</td>\n",
       "      <td>2</td>\n",
       "      <td>0.041313</td>\n",
       "      <td>3</td>\n",
       "      <td>42.045399</td>\n",
       "      <td>1999</td>\n",
       "      <td>1</td>\n",
       "      <td>0</td>\n",
       "      <td>1</td>\n",
       "    </tr>\n",
       "    <tr>\n",
       "      <th>1084</th>\n",
       "      <td>12.857645</td>\n",
       "      <td>2</td>\n",
       "      <td>0.044767</td>\n",
       "      <td>14</td>\n",
       "      <td>173.705399</td>\n",
       "      <td>1985</td>\n",
       "      <td>1</td>\n",
       "      <td>2</td>\n",
       "      <td>3</td>\n",
       "    </tr>\n",
       "    <tr>\n",
       "      <th>856</th>\n",
       "      <td>10.195000</td>\n",
       "      <td>2</td>\n",
       "      <td>0.012456</td>\n",
       "      <td>10</td>\n",
       "      <td>197.511002</td>\n",
       "      <td>2004</td>\n",
       "      <td>2</td>\n",
       "      <td>1</td>\n",
       "      <td>1</td>\n",
       "    </tr>\n",
       "  </tbody>\n",
       "</table>\n",
       "</div>"
      ],
      "text/plain": [
       "      item_weight  item_fat_content  item_visibility  item_type    item_mrp  \\\n",
       "7503    14.300000                 1         0.026300          5   79.430199   \n",
       "2957     7.930000                 1         0.071136          8   42.708599   \n",
       "7031    14.500000                 2         0.041313          3   42.045399   \n",
       "1084    12.857645                 2         0.044767         14  173.705399   \n",
       "856     10.195000                 2         0.012456         10  197.511002   \n",
       "\n",
       "      outlet_establishment_year  outlet_size  outlet_location_type  \\\n",
       "7503                       1987            0                     2   \n",
       "2957                       1997            2                     0   \n",
       "7031                       1999            1                     0   \n",
       "1084                       1985            1                     2   \n",
       "856                        2004            2                     1   \n",
       "\n",
       "      outlet_type  \n",
       "7503            1  \n",
       "2957            1  \n",
       "7031            1  \n",
       "1084            3  \n",
       "856             1  "
      ]
     },
     "execution_count": 51,
     "metadata": {},
     "output_type": "execute_result"
    }
   ],
   "source": [
    "X_test.head()"
   ]
  },
  {
   "cell_type": "code",
   "execution_count": 52,
   "id": "5b27989e",
   "metadata": {},
   "outputs": [
    {
     "name": "stdout",
     "output_type": "stream",
     "text": [
      "Requirement already satisfied: xgboost in c:\\users\\saumi\\project1\\env\\lib\\site-packages (1.7.5)\n",
      "Requirement already satisfied: numpy in c:\\users\\saumi\\project1\\env\\lib\\site-packages (from xgboost) (1.23.5)\n",
      "Requirement already satisfied: scipy in c:\\users\\saumi\\project1\\env\\lib\\site-packages (from xgboost) (1.10.0)\n",
      "Note: you may need to restart the kernel to use updated packages.\n"
     ]
    }
   ],
   "source": [
    "pip install xgboost"
   ]
  },
  {
   "cell_type": "code",
   "execution_count": 53,
   "id": "5231fad0",
   "metadata": {},
   "outputs": [],
   "source": [
    "from sklearn.metrics import r2_score, mean_absolute_error, mean_squared_error\n",
    "from sklearn.linear_model import LinearRegression\n",
    "from sklearn.ensemble import RandomForestRegressor\n",
    "from xgboost import XGBRegressor"
   ]
  },
  {
   "cell_type": "code",
   "execution_count": 54,
   "id": "13dd8b6b",
   "metadata": {},
   "outputs": [],
   "source": [
    "models={\"Linear Regression\" : LinearRegression(),\n",
    "       \"XGBRegressor\" : XGBRegressor(),\n",
    "       \"Random Forest Regressor\" : RandomForestRegressor()}\n",
    "## checking scores for each model\n",
    "def fit_and_score(models,X_train,X_test,y_train,y_test):\n",
    "    np.random.seed(42)\n",
    "    model_scores={}\n",
    "    mean_absolute_errors={}\n",
    "    mean_square_error={}\n",
    "    for name, model in models.items():\n",
    "        ##fitting every model and finding score\n",
    "        model.fit(X_train,y_train)\n",
    "        Y_pred=model.predict(X_test)\n",
    "        model_scores[name]=model.score(X_test,y_test);\n",
    "        mean_absolute_errors[name]=mean_absolute_error(y_test,Y_pred)\n",
    "        mean_square_error[name]=mean_squared_error(y_test,Y_pred)\n",
    "    return model_scores,mean_absolute_errors,mean_square_error"
   ]
  },
  {
   "cell_type": "code",
   "execution_count": 55,
   "id": "a4594b4a",
   "metadata": {},
   "outputs": [
    {
     "data": {
      "text/plain": [
       "({'Linear Regression': 0.5242478611984475,\n",
       "  'XGBRegressor': 0.5417192447044168,\n",
       "  'Random Forest Regressor': 0.5637245271165133},\n",
       " {'Linear Regression': 856.4053568319727,\n",
       "  'XGBRegressor': 776.80804,\n",
       "  'Random Forest Regressor': 761.688310677917},\n",
       " {'Linear Regression': 1293080.0762732523,\n",
       "  'XGBRegressor': 1245593.5,\n",
       "  'Random Forest Regressor': 1185783.6796560234})"
      ]
     },
     "execution_count": 55,
     "metadata": {},
     "output_type": "execute_result"
    }
   ],
   "source": [
    "fit_and_score(models=models,X_train=X_train_std,X_test=X_test_std,y_train=Y_train,y_test=Y_test)"
   ]
  },
  {
   "cell_type": "markdown",
   "id": "96477a39",
   "metadata": {},
   "source": [
    "### From the above it is clear that the Random forest Regressor model is working best in the model but needs some hyperparameter tuning for better scores"
   ]
  },
  {
   "cell_type": "markdown",
   "id": "d101985e",
   "metadata": {},
   "source": [
    "## Hyper parameter tuning"
   ]
  },
  {
   "cell_type": "markdown",
   "id": "3456363d",
   "metadata": {},
   "source": [
    "#### Tuning with RandomizedSearchCV"
   ]
  },
  {
   "cell_type": "code",
   "execution_count": 56,
   "id": "50cf768f",
   "metadata": {},
   "outputs": [
    {
     "name": "stdout",
     "output_type": "stream",
     "text": [
      "Fitting 2 folds for each of 10 candidates, totalling 20 fits\n",
      "Best: 0.275 using {'n_estimators': 100, 'min_samples_split': 1, 'min_samples_leaf': 0.1, 'max_features': 'log2', 'max_depth': 20}\n",
      "-0.003 (0.000) with: {'n_estimators': 10, 'min_samples_split': 1, 'min_samples_leaf': 0.3387755102040817, 'max_features': 'auto', 'max_depth': 6}\n",
      "-0.003 (0.000) with: {'n_estimators': 1000, 'min_samples_split': 0.5, 'min_samples_leaf': 0.6510204081632653, 'max_features': 'auto', 'max_depth': 5}\n",
      "-0.003 (0.000) with: {'n_estimators': 1000, 'min_samples_split': 1, 'min_samples_leaf': 0.41224489795918373, 'max_features': 'auto', 'max_depth': 1}\n",
      "-0.003 (0.000) with: {'n_estimators': 10, 'min_samples_split': 0.5, 'min_samples_leaf': 0.43061224489795924, 'max_features': 'sqrt', 'max_depth': 28}\n",
      "0.275 (0.009) with: {'n_estimators': 100, 'min_samples_split': 1, 'min_samples_leaf': 0.1, 'max_features': 'log2', 'max_depth': 20}\n",
      "0.249 (0.005) with: {'n_estimators': 100, 'min_samples_split': 0.5, 'min_samples_leaf': 0.11836734693877551, 'max_features': 'auto', 'max_depth': 26}\n",
      "-0.003 (0.000) with: {'n_estimators': 1000, 'min_samples_split': 1, 'min_samples_leaf': 0.5040816326530613, 'max_features': 'auto', 'max_depth': 25}\n",
      "-0.003 (0.000) with: {'n_estimators': 1000, 'min_samples_split': 0.5, 'min_samples_leaf': 0.6693877551020408, 'max_features': 'sqrt', 'max_depth': 9}\n",
      "-0.004 (0.000) with: {'n_estimators': 10, 'min_samples_split': 0.5, 'min_samples_leaf': 0.7612244897959184, 'max_features': 'sqrt', 'max_depth': 22}\n",
      "-0.003 (0.000) with: {'n_estimators': 1000, 'min_samples_split': 0.5, 'min_samples_leaf': 0.7979591836734694, 'max_features': 'log2', 'max_depth': 30}\n"
     ]
    }
   ],
   "source": [
    "\n",
    "from sklearn.model_selection import RandomizedSearchCV\n",
    "\n",
    "# define models and parameters\n",
    "model = RandomForestRegressor()\n",
    "n_estimators = [10, 100, 1000]\n",
    "max_depth=range(1,31)\n",
    "min_samples_leaf=np.linspace(0.1, 1.0)\n",
    "max_features=[\"auto\", \"sqrt\", \"log2\"]\n",
    "min_samples_split=[0.1,0.5,1]\n",
    "# define random search\n",
    "grid = dict(n_estimators=n_estimators,max_depth=max_depth,min_samples_split=min_samples_split,max_features=max_features\n",
    "           ,min_samples_leaf=min_samples_leaf)\n",
    "\n",
    "\n",
    "random_search_forest = RandomizedSearchCV(estimator=model, param_distributions=grid, n_jobs=-1, \n",
    "                           scoring='r2',error_score=0,verbose=2,cv=2)\n",
    "\n",
    "random_search_forest.fit(X_train_std, Y_train)\n",
    "\n",
    "# summarizing results\n",
    "print(f\"Best: {random_search_forest.best_score_:.3f} using {random_search_forest.best_params_}\")\n",
    "means = random_search_forest.cv_results_['mean_test_score']\n",
    "stds = random_search_forest.cv_results_['std_test_score']\n",
    "params = random_search_forest.cv_results_['params']\n",
    "\n",
    "for mean, stdev, param in zip(means, stds, params):\n",
    "    print(f\"{mean:.3f} ({stdev:.3f}) with: {param}\")"
   ]
  },
  {
   "cell_type": "code",
   "execution_count": 57,
   "id": "0b3de646",
   "metadata": {},
   "outputs": [
    {
     "data": {
      "text/plain": [
       "{'n_estimators': 100,\n",
       " 'min_samples_split': 1,\n",
       " 'min_samples_leaf': 0.1,\n",
       " 'max_features': 'log2',\n",
       " 'max_depth': 20}"
      ]
     },
     "execution_count": 57,
     "metadata": {},
     "output_type": "execute_result"
    }
   ],
   "source": [
    "random_search_forest.best_params_"
   ]
  },
  {
   "cell_type": "code",
   "execution_count": 58,
   "id": "d77ed9f7",
   "metadata": {},
   "outputs": [
    {
     "data": {
      "text/plain": [
       "0.2748081262557973"
      ]
     },
     "execution_count": 58,
     "metadata": {},
     "output_type": "execute_result"
    }
   ],
   "source": [
    "random_search_forest.best_score_"
   ]
  },
  {
   "cell_type": "markdown",
   "id": "9a5f2852",
   "metadata": {},
   "source": [
    "### Tuning with Grid Search CV"
   ]
  },
  {
   "cell_type": "code",
   "execution_count": 59,
   "id": "bd20d69d",
   "metadata": {},
   "outputs": [
    {
     "name": "stdout",
     "output_type": "stream",
     "text": [
      "Fitting 2 folds for each of 270 candidates, totalling 540 fits\n",
      "Best: 0.586 using {'max_depth': 5, 'min_samples_split': 1, 'n_estimators': 1000}\n",
      "0.239 (0.008) with: {'max_depth': 1, 'min_samples_split': 0.1, 'n_estimators': 10}\n",
      "0.251 (0.004) with: {'max_depth': 1, 'min_samples_split': 0.1, 'n_estimators': 100}\n",
      "0.250 (0.005) with: {'max_depth': 1, 'min_samples_split': 0.1, 'n_estimators': 1000}\n",
      "0.245 (0.000) with: {'max_depth': 1, 'min_samples_split': 0.5, 'n_estimators': 10}\n",
      "0.251 (0.003) with: {'max_depth': 1, 'min_samples_split': 0.5, 'n_estimators': 100}\n",
      "0.250 (0.004) with: {'max_depth': 1, 'min_samples_split': 0.5, 'n_estimators': 1000}\n",
      "0.247 (0.003) with: {'max_depth': 1, 'min_samples_split': 1, 'n_estimators': 10}\n",
      "0.249 (0.003) with: {'max_depth': 1, 'min_samples_split': 1, 'n_estimators': 100}\n",
      "0.249 (0.004) with: {'max_depth': 1, 'min_samples_split': 1, 'n_estimators': 1000}\n",
      "0.457 (0.007) with: {'max_depth': 2, 'min_samples_split': 0.1, 'n_estimators': 10}\n",
      "0.462 (0.005) with: {'max_depth': 2, 'min_samples_split': 0.1, 'n_estimators': 100}\n",
      "0.461 (0.003) with: {'max_depth': 2, 'min_samples_split': 0.1, 'n_estimators': 1000}\n",
      "0.246 (0.000) with: {'max_depth': 2, 'min_samples_split': 0.5, 'n_estimators': 10}\n",
      "0.249 (0.004) with: {'max_depth': 2, 'min_samples_split': 0.5, 'n_estimators': 100}\n",
      "0.249 (0.004) with: {'max_depth': 2, 'min_samples_split': 0.5, 'n_estimators': 1000}\n",
      "0.462 (0.004) with: {'max_depth': 2, 'min_samples_split': 1, 'n_estimators': 10}\n",
      "0.459 (0.004) with: {'max_depth': 2, 'min_samples_split': 1, 'n_estimators': 100}\n",
      "0.460 (0.004) with: {'max_depth': 2, 'min_samples_split': 1, 'n_estimators': 1000}\n",
      "0.543 (0.013) with: {'max_depth': 3, 'min_samples_split': 0.1, 'n_estimators': 10}\n",
      "0.543 (0.012) with: {'max_depth': 3, 'min_samples_split': 0.1, 'n_estimators': 100}\n",
      "0.543 (0.012) with: {'max_depth': 3, 'min_samples_split': 0.1, 'n_estimators': 1000}\n",
      "0.250 (0.002) with: {'max_depth': 3, 'min_samples_split': 0.5, 'n_estimators': 10}\n",
      "0.247 (0.005) with: {'max_depth': 3, 'min_samples_split': 0.5, 'n_estimators': 100}\n",
      "0.249 (0.004) with: {'max_depth': 3, 'min_samples_split': 0.5, 'n_estimators': 1000}\n",
      "0.537 (0.006) with: {'max_depth': 3, 'min_samples_split': 1, 'n_estimators': 10}\n",
      "0.543 (0.011) with: {'max_depth': 3, 'min_samples_split': 1, 'n_estimators': 100}\n",
      "0.543 (0.012) with: {'max_depth': 3, 'min_samples_split': 1, 'n_estimators': 1000}\n",
      "0.574 (0.005) with: {'max_depth': 4, 'min_samples_split': 0.1, 'n_estimators': 10}\n",
      "0.576 (0.007) with: {'max_depth': 4, 'min_samples_split': 0.1, 'n_estimators': 100}\n",
      "0.577 (0.007) with: {'max_depth': 4, 'min_samples_split': 0.1, 'n_estimators': 1000}\n",
      "0.242 (0.005) with: {'max_depth': 4, 'min_samples_split': 0.5, 'n_estimators': 10}\n",
      "0.252 (0.004) with: {'max_depth': 4, 'min_samples_split': 0.5, 'n_estimators': 100}\n",
      "0.249 (0.004) with: {'max_depth': 4, 'min_samples_split': 0.5, 'n_estimators': 1000}\n",
      "0.583 (0.006) with: {'max_depth': 4, 'min_samples_split': 1, 'n_estimators': 10}\n",
      "0.582 (0.004) with: {'max_depth': 4, 'min_samples_split': 1, 'n_estimators': 100}\n",
      "0.582 (0.005) with: {'max_depth': 4, 'min_samples_split': 1, 'n_estimators': 1000}\n",
      "0.579 (0.007) with: {'max_depth': 5, 'min_samples_split': 0.1, 'n_estimators': 10}\n",
      "0.581 (0.007) with: {'max_depth': 5, 'min_samples_split': 0.1, 'n_estimators': 100}\n",
      "0.581 (0.006) with: {'max_depth': 5, 'min_samples_split': 0.1, 'n_estimators': 1000}\n",
      "0.245 (0.014) with: {'max_depth': 5, 'min_samples_split': 0.5, 'n_estimators': 10}\n",
      "0.251 (0.004) with: {'max_depth': 5, 'min_samples_split': 0.5, 'n_estimators': 100}\n",
      "0.250 (0.005) with: {'max_depth': 5, 'min_samples_split': 0.5, 'n_estimators': 1000}\n",
      "0.585 (0.005) with: {'max_depth': 5, 'min_samples_split': 1, 'n_estimators': 10}\n",
      "0.586 (0.007) with: {'max_depth': 5, 'min_samples_split': 1, 'n_estimators': 100}\n",
      "0.586 (0.005) with: {'max_depth': 5, 'min_samples_split': 1, 'n_estimators': 1000}\n",
      "0.582 (0.005) with: {'max_depth': 6, 'min_samples_split': 0.1, 'n_estimators': 10}\n",
      "0.582 (0.006) with: {'max_depth': 6, 'min_samples_split': 0.1, 'n_estimators': 100}\n",
      "0.581 (0.006) with: {'max_depth': 6, 'min_samples_split': 0.1, 'n_estimators': 1000}\n",
      "0.250 (0.006) with: {'max_depth': 6, 'min_samples_split': 0.5, 'n_estimators': 10}\n",
      "0.249 (0.004) with: {'max_depth': 6, 'min_samples_split': 0.5, 'n_estimators': 100}\n",
      "0.249 (0.005) with: {'max_depth': 6, 'min_samples_split': 0.5, 'n_estimators': 1000}\n",
      "0.575 (0.003) with: {'max_depth': 6, 'min_samples_split': 1, 'n_estimators': 10}\n",
      "0.582 (0.005) with: {'max_depth': 6, 'min_samples_split': 1, 'n_estimators': 100}\n",
      "0.582 (0.004) with: {'max_depth': 6, 'min_samples_split': 1, 'n_estimators': 1000}\n",
      "0.580 (0.004) with: {'max_depth': 7, 'min_samples_split': 0.1, 'n_estimators': 10}\n",
      "0.581 (0.006) with: {'max_depth': 7, 'min_samples_split': 0.1, 'n_estimators': 100}\n",
      "0.582 (0.007) with: {'max_depth': 7, 'min_samples_split': 0.1, 'n_estimators': 1000}\n",
      "0.245 (0.001) with: {'max_depth': 7, 'min_samples_split': 0.5, 'n_estimators': 10}\n",
      "0.250 (0.005) with: {'max_depth': 7, 'min_samples_split': 0.5, 'n_estimators': 100}\n",
      "0.248 (0.005) with: {'max_depth': 7, 'min_samples_split': 0.5, 'n_estimators': 1000}\n",
      "0.570 (0.001) with: {'max_depth': 7, 'min_samples_split': 1, 'n_estimators': 10}\n",
      "0.576 (0.003) with: {'max_depth': 7, 'min_samples_split': 1, 'n_estimators': 100}\n",
      "0.576 (0.002) with: {'max_depth': 7, 'min_samples_split': 1, 'n_estimators': 1000}\n",
      "0.581 (0.008) with: {'max_depth': 8, 'min_samples_split': 0.1, 'n_estimators': 10}\n",
      "0.582 (0.007) with: {'max_depth': 8, 'min_samples_split': 0.1, 'n_estimators': 100}\n",
      "0.581 (0.006) with: {'max_depth': 8, 'min_samples_split': 0.1, 'n_estimators': 1000}\n",
      "0.243 (0.001) with: {'max_depth': 8, 'min_samples_split': 0.5, 'n_estimators': 10}\n",
      "0.251 (0.006) with: {'max_depth': 8, 'min_samples_split': 0.5, 'n_estimators': 100}\n",
      "0.250 (0.005) with: {'max_depth': 8, 'min_samples_split': 0.5, 'n_estimators': 1000}\n",
      "0.566 (0.002) with: {'max_depth': 8, 'min_samples_split': 1, 'n_estimators': 10}\n",
      "0.571 (0.003) with: {'max_depth': 8, 'min_samples_split': 1, 'n_estimators': 100}\n",
      "0.572 (0.002) with: {'max_depth': 8, 'min_samples_split': 1, 'n_estimators': 1000}\n",
      "0.580 (0.007) with: {'max_depth': 9, 'min_samples_split': 0.1, 'n_estimators': 10}\n",
      "0.581 (0.007) with: {'max_depth': 9, 'min_samples_split': 0.1, 'n_estimators': 100}\n",
      "0.582 (0.006) with: {'max_depth': 9, 'min_samples_split': 0.1, 'n_estimators': 1000}\n",
      "0.248 (0.001) with: {'max_depth': 9, 'min_samples_split': 0.5, 'n_estimators': 10}\n",
      "0.252 (0.004) with: {'max_depth': 9, 'min_samples_split': 0.5, 'n_estimators': 100}\n",
      "0.249 (0.004) with: {'max_depth': 9, 'min_samples_split': 0.5, 'n_estimators': 1000}\n",
      "0.554 (0.000) with: {'max_depth': 9, 'min_samples_split': 1, 'n_estimators': 10}\n",
      "0.567 (0.001) with: {'max_depth': 9, 'min_samples_split': 1, 'n_estimators': 100}\n",
      "0.567 (0.001) with: {'max_depth': 9, 'min_samples_split': 1, 'n_estimators': 1000}\n",
      "0.581 (0.005) with: {'max_depth': 10, 'min_samples_split': 0.1, 'n_estimators': 10}\n",
      "0.581 (0.006) with: {'max_depth': 10, 'min_samples_split': 0.1, 'n_estimators': 100}\n",
      "0.581 (0.007) with: {'max_depth': 10, 'min_samples_split': 0.1, 'n_estimators': 1000}\n",
      "0.254 (0.003) with: {'max_depth': 10, 'min_samples_split': 0.5, 'n_estimators': 10}\n",
      "0.247 (0.005) with: {'max_depth': 10, 'min_samples_split': 0.5, 'n_estimators': 100}\n",
      "0.249 (0.004) with: {'max_depth': 10, 'min_samples_split': 0.5, 'n_estimators': 1000}\n",
      "0.552 (0.000) with: {'max_depth': 10, 'min_samples_split': 1, 'n_estimators': 10}\n",
      "0.561 (0.001) with: {'max_depth': 10, 'min_samples_split': 1, 'n_estimators': 100}\n",
      "0.563 (0.001) with: {'max_depth': 10, 'min_samples_split': 1, 'n_estimators': 1000}\n",
      "0.581 (0.006) with: {'max_depth': 11, 'min_samples_split': 0.1, 'n_estimators': 10}\n",
      "0.581 (0.006) with: {'max_depth': 11, 'min_samples_split': 0.1, 'n_estimators': 100}\n",
      "0.581 (0.006) with: {'max_depth': 11, 'min_samples_split': 0.1, 'n_estimators': 1000}\n",
      "0.244 (0.006) with: {'max_depth': 11, 'min_samples_split': 0.5, 'n_estimators': 10}\n",
      "0.251 (0.002) with: {'max_depth': 11, 'min_samples_split': 0.5, 'n_estimators': 100}\n",
      "0.249 (0.004) with: {'max_depth': 11, 'min_samples_split': 0.5, 'n_estimators': 1000}\n",
      "0.528 (0.000) with: {'max_depth': 11, 'min_samples_split': 1, 'n_estimators': 10}\n",
      "0.556 (0.002) with: {'max_depth': 11, 'min_samples_split': 1, 'n_estimators': 100}\n",
      "0.559 (0.001) with: {'max_depth': 11, 'min_samples_split': 1, 'n_estimators': 1000}\n",
      "0.579 (0.007) with: {'max_depth': 12, 'min_samples_split': 0.1, 'n_estimators': 10}\n",
      "0.581 (0.006) with: {'max_depth': 12, 'min_samples_split': 0.1, 'n_estimators': 100}\n",
      "0.581 (0.006) with: {'max_depth': 12, 'min_samples_split': 0.1, 'n_estimators': 1000}\n",
      "0.251 (0.004) with: {'max_depth': 12, 'min_samples_split': 0.5, 'n_estimators': 10}\n",
      "0.248 (0.004) with: {'max_depth': 12, 'min_samples_split': 0.5, 'n_estimators': 100}\n",
      "0.249 (0.004) with: {'max_depth': 12, 'min_samples_split': 0.5, 'n_estimators': 1000}\n",
      "0.523 (0.001) with: {'max_depth': 12, 'min_samples_split': 1, 'n_estimators': 10}\n",
      "0.553 (0.002) with: {'max_depth': 12, 'min_samples_split': 1, 'n_estimators': 100}\n",
      "0.556 (0.002) with: {'max_depth': 12, 'min_samples_split': 1, 'n_estimators': 1000}\n",
      "0.580 (0.005) with: {'max_depth': 13, 'min_samples_split': 0.1, 'n_estimators': 10}\n",
      "0.581 (0.006) with: {'max_depth': 13, 'min_samples_split': 0.1, 'n_estimators': 100}\n",
      "0.581 (0.007) with: {'max_depth': 13, 'min_samples_split': 0.1, 'n_estimators': 1000}\n",
      "0.246 (0.006) with: {'max_depth': 13, 'min_samples_split': 0.5, 'n_estimators': 10}\n",
      "0.249 (0.004) with: {'max_depth': 13, 'min_samples_split': 0.5, 'n_estimators': 100}\n",
      "0.250 (0.005) with: {'max_depth': 13, 'min_samples_split': 0.5, 'n_estimators': 1000}\n",
      "0.526 (0.000) with: {'max_depth': 13, 'min_samples_split': 1, 'n_estimators': 10}\n",
      "0.549 (0.004) with: {'max_depth': 13, 'min_samples_split': 1, 'n_estimators': 100}\n",
      "0.552 (0.001) with: {'max_depth': 13, 'min_samples_split': 1, 'n_estimators': 1000}\n",
      "0.579 (0.006) with: {'max_depth': 14, 'min_samples_split': 0.1, 'n_estimators': 10}\n",
      "0.582 (0.007) with: {'max_depth': 14, 'min_samples_split': 0.1, 'n_estimators': 100}\n",
      "0.581 (0.007) with: {'max_depth': 14, 'min_samples_split': 0.1, 'n_estimators': 1000}\n",
      "0.252 (0.006) with: {'max_depth': 14, 'min_samples_split': 0.5, 'n_estimators': 10}\n",
      "0.248 (0.005) with: {'max_depth': 14, 'min_samples_split': 0.5, 'n_estimators': 100}\n",
      "0.249 (0.004) with: {'max_depth': 14, 'min_samples_split': 0.5, 'n_estimators': 1000}\n",
      "0.526 (0.011) with: {'max_depth': 14, 'min_samples_split': 1, 'n_estimators': 10}\n",
      "0.546 (0.003) with: {'max_depth': 14, 'min_samples_split': 1, 'n_estimators': 100}\n",
      "0.548 (0.003) with: {'max_depth': 14, 'min_samples_split': 1, 'n_estimators': 1000}\n",
      "0.578 (0.005) with: {'max_depth': 15, 'min_samples_split': 0.1, 'n_estimators': 10}\n",
      "0.582 (0.006) with: {'max_depth': 15, 'min_samples_split': 0.1, 'n_estimators': 100}\n",
      "0.581 (0.006) with: {'max_depth': 15, 'min_samples_split': 0.1, 'n_estimators': 1000}\n",
      "0.253 (0.003) with: {'max_depth': 15, 'min_samples_split': 0.5, 'n_estimators': 10}\n",
      "0.249 (0.004) with: {'max_depth': 15, 'min_samples_split': 0.5, 'n_estimators': 100}\n",
      "0.249 (0.004) with: {'max_depth': 15, 'min_samples_split': 0.5, 'n_estimators': 1000}\n",
      "0.519 (0.004) with: {'max_depth': 15, 'min_samples_split': 1, 'n_estimators': 10}\n",
      "0.544 (0.002) with: {'max_depth': 15, 'min_samples_split': 1, 'n_estimators': 100}\n",
      "0.546 (0.003) with: {'max_depth': 15, 'min_samples_split': 1, 'n_estimators': 1000}\n",
      "0.581 (0.005) with: {'max_depth': 16, 'min_samples_split': 0.1, 'n_estimators': 10}\n",
      "0.581 (0.007) with: {'max_depth': 16, 'min_samples_split': 0.1, 'n_estimators': 100}\n",
      "0.582 (0.007) with: {'max_depth': 16, 'min_samples_split': 0.1, 'n_estimators': 1000}\n",
      "0.249 (0.002) with: {'max_depth': 16, 'min_samples_split': 0.5, 'n_estimators': 10}\n",
      "0.249 (0.002) with: {'max_depth': 16, 'min_samples_split': 0.5, 'n_estimators': 100}\n",
      "0.250 (0.004) with: {'max_depth': 16, 'min_samples_split': 0.5, 'n_estimators': 1000}\n",
      "0.512 (0.005) with: {'max_depth': 16, 'min_samples_split': 1, 'n_estimators': 10}\n",
      "0.540 (0.003) with: {'max_depth': 16, 'min_samples_split': 1, 'n_estimators': 100}\n",
      "0.543 (0.003) with: {'max_depth': 16, 'min_samples_split': 1, 'n_estimators': 1000}\n",
      "0.576 (0.003) with: {'max_depth': 17, 'min_samples_split': 0.1, 'n_estimators': 10}\n",
      "0.581 (0.007) with: {'max_depth': 17, 'min_samples_split': 0.1, 'n_estimators': 100}\n",
      "0.582 (0.007) with: {'max_depth': 17, 'min_samples_split': 0.1, 'n_estimators': 1000}\n",
      "0.251 (0.007) with: {'max_depth': 17, 'min_samples_split': 0.5, 'n_estimators': 10}\n",
      "0.250 (0.004) with: {'max_depth': 17, 'min_samples_split': 0.5, 'n_estimators': 100}\n",
      "0.249 (0.006) with: {'max_depth': 17, 'min_samples_split': 0.5, 'n_estimators': 1000}\n",
      "0.507 (0.002) with: {'max_depth': 17, 'min_samples_split': 1, 'n_estimators': 10}\n",
      "0.538 (0.003) with: {'max_depth': 17, 'min_samples_split': 1, 'n_estimators': 100}\n",
      "0.542 (0.004) with: {'max_depth': 17, 'min_samples_split': 1, 'n_estimators': 1000}\n",
      "0.581 (0.007) with: {'max_depth': 18, 'min_samples_split': 0.1, 'n_estimators': 10}\n",
      "0.580 (0.006) with: {'max_depth': 18, 'min_samples_split': 0.1, 'n_estimators': 100}\n",
      "0.581 (0.006) with: {'max_depth': 18, 'min_samples_split': 0.1, 'n_estimators': 1000}\n",
      "0.250 (0.006) with: {'max_depth': 18, 'min_samples_split': 0.5, 'n_estimators': 10}\n",
      "0.250 (0.005) with: {'max_depth': 18, 'min_samples_split': 0.5, 'n_estimators': 100}\n",
      "0.249 (0.004) with: {'max_depth': 18, 'min_samples_split': 0.5, 'n_estimators': 1000}\n",
      "0.503 (0.007) with: {'max_depth': 18, 'min_samples_split': 1, 'n_estimators': 10}\n",
      "0.540 (0.007) with: {'max_depth': 18, 'min_samples_split': 1, 'n_estimators': 100}\n",
      "0.541 (0.003) with: {'max_depth': 18, 'min_samples_split': 1, 'n_estimators': 1000}\n",
      "0.578 (0.005) with: {'max_depth': 19, 'min_samples_split': 0.1, 'n_estimators': 10}\n",
      "0.582 (0.008) with: {'max_depth': 19, 'min_samples_split': 0.1, 'n_estimators': 100}\n",
      "0.581 (0.006) with: {'max_depth': 19, 'min_samples_split': 0.1, 'n_estimators': 1000}\n",
      "0.248 (0.001) with: {'max_depth': 19, 'min_samples_split': 0.5, 'n_estimators': 10}\n",
      "0.246 (0.004) with: {'max_depth': 19, 'min_samples_split': 0.5, 'n_estimators': 100}\n",
      "0.249 (0.004) with: {'max_depth': 19, 'min_samples_split': 0.5, 'n_estimators': 1000}\n",
      "0.510 (0.001) with: {'max_depth': 19, 'min_samples_split': 1, 'n_estimators': 10}\n",
      "0.537 (0.004) with: {'max_depth': 19, 'min_samples_split': 1, 'n_estimators': 100}\n",
      "0.541 (0.003) with: {'max_depth': 19, 'min_samples_split': 1, 'n_estimators': 1000}\n",
      "0.577 (0.005) with: {'max_depth': 20, 'min_samples_split': 0.1, 'n_estimators': 10}\n",
      "0.582 (0.007) with: {'max_depth': 20, 'min_samples_split': 0.1, 'n_estimators': 100}\n",
      "0.582 (0.006) with: {'max_depth': 20, 'min_samples_split': 0.1, 'n_estimators': 1000}\n",
      "0.244 (0.006) with: {'max_depth': 20, 'min_samples_split': 0.5, 'n_estimators': 10}\n",
      "0.248 (0.001) with: {'max_depth': 20, 'min_samples_split': 0.5, 'n_estimators': 100}\n",
      "0.250 (0.004) with: {'max_depth': 20, 'min_samples_split': 0.5, 'n_estimators': 1000}\n",
      "0.500 (0.010) with: {'max_depth': 20, 'min_samples_split': 1, 'n_estimators': 10}\n",
      "0.538 (0.005) with: {'max_depth': 20, 'min_samples_split': 1, 'n_estimators': 100}\n",
      "0.539 (0.004) with: {'max_depth': 20, 'min_samples_split': 1, 'n_estimators': 1000}\n",
      "0.581 (0.005) with: {'max_depth': 21, 'min_samples_split': 0.1, 'n_estimators': 10}\n",
      "0.581 (0.006) with: {'max_depth': 21, 'min_samples_split': 0.1, 'n_estimators': 100}\n",
      "0.582 (0.006) with: {'max_depth': 21, 'min_samples_split': 0.1, 'n_estimators': 1000}\n",
      "0.253 (0.002) with: {'max_depth': 21, 'min_samples_split': 0.5, 'n_estimators': 10}\n",
      "0.249 (0.004) with: {'max_depth': 21, 'min_samples_split': 0.5, 'n_estimators': 100}\n",
      "0.249 (0.004) with: {'max_depth': 21, 'min_samples_split': 0.5, 'n_estimators': 1000}\n",
      "0.494 (0.002) with: {'max_depth': 21, 'min_samples_split': 1, 'n_estimators': 10}\n",
      "0.537 (0.004) with: {'max_depth': 21, 'min_samples_split': 1, 'n_estimators': 100}\n",
      "0.540 (0.005) with: {'max_depth': 21, 'min_samples_split': 1, 'n_estimators': 1000}\n",
      "0.579 (0.005) with: {'max_depth': 22, 'min_samples_split': 0.1, 'n_estimators': 10}\n",
      "0.581 (0.006) with: {'max_depth': 22, 'min_samples_split': 0.1, 'n_estimators': 100}\n",
      "0.581 (0.007) with: {'max_depth': 22, 'min_samples_split': 0.1, 'n_estimators': 1000}\n",
      "0.245 (0.004) with: {'max_depth': 22, 'min_samples_split': 0.5, 'n_estimators': 10}\n",
      "0.249 (0.005) with: {'max_depth': 22, 'min_samples_split': 0.5, 'n_estimators': 100}\n",
      "0.250 (0.004) with: {'max_depth': 22, 'min_samples_split': 0.5, 'n_estimators': 1000}\n",
      "0.501 (0.001) with: {'max_depth': 22, 'min_samples_split': 1, 'n_estimators': 10}\n",
      "0.536 (0.003) with: {'max_depth': 22, 'min_samples_split': 1, 'n_estimators': 100}\n",
      "0.540 (0.005) with: {'max_depth': 22, 'min_samples_split': 1, 'n_estimators': 1000}\n",
      "0.580 (0.007) with: {'max_depth': 23, 'min_samples_split': 0.1, 'n_estimators': 10}\n",
      "0.581 (0.006) with: {'max_depth': 23, 'min_samples_split': 0.1, 'n_estimators': 100}\n",
      "0.581 (0.007) with: {'max_depth': 23, 'min_samples_split': 0.1, 'n_estimators': 1000}\n",
      "0.241 (0.017) with: {'max_depth': 23, 'min_samples_split': 0.5, 'n_estimators': 10}\n",
      "0.250 (0.004) with: {'max_depth': 23, 'min_samples_split': 0.5, 'n_estimators': 100}\n",
      "0.249 (0.004) with: {'max_depth': 23, 'min_samples_split': 0.5, 'n_estimators': 1000}\n",
      "0.501 (0.001) with: {'max_depth': 23, 'min_samples_split': 1, 'n_estimators': 10}\n",
      "0.537 (0.002) with: {'max_depth': 23, 'min_samples_split': 1, 'n_estimators': 100}\n",
      "0.539 (0.004) with: {'max_depth': 23, 'min_samples_split': 1, 'n_estimators': 1000}\n",
      "0.580 (0.004) with: {'max_depth': 24, 'min_samples_split': 0.1, 'n_estimators': 10}\n",
      "0.581 (0.006) with: {'max_depth': 24, 'min_samples_split': 0.1, 'n_estimators': 100}\n",
      "0.582 (0.007) with: {'max_depth': 24, 'min_samples_split': 0.1, 'n_estimators': 1000}\n",
      "0.239 (0.005) with: {'max_depth': 24, 'min_samples_split': 0.5, 'n_estimators': 10}\n",
      "0.250 (0.002) with: {'max_depth': 24, 'min_samples_split': 0.5, 'n_estimators': 100}\n",
      "0.249 (0.004) with: {'max_depth': 24, 'min_samples_split': 0.5, 'n_estimators': 1000}\n",
      "0.493 (0.009) with: {'max_depth': 24, 'min_samples_split': 1, 'n_estimators': 10}\n",
      "0.534 (0.005) with: {'max_depth': 24, 'min_samples_split': 1, 'n_estimators': 100}\n",
      "0.540 (0.003) with: {'max_depth': 24, 'min_samples_split': 1, 'n_estimators': 1000}\n",
      "0.581 (0.006) with: {'max_depth': 25, 'min_samples_split': 0.1, 'n_estimators': 10}\n",
      "0.581 (0.007) with: {'max_depth': 25, 'min_samples_split': 0.1, 'n_estimators': 100}\n",
      "0.581 (0.007) with: {'max_depth': 25, 'min_samples_split': 0.1, 'n_estimators': 1000}\n",
      "0.245 (0.001) with: {'max_depth': 25, 'min_samples_split': 0.5, 'n_estimators': 10}\n",
      "0.250 (0.004) with: {'max_depth': 25, 'min_samples_split': 0.5, 'n_estimators': 100}\n",
      "0.249 (0.004) with: {'max_depth': 25, 'min_samples_split': 0.5, 'n_estimators': 1000}\n",
      "0.499 (0.007) with: {'max_depth': 25, 'min_samples_split': 1, 'n_estimators': 10}\n",
      "0.539 (0.004) with: {'max_depth': 25, 'min_samples_split': 1, 'n_estimators': 100}\n",
      "0.539 (0.004) with: {'max_depth': 25, 'min_samples_split': 1, 'n_estimators': 1000}\n",
      "0.576 (0.004) with: {'max_depth': 26, 'min_samples_split': 0.1, 'n_estimators': 10}\n",
      "0.581 (0.005) with: {'max_depth': 26, 'min_samples_split': 0.1, 'n_estimators': 100}\n",
      "0.581 (0.006) with: {'max_depth': 26, 'min_samples_split': 0.1, 'n_estimators': 1000}\n",
      "0.249 (0.004) with: {'max_depth': 26, 'min_samples_split': 0.5, 'n_estimators': 10}\n",
      "0.247 (0.006) with: {'max_depth': 26, 'min_samples_split': 0.5, 'n_estimators': 100}\n",
      "0.250 (0.004) with: {'max_depth': 26, 'min_samples_split': 0.5, 'n_estimators': 1000}\n",
      "0.500 (0.002) with: {'max_depth': 26, 'min_samples_split': 1, 'n_estimators': 10}\n",
      "0.536 (0.004) with: {'max_depth': 26, 'min_samples_split': 1, 'n_estimators': 100}\n",
      "0.539 (0.005) with: {'max_depth': 26, 'min_samples_split': 1, 'n_estimators': 1000}\n",
      "0.580 (0.004) with: {'max_depth': 27, 'min_samples_split': 0.1, 'n_estimators': 10}\n",
      "0.581 (0.006) with: {'max_depth': 27, 'min_samples_split': 0.1, 'n_estimators': 100}\n",
      "0.582 (0.007) with: {'max_depth': 27, 'min_samples_split': 0.1, 'n_estimators': 1000}\n",
      "0.248 (0.000) with: {'max_depth': 27, 'min_samples_split': 0.5, 'n_estimators': 10}\n",
      "0.251 (0.003) with: {'max_depth': 27, 'min_samples_split': 0.5, 'n_estimators': 100}\n",
      "0.249 (0.004) with: {'max_depth': 27, 'min_samples_split': 0.5, 'n_estimators': 1000}\n",
      "0.506 (0.003) with: {'max_depth': 27, 'min_samples_split': 1, 'n_estimators': 10}\n",
      "0.534 (0.003) with: {'max_depth': 27, 'min_samples_split': 1, 'n_estimators': 100}\n",
      "0.540 (0.003) with: {'max_depth': 27, 'min_samples_split': 1, 'n_estimators': 1000}\n",
      "0.580 (0.007) with: {'max_depth': 28, 'min_samples_split': 0.1, 'n_estimators': 10}\n",
      "0.581 (0.006) with: {'max_depth': 28, 'min_samples_split': 0.1, 'n_estimators': 100}\n",
      "0.581 (0.006) with: {'max_depth': 28, 'min_samples_split': 0.1, 'n_estimators': 1000}\n",
      "0.245 (0.004) with: {'max_depth': 28, 'min_samples_split': 0.5, 'n_estimators': 10}\n",
      "0.250 (0.004) with: {'max_depth': 28, 'min_samples_split': 0.5, 'n_estimators': 100}\n",
      "0.249 (0.005) with: {'max_depth': 28, 'min_samples_split': 0.5, 'n_estimators': 1000}\n",
      "0.502 (0.009) with: {'max_depth': 28, 'min_samples_split': 1, 'n_estimators': 10}\n",
      "0.536 (0.000) with: {'max_depth': 28, 'min_samples_split': 1, 'n_estimators': 100}\n",
      "0.539 (0.004) with: {'max_depth': 28, 'min_samples_split': 1, 'n_estimators': 1000}\n",
      "0.579 (0.007) with: {'max_depth': 29, 'min_samples_split': 0.1, 'n_estimators': 10}\n",
      "0.581 (0.007) with: {'max_depth': 29, 'min_samples_split': 0.1, 'n_estimators': 100}\n",
      "0.581 (0.007) with: {'max_depth': 29, 'min_samples_split': 0.1, 'n_estimators': 1000}\n",
      "0.249 (0.011) with: {'max_depth': 29, 'min_samples_split': 0.5, 'n_estimators': 10}\n",
      "0.249 (0.003) with: {'max_depth': 29, 'min_samples_split': 0.5, 'n_estimators': 100}\n",
      "0.250 (0.005) with: {'max_depth': 29, 'min_samples_split': 0.5, 'n_estimators': 1000}\n",
      "0.497 (0.010) with: {'max_depth': 29, 'min_samples_split': 1, 'n_estimators': 10}\n",
      "0.534 (0.003) with: {'max_depth': 29, 'min_samples_split': 1, 'n_estimators': 100}\n",
      "0.540 (0.003) with: {'max_depth': 29, 'min_samples_split': 1, 'n_estimators': 1000}\n",
      "0.580 (0.007) with: {'max_depth': 30, 'min_samples_split': 0.1, 'n_estimators': 10}\n",
      "0.582 (0.006) with: {'max_depth': 30, 'min_samples_split': 0.1, 'n_estimators': 100}\n",
      "0.581 (0.007) with: {'max_depth': 30, 'min_samples_split': 0.1, 'n_estimators': 1000}\n",
      "0.250 (0.007) with: {'max_depth': 30, 'min_samples_split': 0.5, 'n_estimators': 10}\n",
      "0.250 (0.004) with: {'max_depth': 30, 'min_samples_split': 0.5, 'n_estimators': 100}\n",
      "0.249 (0.004) with: {'max_depth': 30, 'min_samples_split': 0.5, 'n_estimators': 1000}\n",
      "0.509 (0.010) with: {'max_depth': 30, 'min_samples_split': 1, 'n_estimators': 10}\n",
      "0.535 (0.004) with: {'max_depth': 30, 'min_samples_split': 1, 'n_estimators': 100}\n",
      "0.539 (0.004) with: {'max_depth': 30, 'min_samples_split': 1, 'n_estimators': 1000}\n"
     ]
    }
   ],
   "source": [
    "from sklearn.model_selection import RepeatedStratifiedKFold\n",
    "from sklearn.model_selection import GridSearchCV\n",
    "\n",
    "# define models and parameters\n",
    "model = RandomForestRegressor()\n",
    "n_estimators = [10, 100, 1000]\n",
    "max_depth=range(1,31)\n",
    "min_samples_leaf=np.linspace(0.1, 1.0)\n",
    "max_features=[\"auto\", \"sqrt\", \"log2\"]\n",
    "min_samples_split=[0.1,0.5,1]\n",
    "# define grid search\n",
    "grid = dict(n_estimators=n_estimators,max_depth=max_depth,min_samples_split=min_samples_split)\n",
    "\n",
    "\n",
    "grid_search_forest = GridSearchCV(estimator=model, param_grid=grid, n_jobs=-1, \n",
    "                           scoring='r2',error_score=0,verbose=2,cv=2)\n",
    "\n",
    "grid_search_forest.fit(X_train_std, Y_train)\n",
    "\n",
    "# summarize results\n",
    "print(f\"Best: {grid_search_forest.best_score_:.3f} using {grid_search_forest.best_params_}\")\n",
    "means = grid_search_forest.cv_results_['mean_test_score']\n",
    "stds = grid_search_forest.cv_results_['std_test_score']\n",
    "params = grid_search_forest.cv_results_['params']\n",
    "\n",
    "for mean, stdev, param in zip(means, stds, params):\n",
    "    print(f\"{mean:.3f} ({stdev:.3f}) with: {param}\")"
   ]
  },
  {
   "cell_type": "code",
   "execution_count": 60,
   "id": "8013bb58",
   "metadata": {},
   "outputs": [
    {
     "data": {
      "text/plain": [
       "{'max_depth': 5, 'min_samples_split': 1, 'n_estimators': 1000}"
      ]
     },
     "execution_count": 60,
     "metadata": {},
     "output_type": "execute_result"
    }
   ],
   "source": [
    "grid_search_forest.best_params_"
   ]
  },
  {
   "cell_type": "code",
   "execution_count": 61,
   "id": "2752c12a",
   "metadata": {},
   "outputs": [
    {
     "data": {
      "text/plain": [
       "0.5862602893469426"
      ]
     },
     "execution_count": 61,
     "metadata": {},
     "output_type": "execute_result"
    }
   ],
   "source": [
    "grid_search_forest.best_score_"
   ]
  },
  {
   "cell_type": "code",
   "execution_count": 62,
   "id": "2f791295",
   "metadata": {},
   "outputs": [],
   "source": [
    "Y_pred_rf_grid=grid_search_forest.predict(X_test_std)"
   ]
  },
  {
   "cell_type": "code",
   "execution_count": 63,
   "id": "bbd9a8c9",
   "metadata": {},
   "outputs": [
    {
     "data": {
      "text/plain": [
       "0.6166673784747714"
      ]
     },
     "execution_count": 63,
     "metadata": {},
     "output_type": "execute_result"
    }
   ],
   "source": [
    "r2_score(Y_test,Y_pred_rf_grid)"
   ]
  },
  {
   "cell_type": "markdown",
   "id": "1b0c2da6",
   "metadata": {},
   "source": [
    "### Feature Engineering "
   ]
  },
  {
   "cell_type": "code",
   "execution_count": 65,
   "id": "134922cb",
   "metadata": {},
   "outputs": [
    {
     "data": {
      "text/plain": [
       "{'max_depth': 5, 'min_samples_split': 1, 'n_estimators': 1000}"
      ]
     },
     "execution_count": 65,
     "metadata": {},
     "output_type": "execute_result"
    }
   ],
   "source": [
    "## Checking which feature is important for predictions\n",
    "grid_search_forest.best_params_"
   ]
  },
  {
   "cell_type": "code",
   "execution_count": 69,
   "id": "957e2af0",
   "metadata": {},
   "outputs": [
    {
     "data": {
      "text/html": [
       "<style>#sk-container-id-1 {color: black;background-color: white;}#sk-container-id-1 pre{padding: 0;}#sk-container-id-1 div.sk-toggleable {background-color: white;}#sk-container-id-1 label.sk-toggleable__label {cursor: pointer;display: block;width: 100%;margin-bottom: 0;padding: 0.3em;box-sizing: border-box;text-align: center;}#sk-container-id-1 label.sk-toggleable__label-arrow:before {content: \"▸\";float: left;margin-right: 0.25em;color: #696969;}#sk-container-id-1 label.sk-toggleable__label-arrow:hover:before {color: black;}#sk-container-id-1 div.sk-estimator:hover label.sk-toggleable__label-arrow:before {color: black;}#sk-container-id-1 div.sk-toggleable__content {max-height: 0;max-width: 0;overflow: hidden;text-align: left;background-color: #f0f8ff;}#sk-container-id-1 div.sk-toggleable__content pre {margin: 0.2em;color: black;border-radius: 0.25em;background-color: #f0f8ff;}#sk-container-id-1 input.sk-toggleable__control:checked~div.sk-toggleable__content {max-height: 200px;max-width: 100%;overflow: auto;}#sk-container-id-1 input.sk-toggleable__control:checked~label.sk-toggleable__label-arrow:before {content: \"▾\";}#sk-container-id-1 div.sk-estimator input.sk-toggleable__control:checked~label.sk-toggleable__label {background-color: #d4ebff;}#sk-container-id-1 div.sk-label input.sk-toggleable__control:checked~label.sk-toggleable__label {background-color: #d4ebff;}#sk-container-id-1 input.sk-hidden--visually {border: 0;clip: rect(1px 1px 1px 1px);clip: rect(1px, 1px, 1px, 1px);height: 1px;margin: -1px;overflow: hidden;padding: 0;position: absolute;width: 1px;}#sk-container-id-1 div.sk-estimator {font-family: monospace;background-color: #f0f8ff;border: 1px dotted black;border-radius: 0.25em;box-sizing: border-box;margin-bottom: 0.5em;}#sk-container-id-1 div.sk-estimator:hover {background-color: #d4ebff;}#sk-container-id-1 div.sk-parallel-item::after {content: \"\";width: 100%;border-bottom: 1px solid gray;flex-grow: 1;}#sk-container-id-1 div.sk-label:hover label.sk-toggleable__label {background-color: #d4ebff;}#sk-container-id-1 div.sk-serial::before {content: \"\";position: absolute;border-left: 1px solid gray;box-sizing: border-box;top: 0;bottom: 0;left: 50%;z-index: 0;}#sk-container-id-1 div.sk-serial {display: flex;flex-direction: column;align-items: center;background-color: white;padding-right: 0.2em;padding-left: 0.2em;position: relative;}#sk-container-id-1 div.sk-item {position: relative;z-index: 1;}#sk-container-id-1 div.sk-parallel {display: flex;align-items: stretch;justify-content: center;background-color: white;position: relative;}#sk-container-id-1 div.sk-item::before, #sk-container-id-1 div.sk-parallel-item::before {content: \"\";position: absolute;border-left: 1px solid gray;box-sizing: border-box;top: 0;bottom: 0;left: 50%;z-index: -1;}#sk-container-id-1 div.sk-parallel-item {display: flex;flex-direction: column;z-index: 1;position: relative;background-color: white;}#sk-container-id-1 div.sk-parallel-item:first-child::after {align-self: flex-end;width: 50%;}#sk-container-id-1 div.sk-parallel-item:last-child::after {align-self: flex-start;width: 50%;}#sk-container-id-1 div.sk-parallel-item:only-child::after {width: 0;}#sk-container-id-1 div.sk-dashed-wrapped {border: 1px dashed gray;margin: 0 0.4em 0.5em 0.4em;box-sizing: border-box;padding-bottom: 0.4em;background-color: white;}#sk-container-id-1 div.sk-label label {font-family: monospace;font-weight: bold;display: inline-block;line-height: 1.2em;}#sk-container-id-1 div.sk-label-container {text-align: center;}#sk-container-id-1 div.sk-container {/* jupyter's `normalize.less` sets `[hidden] { display: none; }` but bootstrap.min.css set `[hidden] { display: none !important; }` so we also need the `!important` here to be able to override the default hidden behavior on the sphinx rendered scikit-learn.org. See: https://github.com/scikit-learn/scikit-learn/issues/21755 */display: inline-block !important;position: relative;}#sk-container-id-1 div.sk-text-repr-fallback {display: none;}</style><div id=\"sk-container-id-1\" class=\"sk-top-container\"><div class=\"sk-text-repr-fallback\"><pre>RandomForestRegressor(max_depth=5, min_samples_split=1, n_estimators=1000)</pre><b>In a Jupyter environment, please rerun this cell to show the HTML representation or trust the notebook. <br />On GitHub, the HTML representation is unable to render, please try loading this page with nbviewer.org.</b></div><div class=\"sk-container\" hidden><div class=\"sk-item\"><div class=\"sk-estimator sk-toggleable\"><input class=\"sk-toggleable__control sk-hidden--visually\" id=\"sk-estimator-id-1\" type=\"checkbox\" checked><label for=\"sk-estimator-id-1\" class=\"sk-toggleable__label sk-toggleable__label-arrow\">RandomForestRegressor</label><div class=\"sk-toggleable__content\"><pre>RandomForestRegressor(max_depth=5, min_samples_split=1, n_estimators=1000)</pre></div></div></div></div></div>"
      ],
      "text/plain": [
       "RandomForestRegressor(max_depth=5, min_samples_split=1, n_estimators=1000)"
      ]
     },
     "execution_count": 69,
     "metadata": {},
     "output_type": "execute_result"
    }
   ],
   "source": [
    "clf=RandomForestRegressor(max_depth= 5, min_samples_split=1, n_estimators= 1000)\n",
    "clf.fit(X_train,Y_train)"
   ]
  },
  {
   "cell_type": "code",
   "execution_count": 77,
   "id": "7ea428eb",
   "metadata": {},
   "outputs": [
    {
     "data": {
      "text/plain": [
       "array([2.90858662e-04, 3.14300977e-04, 1.83626982e-03, 4.82978955e-04,\n",
       "       5.53225591e-01, 6.22399173e-02, 3.57931714e-05, 2.24964777e-05,\n",
       "       3.81551794e-01])"
      ]
     },
     "execution_count": 77,
     "metadata": {},
     "output_type": "execute_result"
    }
   ],
   "source": [
    "\n",
    "clf.feature_importances_"
   ]
  },
  {
   "cell_type": "markdown",
   "id": "3c7e2335",
   "metadata": {},
   "source": [
    "## Save the model"
   ]
  },
  {
   "cell_type": "code",
   "execution_count": 79,
   "id": "a518813b",
   "metadata": {},
   "outputs": [],
   "source": [
    "import pickle"
   ]
  },
  {
   "cell_type": "code",
   "execution_count": 80,
   "id": "20703da1",
   "metadata": {},
   "outputs": [],
   "source": [
    "pickle.dump(grid_search_forest,open('Big_data_model.pkl','wb'))"
   ]
  },
  {
   "cell_type": "code",
   "execution_count": null,
   "id": "c925d63f",
   "metadata": {},
   "outputs": [],
   "source": [
    "model=pickle"
   ]
  },
  {
   "cell_type": "code",
   "execution_count": null,
   "id": "f731629b",
   "metadata": {},
   "outputs": [],
   "source": [
    "model.predict(X_test_std)"
   ]
  },
  {
   "cell_type": "code",
   "execution_count": null,
   "id": "d4f91922",
   "metadata": {},
   "outputs": [],
   "source": []
  }
 ],
 "metadata": {
  "kernelspec": {
   "display_name": "Python 3 (ipykernel)",
   "language": "python",
   "name": "python3"
  },
  "language_info": {
   "codemirror_mode": {
    "name": "ipython",
    "version": 3
   },
   "file_extension": ".py",
   "mimetype": "text/x-python",
   "name": "python",
   "nbconvert_exporter": "python",
   "pygments_lexer": "ipython3",
   "version": "3.10.9"
  }
 },
 "nbformat": 4,
 "nbformat_minor": 5
}
