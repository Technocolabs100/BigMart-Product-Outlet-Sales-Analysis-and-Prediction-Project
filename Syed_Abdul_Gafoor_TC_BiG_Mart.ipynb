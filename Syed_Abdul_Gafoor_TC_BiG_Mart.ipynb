{
  "cells": [
    {
      "cell_type": "markdown",
      "metadata": {
        "id": "GM_ztupGyNXx"
      },
      "source": [
        "# **Task 1 -The Business Problem Exploring** "
      ]
    },
    {
      "cell_type": "markdown",
      "metadata": {
        "id": "AKOdlNplyXYY"
      },
      "source": [
        "### Problem Statement - \n",
        " The data has missing values as some stores do not report all the data due to technical glitches. Hence, it will be required to treat them accordingly."
      ]
    },
    {
      "cell_type": "code",
      "execution_count": 184,
      "metadata": {
        "id": "OmJnzqiLyRIb"
      },
      "outputs": [],
      "source": [
        "#Importing the libraries\n",
        "from sklearn.model_selection import train_test_split\n",
        "from sklearn.metrics import accuracy_score\n",
        "#For data analysis\n",
        "import pandas as pd\n",
        "import numpy as np\n",
        "import random as rndm\n",
        "import matplotlib.pyplot as plt#For Graphs\n",
        "import seaborn as sns\n",
        "%matplotlib inline\n"
      ]
    },
    {
      "cell_type": "code",
      "execution_count": 185,
      "metadata": {
        "colab": {
          "base_uri": "https://localhost:8080/"
        },
        "id": "aTielbBwyZWZ",
        "outputId": "f59a0f5d-be4a-4932-c288-cf3154d16c4a"
      },
      "outputs": [
        {
          "output_type": "stream",
          "name": "stdout",
          "text": [
            "Drive already mounted at /content/drive; to attempt to forcibly remount, call drive.mount(\"/content/drive\", force_remount=True).\n"
          ]
        }
      ],
      "source": [
        "from google.colab import drive\n",
        "drive.mount('/content/drive')"
      ]
    },
    {
      "cell_type": "code",
      "execution_count": 186,
      "metadata": {
        "id": "Ln-ekNAPyfyo"
      },
      "outputs": [],
      "source": [
        "from sklearn.preprocessing import LabelEncoder, StandardScaler\n",
        "from sklearn.model_selection import train_test_split, cross_val_score\n",
        "from sklearn import metrics\n",
        "from sklearn.linear_model import LinearRegression\n",
        "from sklearn.ensemble import RandomForestRegressor"
      ]
    },
    {
      "cell_type": "code",
      "execution_count": 187,
      "metadata": {
        "id": "yIZvVTlVyjAW"
      },
      "outputs": [],
      "source": [
        "train = pd.read_csv(\"/content/drive/MyDrive/Big Mart/Train.csv\")\n",
        "test = pd.read_csv(\"/content/drive/MyDrive/Big Mart/Test.csv\")"
      ]
    },
    {
      "cell_type": "code",
      "execution_count": 188,
      "metadata": {
        "colab": {
          "base_uri": "https://localhost:8080/",
          "height": 357
        },
        "id": "ukFXSuFyyl5H",
        "outputId": "16af806a-8248-4f5d-fd5f-67f335507eac"
      },
      "outputs": [
        {
          "output_type": "execute_result",
          "data": {
            "text/plain": [
              "  Item_Identifier  Item_Weight Item_Fat_Content  Item_Visibility  \\\n",
              "0           FDA15         9.30          Low Fat         0.016047   \n",
              "1           DRC01         5.92          Regular         0.019278   \n",
              "2           FDN15        17.50          Low Fat         0.016760   \n",
              "3           FDX07        19.20          Regular         0.000000   \n",
              "4           NCD19         8.93          Low Fat         0.000000   \n",
              "\n",
              "               Item_Type  Item_MRP Outlet_Identifier  \\\n",
              "0                  Dairy  249.8092            OUT049   \n",
              "1            Soft Drinks   48.2692            OUT018   \n",
              "2                   Meat  141.6180            OUT049   \n",
              "3  Fruits and Vegetables  182.0950            OUT010   \n",
              "4              Household   53.8614            OUT013   \n",
              "\n",
              "   Outlet_Establishment_Year Outlet_Size Outlet_Location_Type  \\\n",
              "0                       1999      Medium               Tier 1   \n",
              "1                       2009      Medium               Tier 3   \n",
              "2                       1999      Medium               Tier 1   \n",
              "3                       1998         NaN               Tier 3   \n",
              "4                       1987        High               Tier 3   \n",
              "\n",
              "         Outlet_Type  Item_Outlet_Sales  \n",
              "0  Supermarket Type1          3735.1380  \n",
              "1  Supermarket Type2           443.4228  \n",
              "2  Supermarket Type1          2097.2700  \n",
              "3      Grocery Store           732.3800  \n",
              "4  Supermarket Type1           994.7052  "
            ],
            "text/html": [
              "\n",
              "  <div id=\"df-b56c0339-3783-4b28-a6e4-366d14c3d299\">\n",
              "    <div class=\"colab-df-container\">\n",
              "      <div>\n",
              "<style scoped>\n",
              "    .dataframe tbody tr th:only-of-type {\n",
              "        vertical-align: middle;\n",
              "    }\n",
              "\n",
              "    .dataframe tbody tr th {\n",
              "        vertical-align: top;\n",
              "    }\n",
              "\n",
              "    .dataframe thead th {\n",
              "        text-align: right;\n",
              "    }\n",
              "</style>\n",
              "<table border=\"1\" class=\"dataframe\">\n",
              "  <thead>\n",
              "    <tr style=\"text-align: right;\">\n",
              "      <th></th>\n",
              "      <th>Item_Identifier</th>\n",
              "      <th>Item_Weight</th>\n",
              "      <th>Item_Fat_Content</th>\n",
              "      <th>Item_Visibility</th>\n",
              "      <th>Item_Type</th>\n",
              "      <th>Item_MRP</th>\n",
              "      <th>Outlet_Identifier</th>\n",
              "      <th>Outlet_Establishment_Year</th>\n",
              "      <th>Outlet_Size</th>\n",
              "      <th>Outlet_Location_Type</th>\n",
              "      <th>Outlet_Type</th>\n",
              "      <th>Item_Outlet_Sales</th>\n",
              "    </tr>\n",
              "  </thead>\n",
              "  <tbody>\n",
              "    <tr>\n",
              "      <th>0</th>\n",
              "      <td>FDA15</td>\n",
              "      <td>9.30</td>\n",
              "      <td>Low Fat</td>\n",
              "      <td>0.016047</td>\n",
              "      <td>Dairy</td>\n",
              "      <td>249.8092</td>\n",
              "      <td>OUT049</td>\n",
              "      <td>1999</td>\n",
              "      <td>Medium</td>\n",
              "      <td>Tier 1</td>\n",
              "      <td>Supermarket Type1</td>\n",
              "      <td>3735.1380</td>\n",
              "    </tr>\n",
              "    <tr>\n",
              "      <th>1</th>\n",
              "      <td>DRC01</td>\n",
              "      <td>5.92</td>\n",
              "      <td>Regular</td>\n",
              "      <td>0.019278</td>\n",
              "      <td>Soft Drinks</td>\n",
              "      <td>48.2692</td>\n",
              "      <td>OUT018</td>\n",
              "      <td>2009</td>\n",
              "      <td>Medium</td>\n",
              "      <td>Tier 3</td>\n",
              "      <td>Supermarket Type2</td>\n",
              "      <td>443.4228</td>\n",
              "    </tr>\n",
              "    <tr>\n",
              "      <th>2</th>\n",
              "      <td>FDN15</td>\n",
              "      <td>17.50</td>\n",
              "      <td>Low Fat</td>\n",
              "      <td>0.016760</td>\n",
              "      <td>Meat</td>\n",
              "      <td>141.6180</td>\n",
              "      <td>OUT049</td>\n",
              "      <td>1999</td>\n",
              "      <td>Medium</td>\n",
              "      <td>Tier 1</td>\n",
              "      <td>Supermarket Type1</td>\n",
              "      <td>2097.2700</td>\n",
              "    </tr>\n",
              "    <tr>\n",
              "      <th>3</th>\n",
              "      <td>FDX07</td>\n",
              "      <td>19.20</td>\n",
              "      <td>Regular</td>\n",
              "      <td>0.000000</td>\n",
              "      <td>Fruits and Vegetables</td>\n",
              "      <td>182.0950</td>\n",
              "      <td>OUT010</td>\n",
              "      <td>1998</td>\n",
              "      <td>NaN</td>\n",
              "      <td>Tier 3</td>\n",
              "      <td>Grocery Store</td>\n",
              "      <td>732.3800</td>\n",
              "    </tr>\n",
              "    <tr>\n",
              "      <th>4</th>\n",
              "      <td>NCD19</td>\n",
              "      <td>8.93</td>\n",
              "      <td>Low Fat</td>\n",
              "      <td>0.000000</td>\n",
              "      <td>Household</td>\n",
              "      <td>53.8614</td>\n",
              "      <td>OUT013</td>\n",
              "      <td>1987</td>\n",
              "      <td>High</td>\n",
              "      <td>Tier 3</td>\n",
              "      <td>Supermarket Type1</td>\n",
              "      <td>994.7052</td>\n",
              "    </tr>\n",
              "  </tbody>\n",
              "</table>\n",
              "</div>\n",
              "      <button class=\"colab-df-convert\" onclick=\"convertToInteractive('df-b56c0339-3783-4b28-a6e4-366d14c3d299')\"\n",
              "              title=\"Convert this dataframe to an interactive table.\"\n",
              "              style=\"display:none;\">\n",
              "        \n",
              "  <svg xmlns=\"http://www.w3.org/2000/svg\" height=\"24px\"viewBox=\"0 0 24 24\"\n",
              "       width=\"24px\">\n",
              "    <path d=\"M0 0h24v24H0V0z\" fill=\"none\"/>\n",
              "    <path d=\"M18.56 5.44l.94 2.06.94-2.06 2.06-.94-2.06-.94-.94-2.06-.94 2.06-2.06.94zm-11 1L8.5 8.5l.94-2.06 2.06-.94-2.06-.94L8.5 2.5l-.94 2.06-2.06.94zm10 10l.94 2.06.94-2.06 2.06-.94-2.06-.94-.94-2.06-.94 2.06-2.06.94z\"/><path d=\"M17.41 7.96l-1.37-1.37c-.4-.4-.92-.59-1.43-.59-.52 0-1.04.2-1.43.59L10.3 9.45l-7.72 7.72c-.78.78-.78 2.05 0 2.83L4 21.41c.39.39.9.59 1.41.59.51 0 1.02-.2 1.41-.59l7.78-7.78 2.81-2.81c.8-.78.8-2.07 0-2.86zM5.41 20L4 18.59l7.72-7.72 1.47 1.35L5.41 20z\"/>\n",
              "  </svg>\n",
              "      </button>\n",
              "      \n",
              "  <style>\n",
              "    .colab-df-container {\n",
              "      display:flex;\n",
              "      flex-wrap:wrap;\n",
              "      gap: 12px;\n",
              "    }\n",
              "\n",
              "    .colab-df-convert {\n",
              "      background-color: #E8F0FE;\n",
              "      border: none;\n",
              "      border-radius: 50%;\n",
              "      cursor: pointer;\n",
              "      display: none;\n",
              "      fill: #1967D2;\n",
              "      height: 32px;\n",
              "      padding: 0 0 0 0;\n",
              "      width: 32px;\n",
              "    }\n",
              "\n",
              "    .colab-df-convert:hover {\n",
              "      background-color: #E2EBFA;\n",
              "      box-shadow: 0px 1px 2px rgba(60, 64, 67, 0.3), 0px 1px 3px 1px rgba(60, 64, 67, 0.15);\n",
              "      fill: #174EA6;\n",
              "    }\n",
              "\n",
              "    [theme=dark] .colab-df-convert {\n",
              "      background-color: #3B4455;\n",
              "      fill: #D2E3FC;\n",
              "    }\n",
              "\n",
              "    [theme=dark] .colab-df-convert:hover {\n",
              "      background-color: #434B5C;\n",
              "      box-shadow: 0px 1px 3px 1px rgba(0, 0, 0, 0.15);\n",
              "      filter: drop-shadow(0px 1px 2px rgba(0, 0, 0, 0.3));\n",
              "      fill: #FFFFFF;\n",
              "    }\n",
              "  </style>\n",
              "\n",
              "      <script>\n",
              "        const buttonEl =\n",
              "          document.querySelector('#df-b56c0339-3783-4b28-a6e4-366d14c3d299 button.colab-df-convert');\n",
              "        buttonEl.style.display =\n",
              "          google.colab.kernel.accessAllowed ? 'block' : 'none';\n",
              "\n",
              "        async function convertToInteractive(key) {\n",
              "          const element = document.querySelector('#df-b56c0339-3783-4b28-a6e4-366d14c3d299');\n",
              "          const dataTable =\n",
              "            await google.colab.kernel.invokeFunction('convertToInteractive',\n",
              "                                                     [key], {});\n",
              "          if (!dataTable) return;\n",
              "\n",
              "          const docLinkHtml = 'Like what you see? Visit the ' +\n",
              "            '<a target=\"_blank\" href=https://colab.research.google.com/notebooks/data_table.ipynb>data table notebook</a>'\n",
              "            + ' to learn more about interactive tables.';\n",
              "          element.innerHTML = '';\n",
              "          dataTable['output_type'] = 'display_data';\n",
              "          await google.colab.output.renderOutput(dataTable, element);\n",
              "          const docLink = document.createElement('div');\n",
              "          docLink.innerHTML = docLinkHtml;\n",
              "          element.appendChild(docLink);\n",
              "        }\n",
              "      </script>\n",
              "    </div>\n",
              "  </div>\n",
              "  "
            ]
          },
          "metadata": {},
          "execution_count": 188
        }
      ],
      "source": [
        "train.head()"
      ]
    },
    {
      "cell_type": "code",
      "execution_count": null,
      "metadata": {
        "colab": {
          "base_uri": "https://localhost:8080/"
        },
        "id": "_KETVrVzyozU",
        "outputId": "b391c768-5b92-4173-e157-46829b6efda2"
      },
      "outputs": [
        {
          "data": {
            "text/plain": [
              "(8523, 12)"
            ]
          },
          "execution_count": 112,
          "metadata": {},
          "output_type": "execute_result"
        }
      ],
      "source": [
        "train.shape"
      ]
    },
    {
      "cell_type": "code",
      "execution_count": null,
      "metadata": {
        "colab": {
          "base_uri": "https://localhost:8080/"
        },
        "id": "SEvMSy_NyrY8",
        "outputId": "5a970c38-b430-4411-962b-9362b419cd49"
      },
      "outputs": [
        {
          "name": "stdout",
          "output_type": "stream",
          "text": [
            "<class 'pandas.core.frame.DataFrame'>\n",
            "RangeIndex: 8523 entries, 0 to 8522\n",
            "Data columns (total 12 columns):\n",
            " #   Column                     Non-Null Count  Dtype  \n",
            "---  ------                     --------------  -----  \n",
            " 0   Item_Identifier            8523 non-null   object \n",
            " 1   Item_Weight                7060 non-null   float64\n",
            " 2   Item_Fat_Content           8523 non-null   object \n",
            " 3   Item_Visibility            8523 non-null   float64\n",
            " 4   Item_Type                  8523 non-null   object \n",
            " 5   Item_MRP                   8523 non-null   float64\n",
            " 6   Outlet_Identifier          8523 non-null   object \n",
            " 7   Outlet_Establishment_Year  8523 non-null   int64  \n",
            " 8   Outlet_Size                6113 non-null   object \n",
            " 9   Outlet_Location_Type       8523 non-null   object \n",
            " 10  Outlet_Type                8523 non-null   object \n",
            " 11  Item_Outlet_Sales          8523 non-null   float64\n",
            "dtypes: float64(4), int64(1), object(7)\n",
            "memory usage: 799.2+ KB\n"
          ]
        }
      ],
      "source": [
        "train.info()"
      ]
    },
    {
      "cell_type": "code",
      "execution_count": null,
      "metadata": {
        "colab": {
          "base_uri": "https://localhost:8080/",
          "height": 319
        },
        "id": "TDNNRk12ytoa",
        "outputId": "b1bcfb62-5ee1-4510-eebe-ba8d2d06c618"
      },
      "outputs": [
        {
          "data": {
            "text/html": [
              "\n",
              "  <div id=\"df-85f00b91-bd77-466d-8986-e7b1d88f2fbc\">\n",
              "    <div class=\"colab-df-container\">\n",
              "      <div>\n",
              "<style scoped>\n",
              "    .dataframe tbody tr th:only-of-type {\n",
              "        vertical-align: middle;\n",
              "    }\n",
              "\n",
              "    .dataframe tbody tr th {\n",
              "        vertical-align: top;\n",
              "    }\n",
              "\n",
              "    .dataframe thead th {\n",
              "        text-align: right;\n",
              "    }\n",
              "</style>\n",
              "<table border=\"1\" class=\"dataframe\">\n",
              "  <thead>\n",
              "    <tr style=\"text-align: right;\">\n",
              "      <th></th>\n",
              "      <th>Item_Identifier</th>\n",
              "      <th>Item_Weight</th>\n",
              "      <th>Item_Fat_Content</th>\n",
              "      <th>Item_Visibility</th>\n",
              "      <th>Item_Type</th>\n",
              "      <th>Item_MRP</th>\n",
              "      <th>Outlet_Identifier</th>\n",
              "      <th>Outlet_Establishment_Year</th>\n",
              "      <th>Outlet_Size</th>\n",
              "      <th>Outlet_Location_Type</th>\n",
              "      <th>Outlet_Type</th>\n",
              "    </tr>\n",
              "  </thead>\n",
              "  <tbody>\n",
              "    <tr>\n",
              "      <th>0</th>\n",
              "      <td>FDW58</td>\n",
              "      <td>20.750</td>\n",
              "      <td>Low Fat</td>\n",
              "      <td>0.007565</td>\n",
              "      <td>Snack Foods</td>\n",
              "      <td>107.8622</td>\n",
              "      <td>OUT049</td>\n",
              "      <td>1999</td>\n",
              "      <td>Medium</td>\n",
              "      <td>Tier 1</td>\n",
              "      <td>Supermarket Type1</td>\n",
              "    </tr>\n",
              "    <tr>\n",
              "      <th>1</th>\n",
              "      <td>FDW14</td>\n",
              "      <td>8.300</td>\n",
              "      <td>reg</td>\n",
              "      <td>0.038428</td>\n",
              "      <td>Dairy</td>\n",
              "      <td>87.3198</td>\n",
              "      <td>OUT017</td>\n",
              "      <td>2007</td>\n",
              "      <td>NaN</td>\n",
              "      <td>Tier 2</td>\n",
              "      <td>Supermarket Type1</td>\n",
              "    </tr>\n",
              "    <tr>\n",
              "      <th>2</th>\n",
              "      <td>NCN55</td>\n",
              "      <td>14.600</td>\n",
              "      <td>Low Fat</td>\n",
              "      <td>0.099575</td>\n",
              "      <td>Others</td>\n",
              "      <td>241.7538</td>\n",
              "      <td>OUT010</td>\n",
              "      <td>1998</td>\n",
              "      <td>NaN</td>\n",
              "      <td>Tier 3</td>\n",
              "      <td>Grocery Store</td>\n",
              "    </tr>\n",
              "    <tr>\n",
              "      <th>3</th>\n",
              "      <td>FDQ58</td>\n",
              "      <td>7.315</td>\n",
              "      <td>Low Fat</td>\n",
              "      <td>0.015388</td>\n",
              "      <td>Snack Foods</td>\n",
              "      <td>155.0340</td>\n",
              "      <td>OUT017</td>\n",
              "      <td>2007</td>\n",
              "      <td>NaN</td>\n",
              "      <td>Tier 2</td>\n",
              "      <td>Supermarket Type1</td>\n",
              "    </tr>\n",
              "    <tr>\n",
              "      <th>4</th>\n",
              "      <td>FDY38</td>\n",
              "      <td>NaN</td>\n",
              "      <td>Regular</td>\n",
              "      <td>0.118599</td>\n",
              "      <td>Dairy</td>\n",
              "      <td>234.2300</td>\n",
              "      <td>OUT027</td>\n",
              "      <td>1985</td>\n",
              "      <td>Medium</td>\n",
              "      <td>Tier 3</td>\n",
              "      <td>Supermarket Type3</td>\n",
              "    </tr>\n",
              "  </tbody>\n",
              "</table>\n",
              "</div>\n",
              "      <button class=\"colab-df-convert\" onclick=\"convertToInteractive('df-85f00b91-bd77-466d-8986-e7b1d88f2fbc')\"\n",
              "              title=\"Convert this dataframe to an interactive table.\"\n",
              "              style=\"display:none;\">\n",
              "        \n",
              "  <svg xmlns=\"http://www.w3.org/2000/svg\" height=\"24px\"viewBox=\"0 0 24 24\"\n",
              "       width=\"24px\">\n",
              "    <path d=\"M0 0h24v24H0V0z\" fill=\"none\"/>\n",
              "    <path d=\"M18.56 5.44l.94 2.06.94-2.06 2.06-.94-2.06-.94-.94-2.06-.94 2.06-2.06.94zm-11 1L8.5 8.5l.94-2.06 2.06-.94-2.06-.94L8.5 2.5l-.94 2.06-2.06.94zm10 10l.94 2.06.94-2.06 2.06-.94-2.06-.94-.94-2.06-.94 2.06-2.06.94z\"/><path d=\"M17.41 7.96l-1.37-1.37c-.4-.4-.92-.59-1.43-.59-.52 0-1.04.2-1.43.59L10.3 9.45l-7.72 7.72c-.78.78-.78 2.05 0 2.83L4 21.41c.39.39.9.59 1.41.59.51 0 1.02-.2 1.41-.59l7.78-7.78 2.81-2.81c.8-.78.8-2.07 0-2.86zM5.41 20L4 18.59l7.72-7.72 1.47 1.35L5.41 20z\"/>\n",
              "  </svg>\n",
              "      </button>\n",
              "      \n",
              "  <style>\n",
              "    .colab-df-container {\n",
              "      display:flex;\n",
              "      flex-wrap:wrap;\n",
              "      gap: 12px;\n",
              "    }\n",
              "\n",
              "    .colab-df-convert {\n",
              "      background-color: #E8F0FE;\n",
              "      border: none;\n",
              "      border-radius: 50%;\n",
              "      cursor: pointer;\n",
              "      display: none;\n",
              "      fill: #1967D2;\n",
              "      height: 32px;\n",
              "      padding: 0 0 0 0;\n",
              "      width: 32px;\n",
              "    }\n",
              "\n",
              "    .colab-df-convert:hover {\n",
              "      background-color: #E2EBFA;\n",
              "      box-shadow: 0px 1px 2px rgba(60, 64, 67, 0.3), 0px 1px 3px 1px rgba(60, 64, 67, 0.15);\n",
              "      fill: #174EA6;\n",
              "    }\n",
              "\n",
              "    [theme=dark] .colab-df-convert {\n",
              "      background-color: #3B4455;\n",
              "      fill: #D2E3FC;\n",
              "    }\n",
              "\n",
              "    [theme=dark] .colab-df-convert:hover {\n",
              "      background-color: #434B5C;\n",
              "      box-shadow: 0px 1px 3px 1px rgba(0, 0, 0, 0.15);\n",
              "      filter: drop-shadow(0px 1px 2px rgba(0, 0, 0, 0.3));\n",
              "      fill: #FFFFFF;\n",
              "    }\n",
              "  </style>\n",
              "\n",
              "      <script>\n",
              "        const buttonEl =\n",
              "          document.querySelector('#df-85f00b91-bd77-466d-8986-e7b1d88f2fbc button.colab-df-convert');\n",
              "        buttonEl.style.display =\n",
              "          google.colab.kernel.accessAllowed ? 'block' : 'none';\n",
              "\n",
              "        async function convertToInteractive(key) {\n",
              "          const element = document.querySelector('#df-85f00b91-bd77-466d-8986-e7b1d88f2fbc');\n",
              "          const dataTable =\n",
              "            await google.colab.kernel.invokeFunction('convertToInteractive',\n",
              "                                                     [key], {});\n",
              "          if (!dataTable) return;\n",
              "\n",
              "          const docLinkHtml = 'Like what you see? Visit the ' +\n",
              "            '<a target=\"_blank\" href=https://colab.research.google.com/notebooks/data_table.ipynb>data table notebook</a>'\n",
              "            + ' to learn more about interactive tables.';\n",
              "          element.innerHTML = '';\n",
              "          dataTable['output_type'] = 'display_data';\n",
              "          await google.colab.output.renderOutput(dataTable, element);\n",
              "          const docLink = document.createElement('div');\n",
              "          docLink.innerHTML = docLinkHtml;\n",
              "          element.appendChild(docLink);\n",
              "        }\n",
              "      </script>\n",
              "    </div>\n",
              "  </div>\n",
              "  "
            ],
            "text/plain": [
              "  Item_Identifier  Item_Weight Item_Fat_Content  Item_Visibility    Item_Type  \\\n",
              "0           FDW58       20.750          Low Fat         0.007565  Snack Foods   \n",
              "1           FDW14        8.300              reg         0.038428        Dairy   \n",
              "2           NCN55       14.600          Low Fat         0.099575       Others   \n",
              "3           FDQ58        7.315          Low Fat         0.015388  Snack Foods   \n",
              "4           FDY38          NaN          Regular         0.118599        Dairy   \n",
              "\n",
              "   Item_MRP Outlet_Identifier  Outlet_Establishment_Year Outlet_Size  \\\n",
              "0  107.8622            OUT049                       1999      Medium   \n",
              "1   87.3198            OUT017                       2007         NaN   \n",
              "2  241.7538            OUT010                       1998         NaN   \n",
              "3  155.0340            OUT017                       2007         NaN   \n",
              "4  234.2300            OUT027                       1985      Medium   \n",
              "\n",
              "  Outlet_Location_Type        Outlet_Type  \n",
              "0               Tier 1  Supermarket Type1  \n",
              "1               Tier 2  Supermarket Type1  \n",
              "2               Tier 3      Grocery Store  \n",
              "3               Tier 2  Supermarket Type1  \n",
              "4               Tier 3  Supermarket Type3  "
            ]
          },
          "execution_count": 114,
          "metadata": {},
          "output_type": "execute_result"
        }
      ],
      "source": [
        "test.head()"
      ]
    },
    {
      "cell_type": "code",
      "execution_count": null,
      "metadata": {
        "colab": {
          "base_uri": "https://localhost:8080/"
        },
        "id": "e9RRerXbywZM",
        "outputId": "67caba86-27d5-42dc-9a2f-7f9e8b790565"
      },
      "outputs": [
        {
          "data": {
            "text/plain": [
              "(5681, 11)"
            ]
          },
          "execution_count": 115,
          "metadata": {},
          "output_type": "execute_result"
        }
      ],
      "source": [
        "test.shape"
      ]
    },
    {
      "cell_type": "code",
      "execution_count": null,
      "metadata": {
        "colab": {
          "base_uri": "https://localhost:8080/"
        },
        "id": "i1GSIjLAyyf6",
        "outputId": "5fb0cb7a-8b3f-41c8-eca2-7a57a3318054"
      },
      "outputs": [
        {
          "name": "stdout",
          "output_type": "stream",
          "text": [
            "(8523, 13) (5681, 13) (14204, 13)\n"
          ]
        }
      ],
      "source": [
        "#Combine test and train into one file so that it be easy to analyze\n",
        "train['source']='train'\n",
        "test['source']='test'\n",
        "test['Item_Outlet_Sales']=0.0\n",
        "data = pd.concat([train, test],ignore_index=True)\n",
        "print(train.shape, test.shape, data.shape)"
      ]
    },
    {
      "cell_type": "code",
      "execution_count": null,
      "metadata": {
        "colab": {
          "base_uri": "https://localhost:8080/",
          "height": 357
        },
        "id": "dLcBczWKy1Nz",
        "outputId": "cf9562f3-1a69-4776-fb69-482b71e7d22d"
      },
      "outputs": [
        {
          "data": {
            "text/html": [
              "\n",
              "  <div id=\"df-062cb73b-4f4c-48b6-b82e-473f1576c541\">\n",
              "    <div class=\"colab-df-container\">\n",
              "      <div>\n",
              "<style scoped>\n",
              "    .dataframe tbody tr th:only-of-type {\n",
              "        vertical-align: middle;\n",
              "    }\n",
              "\n",
              "    .dataframe tbody tr th {\n",
              "        vertical-align: top;\n",
              "    }\n",
              "\n",
              "    .dataframe thead th {\n",
              "        text-align: right;\n",
              "    }\n",
              "</style>\n",
              "<table border=\"1\" class=\"dataframe\">\n",
              "  <thead>\n",
              "    <tr style=\"text-align: right;\">\n",
              "      <th></th>\n",
              "      <th>Item_Identifier</th>\n",
              "      <th>Item_Weight</th>\n",
              "      <th>Item_Fat_Content</th>\n",
              "      <th>Item_Visibility</th>\n",
              "      <th>Item_Type</th>\n",
              "      <th>Item_MRP</th>\n",
              "      <th>Outlet_Identifier</th>\n",
              "      <th>Outlet_Establishment_Year</th>\n",
              "      <th>Outlet_Size</th>\n",
              "      <th>Outlet_Location_Type</th>\n",
              "      <th>Outlet_Type</th>\n",
              "      <th>Item_Outlet_Sales</th>\n",
              "      <th>source</th>\n",
              "    </tr>\n",
              "  </thead>\n",
              "  <tbody>\n",
              "    <tr>\n",
              "      <th>0</th>\n",
              "      <td>FDA15</td>\n",
              "      <td>9.30</td>\n",
              "      <td>Low Fat</td>\n",
              "      <td>0.016047</td>\n",
              "      <td>Dairy</td>\n",
              "      <td>249.8092</td>\n",
              "      <td>OUT049</td>\n",
              "      <td>1999</td>\n",
              "      <td>Medium</td>\n",
              "      <td>Tier 1</td>\n",
              "      <td>Supermarket Type1</td>\n",
              "      <td>3735.1380</td>\n",
              "      <td>train</td>\n",
              "    </tr>\n",
              "    <tr>\n",
              "      <th>1</th>\n",
              "      <td>DRC01</td>\n",
              "      <td>5.92</td>\n",
              "      <td>Regular</td>\n",
              "      <td>0.019278</td>\n",
              "      <td>Soft Drinks</td>\n",
              "      <td>48.2692</td>\n",
              "      <td>OUT018</td>\n",
              "      <td>2009</td>\n",
              "      <td>Medium</td>\n",
              "      <td>Tier 3</td>\n",
              "      <td>Supermarket Type2</td>\n",
              "      <td>443.4228</td>\n",
              "      <td>train</td>\n",
              "    </tr>\n",
              "    <tr>\n",
              "      <th>2</th>\n",
              "      <td>FDN15</td>\n",
              "      <td>17.50</td>\n",
              "      <td>Low Fat</td>\n",
              "      <td>0.016760</td>\n",
              "      <td>Meat</td>\n",
              "      <td>141.6180</td>\n",
              "      <td>OUT049</td>\n",
              "      <td>1999</td>\n",
              "      <td>Medium</td>\n",
              "      <td>Tier 1</td>\n",
              "      <td>Supermarket Type1</td>\n",
              "      <td>2097.2700</td>\n",
              "      <td>train</td>\n",
              "    </tr>\n",
              "    <tr>\n",
              "      <th>3</th>\n",
              "      <td>FDX07</td>\n",
              "      <td>19.20</td>\n",
              "      <td>Regular</td>\n",
              "      <td>0.000000</td>\n",
              "      <td>Fruits and Vegetables</td>\n",
              "      <td>182.0950</td>\n",
              "      <td>OUT010</td>\n",
              "      <td>1998</td>\n",
              "      <td>NaN</td>\n",
              "      <td>Tier 3</td>\n",
              "      <td>Grocery Store</td>\n",
              "      <td>732.3800</td>\n",
              "      <td>train</td>\n",
              "    </tr>\n",
              "    <tr>\n",
              "      <th>4</th>\n",
              "      <td>NCD19</td>\n",
              "      <td>8.93</td>\n",
              "      <td>Low Fat</td>\n",
              "      <td>0.000000</td>\n",
              "      <td>Household</td>\n",
              "      <td>53.8614</td>\n",
              "      <td>OUT013</td>\n",
              "      <td>1987</td>\n",
              "      <td>High</td>\n",
              "      <td>Tier 3</td>\n",
              "      <td>Supermarket Type1</td>\n",
              "      <td>994.7052</td>\n",
              "      <td>train</td>\n",
              "    </tr>\n",
              "  </tbody>\n",
              "</table>\n",
              "</div>\n",
              "      <button class=\"colab-df-convert\" onclick=\"convertToInteractive('df-062cb73b-4f4c-48b6-b82e-473f1576c541')\"\n",
              "              title=\"Convert this dataframe to an interactive table.\"\n",
              "              style=\"display:none;\">\n",
              "        \n",
              "  <svg xmlns=\"http://www.w3.org/2000/svg\" height=\"24px\"viewBox=\"0 0 24 24\"\n",
              "       width=\"24px\">\n",
              "    <path d=\"M0 0h24v24H0V0z\" fill=\"none\"/>\n",
              "    <path d=\"M18.56 5.44l.94 2.06.94-2.06 2.06-.94-2.06-.94-.94-2.06-.94 2.06-2.06.94zm-11 1L8.5 8.5l.94-2.06 2.06-.94-2.06-.94L8.5 2.5l-.94 2.06-2.06.94zm10 10l.94 2.06.94-2.06 2.06-.94-2.06-.94-.94-2.06-.94 2.06-2.06.94z\"/><path d=\"M17.41 7.96l-1.37-1.37c-.4-.4-.92-.59-1.43-.59-.52 0-1.04.2-1.43.59L10.3 9.45l-7.72 7.72c-.78.78-.78 2.05 0 2.83L4 21.41c.39.39.9.59 1.41.59.51 0 1.02-.2 1.41-.59l7.78-7.78 2.81-2.81c.8-.78.8-2.07 0-2.86zM5.41 20L4 18.59l7.72-7.72 1.47 1.35L5.41 20z\"/>\n",
              "  </svg>\n",
              "      </button>\n",
              "      \n",
              "  <style>\n",
              "    .colab-df-container {\n",
              "      display:flex;\n",
              "      flex-wrap:wrap;\n",
              "      gap: 12px;\n",
              "    }\n",
              "\n",
              "    .colab-df-convert {\n",
              "      background-color: #E8F0FE;\n",
              "      border: none;\n",
              "      border-radius: 50%;\n",
              "      cursor: pointer;\n",
              "      display: none;\n",
              "      fill: #1967D2;\n",
              "      height: 32px;\n",
              "      padding: 0 0 0 0;\n",
              "      width: 32px;\n",
              "    }\n",
              "\n",
              "    .colab-df-convert:hover {\n",
              "      background-color: #E2EBFA;\n",
              "      box-shadow: 0px 1px 2px rgba(60, 64, 67, 0.3), 0px 1px 3px 1px rgba(60, 64, 67, 0.15);\n",
              "      fill: #174EA6;\n",
              "    }\n",
              "\n",
              "    [theme=dark] .colab-df-convert {\n",
              "      background-color: #3B4455;\n",
              "      fill: #D2E3FC;\n",
              "    }\n",
              "\n",
              "    [theme=dark] .colab-df-convert:hover {\n",
              "      background-color: #434B5C;\n",
              "      box-shadow: 0px 1px 3px 1px rgba(0, 0, 0, 0.15);\n",
              "      filter: drop-shadow(0px 1px 2px rgba(0, 0, 0, 0.3));\n",
              "      fill: #FFFFFF;\n",
              "    }\n",
              "  </style>\n",
              "\n",
              "      <script>\n",
              "        const buttonEl =\n",
              "          document.querySelector('#df-062cb73b-4f4c-48b6-b82e-473f1576c541 button.colab-df-convert');\n",
              "        buttonEl.style.display =\n",
              "          google.colab.kernel.accessAllowed ? 'block' : 'none';\n",
              "\n",
              "        async function convertToInteractive(key) {\n",
              "          const element = document.querySelector('#df-062cb73b-4f4c-48b6-b82e-473f1576c541');\n",
              "          const dataTable =\n",
              "            await google.colab.kernel.invokeFunction('convertToInteractive',\n",
              "                                                     [key], {});\n",
              "          if (!dataTable) return;\n",
              "\n",
              "          const docLinkHtml = 'Like what you see? Visit the ' +\n",
              "            '<a target=\"_blank\" href=https://colab.research.google.com/notebooks/data_table.ipynb>data table notebook</a>'\n",
              "            + ' to learn more about interactive tables.';\n",
              "          element.innerHTML = '';\n",
              "          dataTable['output_type'] = 'display_data';\n",
              "          await google.colab.output.renderOutput(dataTable, element);\n",
              "          const docLink = document.createElement('div');\n",
              "          docLink.innerHTML = docLinkHtml;\n",
              "          element.appendChild(docLink);\n",
              "        }\n",
              "      </script>\n",
              "    </div>\n",
              "  </div>\n",
              "  "
            ],
            "text/plain": [
              "  Item_Identifier  Item_Weight Item_Fat_Content  Item_Visibility  \\\n",
              "0           FDA15         9.30          Low Fat         0.016047   \n",
              "1           DRC01         5.92          Regular         0.019278   \n",
              "2           FDN15        17.50          Low Fat         0.016760   \n",
              "3           FDX07        19.20          Regular         0.000000   \n",
              "4           NCD19         8.93          Low Fat         0.000000   \n",
              "\n",
              "               Item_Type  Item_MRP Outlet_Identifier  \\\n",
              "0                  Dairy  249.8092            OUT049   \n",
              "1            Soft Drinks   48.2692            OUT018   \n",
              "2                   Meat  141.6180            OUT049   \n",
              "3  Fruits and Vegetables  182.0950            OUT010   \n",
              "4              Household   53.8614            OUT013   \n",
              "\n",
              "   Outlet_Establishment_Year Outlet_Size Outlet_Location_Type  \\\n",
              "0                       1999      Medium               Tier 1   \n",
              "1                       2009      Medium               Tier 3   \n",
              "2                       1999      Medium               Tier 1   \n",
              "3                       1998         NaN               Tier 3   \n",
              "4                       1987        High               Tier 3   \n",
              "\n",
              "         Outlet_Type  Item_Outlet_Sales source  \n",
              "0  Supermarket Type1          3735.1380  train  \n",
              "1  Supermarket Type2           443.4228  train  \n",
              "2  Supermarket Type1          2097.2700  train  \n",
              "3      Grocery Store           732.3800  train  \n",
              "4  Supermarket Type1           994.7052  train  "
            ]
          },
          "execution_count": 117,
          "metadata": {},
          "output_type": "execute_result"
        }
      ],
      "source": [
        "data.head()"
      ]
    },
    {
      "cell_type": "code",
      "execution_count": null,
      "metadata": {
        "colab": {
          "base_uri": "https://localhost:8080/"
        },
        "id": "hR2EWs1ay4Au",
        "outputId": "c1199856-8d91-4070-f9c1-5df0904f5cbd"
      },
      "outputs": [
        {
          "data": {
            "text/plain": [
              "Item_Identifier                 0\n",
              "Item_Weight                  2439\n",
              "Item_Fat_Content                0\n",
              "Item_Visibility                 0\n",
              "Item_Type                       0\n",
              "Item_MRP                        0\n",
              "Outlet_Identifier               0\n",
              "Outlet_Establishment_Year       0\n",
              "Outlet_Size                  4016\n",
              "Outlet_Location_Type            0\n",
              "Outlet_Type                     0\n",
              "Item_Outlet_Sales               0\n",
              "source                          0\n",
              "dtype: int64"
            ]
          },
          "execution_count": 118,
          "metadata": {},
          "output_type": "execute_result"
        }
      ],
      "source": [
        "data.apply(lambda x: sum(x.isnull()))"
      ]
    },
    {
      "cell_type": "code",
      "execution_count": null,
      "metadata": {
        "colab": {
          "base_uri": "https://localhost:8080/"
        },
        "id": "sj-hUULey9Ch",
        "outputId": "d2911789-29ad-48b2-c9ad-4254a060a6d4"
      },
      "outputs": [
        {
          "data": {
            "text/plain": [
              "Item_Identifier               object\n",
              "Item_Weight                  float64\n",
              "Item_Fat_Content              object\n",
              "Item_Visibility              float64\n",
              "Item_Type                     object\n",
              "Item_MRP                     float64\n",
              "Outlet_Identifier             object\n",
              "Outlet_Establishment_Year      int64\n",
              "Outlet_Size                   object\n",
              "Outlet_Location_Type          object\n",
              "Outlet_Type                   object\n",
              "Item_Outlet_Sales            float64\n",
              "source                        object\n",
              "dtype: object"
            ]
          },
          "execution_count": 119,
          "metadata": {},
          "output_type": "execute_result"
        }
      ],
      "source": [
        "data.dtypes"
      ]
    },
    {
      "cell_type": "code",
      "execution_count": null,
      "metadata": {
        "id": "pJjGoEAE5p5Y"
      },
      "outputs": [],
      "source": [
        "def check_missing_values(df) :\n",
        "    # Getting columns with missing values in a list\n",
        "    missing_cols = df.columns[df.isnull().any() == True].tolist()\n",
        "    # Calculating % of missing values in each column\n",
        "    col_perscentage = df.isnull().sum()/ df.shape[0]*100\n",
        "    \n",
        "    print(\"-\"*50)\n",
        "    if missing_cols == []:\n",
        "        print(\"The DataFrame has No Missing Values!\")\n",
        "    else:\n",
        "        for i, col in enumerate(missing_cols):\n",
        "            print('\"{}\" column has {:.2f}% of missing values.'.format(col, col_perscentage[missing_cols[i]]))\n",
        "    print(\"-\"*50)"
      ]
    },
    {
      "cell_type": "code",
      "execution_count": null,
      "metadata": {
        "colab": {
          "base_uri": "https://localhost:8080/"
        },
        "id": "VDZH5v225tll",
        "outputId": "b44124ed-5ace-4f05-991e-7f733f10392d"
      },
      "outputs": [
        {
          "name": "stdout",
          "output_type": "stream",
          "text": [
            "--------------------------------------------------\n",
            "\"Item_Weight\" column has 17.17% of missing values.\n",
            "\"Outlet_Size\" column has 28.28% of missing values.\n",
            "--------------------------------------------------\n",
            "--------------------------------------------------\n",
            "\"Item_Weight\" column has 17.18% of missing values.\n",
            "\"Outlet_Size\" column has 28.27% of missing values.\n",
            "--------------------------------------------------\n"
          ]
        }
      ],
      "source": [
        "check_missing_values(train)\n",
        "check_missing_values(test)"
      ]
    },
    {
      "cell_type": "code",
      "execution_count": null,
      "metadata": {
        "colab": {
          "base_uri": "https://localhost:8080/"
        },
        "id": "LeD1LsxL5wH0",
        "outputId": "df1ad30e-89e8-4b06-df02-15d45ffedc16"
      },
      "outputs": [
        {
          "name": "stdout",
          "output_type": "stream",
          "text": [
            "<class 'pandas.core.frame.DataFrame'>\n",
            "RangeIndex: 8523 entries, 0 to 8522\n",
            "Data columns (total 13 columns):\n",
            " #   Column                     Non-Null Count  Dtype  \n",
            "---  ------                     --------------  -----  \n",
            " 0   Item_Identifier            8523 non-null   object \n",
            " 1   Item_Weight                7060 non-null   float64\n",
            " 2   Item_Fat_Content           8523 non-null   object \n",
            " 3   Item_Visibility            8523 non-null   float64\n",
            " 4   Item_Type                  8523 non-null   object \n",
            " 5   Item_MRP                   8523 non-null   float64\n",
            " 6   Outlet_Identifier          8523 non-null   object \n",
            " 7   Outlet_Establishment_Year  8523 non-null   int64  \n",
            " 8   Outlet_Size                6113 non-null   object \n",
            " 9   Outlet_Location_Type       8523 non-null   object \n",
            " 10  Outlet_Type                8523 non-null   object \n",
            " 11  Item_Outlet_Sales          8523 non-null   float64\n",
            " 12  source                     8523 non-null   object \n",
            "dtypes: float64(4), int64(1), object(8)\n",
            "memory usage: 865.7+ KB\n"
          ]
        }
      ],
      "source": [
        "train.info()"
      ]
    },
    {
      "cell_type": "code",
      "execution_count": null,
      "metadata": {
        "colab": {
          "base_uri": "https://localhost:8080/"
        },
        "id": "c8YI320R5yuJ",
        "outputId": "be9bbd79-952d-40bd-f841-5d2a6e3a253e"
      },
      "outputs": [
        {
          "name": "stdout",
          "output_type": "stream",
          "text": [
            "Training categorical Features in Train Set: 8\n",
            "Training numerical Features in Train Set: 8\n",
            "\n",
            "Testing categorical Features in Test Set: 8\n",
            "Testing numerical Features in Test Set: 5\n"
          ]
        }
      ],
      "source": [
        "# Training categorical and numerical columns\n",
        "categorical_columns_train = train.select_dtypes(include=[object])\n",
        "print(\"Training categorical Features in Train Set:\", len(categorical_columns_train.columns))\n",
        "numerical_columns_train = train.select_dtypes(include=[np.float64, np.int64])\n",
        "print(\"Training numerical Features in Train Set:\", len(categorical_columns_train.columns))\n",
        "\n",
        "# testing categorical and numerical columns\n",
        "categorical_columns_test = test.select_dtypes(include=[object])\n",
        "print(\"\\nTesting categorical Features in Test Set:\", len(categorical_columns_test.columns))\n",
        "numerical_columns_test = test.select_dtypes(include=[np.float64, np.int64])\n",
        "print(\"Testing numerical Features in Test Set:\", len(numerical_columns_test.columns))"
      ]
    },
    {
      "cell_type": "code",
      "execution_count": null,
      "metadata": {
        "colab": {
          "base_uri": "https://localhost:8080/",
          "height": 300
        },
        "id": "AmDzvwTn51oT",
        "outputId": "da3960f0-2842-46f4-c3d4-756ec2417c77"
      },
      "outputs": [
        {
          "data": {
            "text/html": [
              "\n",
              "  <div id=\"df-08dff50a-e065-4764-b5e3-9eae3aafb7d2\">\n",
              "    <div class=\"colab-df-container\">\n",
              "      <div>\n",
              "<style scoped>\n",
              "    .dataframe tbody tr th:only-of-type {\n",
              "        vertical-align: middle;\n",
              "    }\n",
              "\n",
              "    .dataframe tbody tr th {\n",
              "        vertical-align: top;\n",
              "    }\n",
              "\n",
              "    .dataframe thead th {\n",
              "        text-align: right;\n",
              "    }\n",
              "</style>\n",
              "<table border=\"1\" class=\"dataframe\">\n",
              "  <thead>\n",
              "    <tr style=\"text-align: right;\">\n",
              "      <th></th>\n",
              "      <th>Item_Weight</th>\n",
              "      <th>Item_Visibility</th>\n",
              "      <th>Item_MRP</th>\n",
              "      <th>Outlet_Establishment_Year</th>\n",
              "      <th>Item_Outlet_Sales</th>\n",
              "    </tr>\n",
              "  </thead>\n",
              "  <tbody>\n",
              "    <tr>\n",
              "      <th>count</th>\n",
              "      <td>7060.000000</td>\n",
              "      <td>8523.000000</td>\n",
              "      <td>8523.000000</td>\n",
              "      <td>8523.000000</td>\n",
              "      <td>8523.000000</td>\n",
              "    </tr>\n",
              "    <tr>\n",
              "      <th>mean</th>\n",
              "      <td>12.857645</td>\n",
              "      <td>0.066132</td>\n",
              "      <td>140.992782</td>\n",
              "      <td>1997.831867</td>\n",
              "      <td>2181.288914</td>\n",
              "    </tr>\n",
              "    <tr>\n",
              "      <th>std</th>\n",
              "      <td>4.643456</td>\n",
              "      <td>0.051598</td>\n",
              "      <td>62.275067</td>\n",
              "      <td>8.371760</td>\n",
              "      <td>1706.499616</td>\n",
              "    </tr>\n",
              "    <tr>\n",
              "      <th>min</th>\n",
              "      <td>4.555000</td>\n",
              "      <td>0.000000</td>\n",
              "      <td>31.290000</td>\n",
              "      <td>1985.000000</td>\n",
              "      <td>33.290000</td>\n",
              "    </tr>\n",
              "    <tr>\n",
              "      <th>25%</th>\n",
              "      <td>8.773750</td>\n",
              "      <td>0.026989</td>\n",
              "      <td>93.826500</td>\n",
              "      <td>1987.000000</td>\n",
              "      <td>834.247400</td>\n",
              "    </tr>\n",
              "    <tr>\n",
              "      <th>50%</th>\n",
              "      <td>12.600000</td>\n",
              "      <td>0.053931</td>\n",
              "      <td>143.012800</td>\n",
              "      <td>1999.000000</td>\n",
              "      <td>1794.331000</td>\n",
              "    </tr>\n",
              "    <tr>\n",
              "      <th>75%</th>\n",
              "      <td>16.850000</td>\n",
              "      <td>0.094585</td>\n",
              "      <td>185.643700</td>\n",
              "      <td>2004.000000</td>\n",
              "      <td>3101.296400</td>\n",
              "    </tr>\n",
              "    <tr>\n",
              "      <th>max</th>\n",
              "      <td>21.350000</td>\n",
              "      <td>0.328391</td>\n",
              "      <td>266.888400</td>\n",
              "      <td>2009.000000</td>\n",
              "      <td>13086.964800</td>\n",
              "    </tr>\n",
              "  </tbody>\n",
              "</table>\n",
              "</div>\n",
              "      <button class=\"colab-df-convert\" onclick=\"convertToInteractive('df-08dff50a-e065-4764-b5e3-9eae3aafb7d2')\"\n",
              "              title=\"Convert this dataframe to an interactive table.\"\n",
              "              style=\"display:none;\">\n",
              "        \n",
              "  <svg xmlns=\"http://www.w3.org/2000/svg\" height=\"24px\"viewBox=\"0 0 24 24\"\n",
              "       width=\"24px\">\n",
              "    <path d=\"M0 0h24v24H0V0z\" fill=\"none\"/>\n",
              "    <path d=\"M18.56 5.44l.94 2.06.94-2.06 2.06-.94-2.06-.94-.94-2.06-.94 2.06-2.06.94zm-11 1L8.5 8.5l.94-2.06 2.06-.94-2.06-.94L8.5 2.5l-.94 2.06-2.06.94zm10 10l.94 2.06.94-2.06 2.06-.94-2.06-.94-.94-2.06-.94 2.06-2.06.94z\"/><path d=\"M17.41 7.96l-1.37-1.37c-.4-.4-.92-.59-1.43-.59-.52 0-1.04.2-1.43.59L10.3 9.45l-7.72 7.72c-.78.78-.78 2.05 0 2.83L4 21.41c.39.39.9.59 1.41.59.51 0 1.02-.2 1.41-.59l7.78-7.78 2.81-2.81c.8-.78.8-2.07 0-2.86zM5.41 20L4 18.59l7.72-7.72 1.47 1.35L5.41 20z\"/>\n",
              "  </svg>\n",
              "      </button>\n",
              "      \n",
              "  <style>\n",
              "    .colab-df-container {\n",
              "      display:flex;\n",
              "      flex-wrap:wrap;\n",
              "      gap: 12px;\n",
              "    }\n",
              "\n",
              "    .colab-df-convert {\n",
              "      background-color: #E8F0FE;\n",
              "      border: none;\n",
              "      border-radius: 50%;\n",
              "      cursor: pointer;\n",
              "      display: none;\n",
              "      fill: #1967D2;\n",
              "      height: 32px;\n",
              "      padding: 0 0 0 0;\n",
              "      width: 32px;\n",
              "    }\n",
              "\n",
              "    .colab-df-convert:hover {\n",
              "      background-color: #E2EBFA;\n",
              "      box-shadow: 0px 1px 2px rgba(60, 64, 67, 0.3), 0px 1px 3px 1px rgba(60, 64, 67, 0.15);\n",
              "      fill: #174EA6;\n",
              "    }\n",
              "\n",
              "    [theme=dark] .colab-df-convert {\n",
              "      background-color: #3B4455;\n",
              "      fill: #D2E3FC;\n",
              "    }\n",
              "\n",
              "    [theme=dark] .colab-df-convert:hover {\n",
              "      background-color: #434B5C;\n",
              "      box-shadow: 0px 1px 3px 1px rgba(0, 0, 0, 0.15);\n",
              "      filter: drop-shadow(0px 1px 2px rgba(0, 0, 0, 0.3));\n",
              "      fill: #FFFFFF;\n",
              "    }\n",
              "  </style>\n",
              "\n",
              "      <script>\n",
              "        const buttonEl =\n",
              "          document.querySelector('#df-08dff50a-e065-4764-b5e3-9eae3aafb7d2 button.colab-df-convert');\n",
              "        buttonEl.style.display =\n",
              "          google.colab.kernel.accessAllowed ? 'block' : 'none';\n",
              "\n",
              "        async function convertToInteractive(key) {\n",
              "          const element = document.querySelector('#df-08dff50a-e065-4764-b5e3-9eae3aafb7d2');\n",
              "          const dataTable =\n",
              "            await google.colab.kernel.invokeFunction('convertToInteractive',\n",
              "                                                     [key], {});\n",
              "          if (!dataTable) return;\n",
              "\n",
              "          const docLinkHtml = 'Like what you see? Visit the ' +\n",
              "            '<a target=\"_blank\" href=https://colab.research.google.com/notebooks/data_table.ipynb>data table notebook</a>'\n",
              "            + ' to learn more about interactive tables.';\n",
              "          element.innerHTML = '';\n",
              "          dataTable['output_type'] = 'display_data';\n",
              "          await google.colab.output.renderOutput(dataTable, element);\n",
              "          const docLink = document.createElement('div');\n",
              "          docLink.innerHTML = docLinkHtml;\n",
              "          element.appendChild(docLink);\n",
              "        }\n",
              "      </script>\n",
              "    </div>\n",
              "  </div>\n",
              "  "
            ],
            "text/plain": [
              "       Item_Weight  Item_Visibility     Item_MRP  Outlet_Establishment_Year  \\\n",
              "count  7060.000000      8523.000000  8523.000000                8523.000000   \n",
              "mean     12.857645         0.066132   140.992782                1997.831867   \n",
              "std       4.643456         0.051598    62.275067                   8.371760   \n",
              "min       4.555000         0.000000    31.290000                1985.000000   \n",
              "25%       8.773750         0.026989    93.826500                1987.000000   \n",
              "50%      12.600000         0.053931   143.012800                1999.000000   \n",
              "75%      16.850000         0.094585   185.643700                2004.000000   \n",
              "max      21.350000         0.328391   266.888400                2009.000000   \n",
              "\n",
              "       Item_Outlet_Sales  \n",
              "count        8523.000000  \n",
              "mean         2181.288914  \n",
              "std          1706.499616  \n",
              "min            33.290000  \n",
              "25%           834.247400  \n",
              "50%          1794.331000  \n",
              "75%          3101.296400  \n",
              "max         13086.964800  "
            ]
          },
          "execution_count": 124,
          "metadata": {},
          "output_type": "execute_result"
        }
      ],
      "source": [
        "train.describe()"
      ]
    },
    {
      "cell_type": "code",
      "execution_count": null,
      "metadata": {
        "colab": {
          "base_uri": "https://localhost:8080/",
          "height": 300
        },
        "id": "D9g_OHhd54jQ",
        "outputId": "438effdd-00c8-4807-a09e-9f5483f62615"
      },
      "outputs": [
        {
          "data": {
            "text/html": [
              "\n",
              "  <div id=\"df-41227c58-575f-445e-8f2d-9ae58ed75a1e\">\n",
              "    <div class=\"colab-df-container\">\n",
              "      <div>\n",
              "<style scoped>\n",
              "    .dataframe tbody tr th:only-of-type {\n",
              "        vertical-align: middle;\n",
              "    }\n",
              "\n",
              "    .dataframe tbody tr th {\n",
              "        vertical-align: top;\n",
              "    }\n",
              "\n",
              "    .dataframe thead th {\n",
              "        text-align: right;\n",
              "    }\n",
              "</style>\n",
              "<table border=\"1\" class=\"dataframe\">\n",
              "  <thead>\n",
              "    <tr style=\"text-align: right;\">\n",
              "      <th></th>\n",
              "      <th>Item_Weight</th>\n",
              "      <th>Item_Visibility</th>\n",
              "      <th>Item_MRP</th>\n",
              "      <th>Outlet_Establishment_Year</th>\n",
              "      <th>Item_Outlet_Sales</th>\n",
              "    </tr>\n",
              "  </thead>\n",
              "  <tbody>\n",
              "    <tr>\n",
              "      <th>count</th>\n",
              "      <td>4705.000000</td>\n",
              "      <td>5681.000000</td>\n",
              "      <td>5681.000000</td>\n",
              "      <td>5681.000000</td>\n",
              "      <td>5681.0</td>\n",
              "    </tr>\n",
              "    <tr>\n",
              "      <th>mean</th>\n",
              "      <td>12.695633</td>\n",
              "      <td>0.065684</td>\n",
              "      <td>141.023273</td>\n",
              "      <td>1997.828903</td>\n",
              "      <td>0.0</td>\n",
              "    </tr>\n",
              "    <tr>\n",
              "      <th>std</th>\n",
              "      <td>4.664849</td>\n",
              "      <td>0.051252</td>\n",
              "      <td>61.809091</td>\n",
              "      <td>8.372256</td>\n",
              "      <td>0.0</td>\n",
              "    </tr>\n",
              "    <tr>\n",
              "      <th>min</th>\n",
              "      <td>4.555000</td>\n",
              "      <td>0.000000</td>\n",
              "      <td>31.990000</td>\n",
              "      <td>1985.000000</td>\n",
              "      <td>0.0</td>\n",
              "    </tr>\n",
              "    <tr>\n",
              "      <th>25%</th>\n",
              "      <td>8.645000</td>\n",
              "      <td>0.027047</td>\n",
              "      <td>94.412000</td>\n",
              "      <td>1987.000000</td>\n",
              "      <td>0.0</td>\n",
              "    </tr>\n",
              "    <tr>\n",
              "      <th>50%</th>\n",
              "      <td>12.500000</td>\n",
              "      <td>0.054154</td>\n",
              "      <td>141.415400</td>\n",
              "      <td>1999.000000</td>\n",
              "      <td>0.0</td>\n",
              "    </tr>\n",
              "    <tr>\n",
              "      <th>75%</th>\n",
              "      <td>16.700000</td>\n",
              "      <td>0.093463</td>\n",
              "      <td>186.026600</td>\n",
              "      <td>2004.000000</td>\n",
              "      <td>0.0</td>\n",
              "    </tr>\n",
              "    <tr>\n",
              "      <th>max</th>\n",
              "      <td>21.350000</td>\n",
              "      <td>0.323637</td>\n",
              "      <td>266.588400</td>\n",
              "      <td>2009.000000</td>\n",
              "      <td>0.0</td>\n",
              "    </tr>\n",
              "  </tbody>\n",
              "</table>\n",
              "</div>\n",
              "      <button class=\"colab-df-convert\" onclick=\"convertToInteractive('df-41227c58-575f-445e-8f2d-9ae58ed75a1e')\"\n",
              "              title=\"Convert this dataframe to an interactive table.\"\n",
              "              style=\"display:none;\">\n",
              "        \n",
              "  <svg xmlns=\"http://www.w3.org/2000/svg\" height=\"24px\"viewBox=\"0 0 24 24\"\n",
              "       width=\"24px\">\n",
              "    <path d=\"M0 0h24v24H0V0z\" fill=\"none\"/>\n",
              "    <path d=\"M18.56 5.44l.94 2.06.94-2.06 2.06-.94-2.06-.94-.94-2.06-.94 2.06-2.06.94zm-11 1L8.5 8.5l.94-2.06 2.06-.94-2.06-.94L8.5 2.5l-.94 2.06-2.06.94zm10 10l.94 2.06.94-2.06 2.06-.94-2.06-.94-.94-2.06-.94 2.06-2.06.94z\"/><path d=\"M17.41 7.96l-1.37-1.37c-.4-.4-.92-.59-1.43-.59-.52 0-1.04.2-1.43.59L10.3 9.45l-7.72 7.72c-.78.78-.78 2.05 0 2.83L4 21.41c.39.39.9.59 1.41.59.51 0 1.02-.2 1.41-.59l7.78-7.78 2.81-2.81c.8-.78.8-2.07 0-2.86zM5.41 20L4 18.59l7.72-7.72 1.47 1.35L5.41 20z\"/>\n",
              "  </svg>\n",
              "      </button>\n",
              "      \n",
              "  <style>\n",
              "    .colab-df-container {\n",
              "      display:flex;\n",
              "      flex-wrap:wrap;\n",
              "      gap: 12px;\n",
              "    }\n",
              "\n",
              "    .colab-df-convert {\n",
              "      background-color: #E8F0FE;\n",
              "      border: none;\n",
              "      border-radius: 50%;\n",
              "      cursor: pointer;\n",
              "      display: none;\n",
              "      fill: #1967D2;\n",
              "      height: 32px;\n",
              "      padding: 0 0 0 0;\n",
              "      width: 32px;\n",
              "    }\n",
              "\n",
              "    .colab-df-convert:hover {\n",
              "      background-color: #E2EBFA;\n",
              "      box-shadow: 0px 1px 2px rgba(60, 64, 67, 0.3), 0px 1px 3px 1px rgba(60, 64, 67, 0.15);\n",
              "      fill: #174EA6;\n",
              "    }\n",
              "\n",
              "    [theme=dark] .colab-df-convert {\n",
              "      background-color: #3B4455;\n",
              "      fill: #D2E3FC;\n",
              "    }\n",
              "\n",
              "    [theme=dark] .colab-df-convert:hover {\n",
              "      background-color: #434B5C;\n",
              "      box-shadow: 0px 1px 3px 1px rgba(0, 0, 0, 0.15);\n",
              "      filter: drop-shadow(0px 1px 2px rgba(0, 0, 0, 0.3));\n",
              "      fill: #FFFFFF;\n",
              "    }\n",
              "  </style>\n",
              "\n",
              "      <script>\n",
              "        const buttonEl =\n",
              "          document.querySelector('#df-41227c58-575f-445e-8f2d-9ae58ed75a1e button.colab-df-convert');\n",
              "        buttonEl.style.display =\n",
              "          google.colab.kernel.accessAllowed ? 'block' : 'none';\n",
              "\n",
              "        async function convertToInteractive(key) {\n",
              "          const element = document.querySelector('#df-41227c58-575f-445e-8f2d-9ae58ed75a1e');\n",
              "          const dataTable =\n",
              "            await google.colab.kernel.invokeFunction('convertToInteractive',\n",
              "                                                     [key], {});\n",
              "          if (!dataTable) return;\n",
              "\n",
              "          const docLinkHtml = 'Like what you see? Visit the ' +\n",
              "            '<a target=\"_blank\" href=https://colab.research.google.com/notebooks/data_table.ipynb>data table notebook</a>'\n",
              "            + ' to learn more about interactive tables.';\n",
              "          element.innerHTML = '';\n",
              "          dataTable['output_type'] = 'display_data';\n",
              "          await google.colab.output.renderOutput(dataTable, element);\n",
              "          const docLink = document.createElement('div');\n",
              "          docLink.innerHTML = docLinkHtml;\n",
              "          element.appendChild(docLink);\n",
              "        }\n",
              "      </script>\n",
              "    </div>\n",
              "  </div>\n",
              "  "
            ],
            "text/plain": [
              "       Item_Weight  Item_Visibility     Item_MRP  Outlet_Establishment_Year  \\\n",
              "count  4705.000000      5681.000000  5681.000000                5681.000000   \n",
              "mean     12.695633         0.065684   141.023273                1997.828903   \n",
              "std       4.664849         0.051252    61.809091                   8.372256   \n",
              "min       4.555000         0.000000    31.990000                1985.000000   \n",
              "25%       8.645000         0.027047    94.412000                1987.000000   \n",
              "50%      12.500000         0.054154   141.415400                1999.000000   \n",
              "75%      16.700000         0.093463   186.026600                2004.000000   \n",
              "max      21.350000         0.323637   266.588400                2009.000000   \n",
              "\n",
              "       Item_Outlet_Sales  \n",
              "count             5681.0  \n",
              "mean                 0.0  \n",
              "std                  0.0  \n",
              "min                  0.0  \n",
              "25%                  0.0  \n",
              "50%                  0.0  \n",
              "75%                  0.0  \n",
              "max                  0.0  "
            ]
          },
          "execution_count": 125,
          "metadata": {},
          "output_type": "execute_result"
        }
      ],
      "source": [
        "test.describe()"
      ]
    },
    {
      "cell_type": "markdown",
      "metadata": {
        "id": "SmFWtDxUO11i"
      },
      "source": [
        "Item Weight\n"
      ]
    },
    {
      "cell_type": "code",
      "execution_count": null,
      "metadata": {
        "colab": {
          "base_uri": "https://localhost:8080/",
          "height": 487
        },
        "id": "7x4LydmqO3bJ",
        "outputId": "30baa8fd-5c3e-48ba-883e-81a07ee9dc60"
      },
      "outputs": [
        {
          "data": {
            "image/png": "[encoded data removed]",
            "text/plain": [
              "<Figure size 1500x500 with 2 Axes>"
            ]
          },
          "metadata": {},
          "output_type": "display_data"
        }
      ],
      "source": [
        "# ploting the weight to see the distribution of the data\n",
        "fig, axes = plt.subplots(1, 2, figsize=(15, 5), sharey=True)\n",
        "sns.boxplot(x=\"Item_Weight\", data=train, ax=axes[0])\n",
        "axes[0].set_title(\"Train\")\n",
        "\n",
        "sns.boxplot(x=\"Item_Weight\", data=test, ax=axes[1])\n",
        "axes[1].set_title(\"Test\");"
      ]
    },
    {
      "cell_type": "code",
      "execution_count": null,
      "metadata": {
        "id": "ksoHZwlbO-DK"
      },
      "outputs": [],
      "source": [
        "train['Item_Weight']= train['Item_Weight'].fillna(train['Item_Weight'].mean())\n",
        "test['Item_Weight']= test['Item_Weight'].fillna(test['Item_Weight'].mean())"
      ]
    },
    {
      "cell_type": "code",
      "execution_count": null,
      "metadata": {
        "colab": {
          "base_uri": "https://localhost:8080/"
        },
        "id": "Bv31ad3wPA98",
        "outputId": "ac831153-383c-4b73-d63c-50a994c19318"
      },
      "outputs": [
        {
          "name": "stdout",
          "output_type": "stream",
          "text": [
            "\"Outlet_Size\" column in training set has 28.28% of missing values.\n",
            "\"Outlet_Size\" column in test set has 28.27% of missing values.\n"
          ]
        }
      ],
      "source": [
        "print('\"{}\" column in training set has {:.2f}% of missing values.'.format('Outlet_Size',\n",
        "                                                          train[\"Outlet_Size\"].isnull().sum() / train.shape[0] * 100))\n",
        "\n",
        "print('\"{}\" column in test set has {:.2f}% of missing values.'.format('Outlet_Size',\n",
        "                                                          test[\"Outlet_Size\"].isnull().sum() / test.shape[0] * 100))"
      ]
    },
    {
      "cell_type": "code",
      "execution_count": null,
      "metadata": {
        "colab": {
          "base_uri": "https://localhost:8080/"
        },
        "id": "0g9BgTEIPC-B",
        "outputId": "785ff068-ee64-45d3-d34f-63a673f5900a"
      },
      "outputs": [
        {
          "data": {
            "text/plain": [
              "(2410, 1606)"
            ]
          },
          "execution_count": 129,
          "metadata": {},
          "output_type": "execute_result"
        }
      ],
      "source": [
        "train[\"Outlet_Size\"].isnull().sum(), test[\"Outlet_Size\"].isnull().sum()"
      ]
    },
    {
      "cell_type": "code",
      "execution_count": null,
      "metadata": {
        "colab": {
          "base_uri": "https://localhost:8080/"
        },
        "id": "guoP1siYPGs_",
        "outputId": "56849128-aa2b-4c07-a428-0a682265ed20"
      },
      "outputs": [
        {
          "data": {
            "text/plain": [
              "Medium    2793\n",
              "Small     2388\n",
              "High       932\n",
              "Name: Outlet_Size, dtype: int64"
            ]
          },
          "execution_count": 130,
          "metadata": {},
          "output_type": "execute_result"
        }
      ],
      "source": [
        "# Checking nature of the data in the column\n",
        "train[\"Outlet_Size\"].value_counts()"
      ]
    },
    {
      "cell_type": "code",
      "execution_count": null,
      "metadata": {
        "colab": {
          "base_uri": "https://localhost:8080/"
        },
        "id": "jeFYxlcTPINI",
        "outputId": "475166e8-3567-4df1-d21c-5efcb29b91df"
      },
      "outputs": [
        {
          "data": {
            "text/plain": [
              "Medium    1862\n",
              "Small     1592\n",
              "High       621\n",
              "Name: Outlet_Size, dtype: int64"
            ]
          },
          "execution_count": 131,
          "metadata": {},
          "output_type": "execute_result"
        }
      ],
      "source": [
        "test[\"Outlet_Size\"].value_counts()"
      ]
    },
    {
      "cell_type": "markdown",
      "metadata": {
        "id": "T0GiQjgGPQr-"
      },
      "source": [
        "#### Displaying the percentage of categorical values in \"Outlet_size\""
      ]
    },
    {
      "cell_type": "code",
      "execution_count": null,
      "metadata": {
        "colab": {
          "base_uri": "https://localhost:8080/"
        },
        "id": "1BNJsVXRPRjZ",
        "outputId": "a09e679e-a77d-4b8a-9c36-5d9a5037a3d7"
      },
      "outputs": [
        {
          "name": "stdout",
          "output_type": "stream",
          "text": [
            "Percentage of 'Outlet_Size' column values in training dataset\n",
            "\n",
            "Medium    32.770151\n",
            "Small     28.018303\n",
            "High      10.935117\n",
            "Name: Outlet_Size, dtype: float64\n",
            "------------------------------------------------------------\n",
            "Percentage of 'Outlet_Size' column values in test dataset\n",
            "\n",
            "Medium    32.775920\n",
            "Small     28.023235\n",
            "High      10.931174\n",
            "Name: Outlet_Size, dtype: float64\n"
          ]
        }
      ],
      "source": [
        "# For train set\n",
        "print(\"Percentage of 'Outlet_Size' column values in training dataset\\n\")\n",
        "print(train[\"Outlet_Size\"].value_counts() / train.shape[0] * 100)\n",
        "print(\"-\"*60)\n",
        "print(\"Percentage of 'Outlet_Size' column values in test dataset\\n\")\n",
        "print(test[\"Outlet_Size\"].value_counts() / test.shape[0] * 100)"
      ]
    },
    {
      "cell_type": "markdown",
      "metadata": {
        "id": "aro-9LJ5PXrb"
      },
      "source": [
        "##### Since the outlet_size is a categorical column, we can impute the missing values by \"Mode\"(Most Repeated Value) from the column."
      ]
    },
    {
      "cell_type": "code",
      "execution_count": null,
      "metadata": {
        "id": "OJXOPXmkPXN_"
      },
      "outputs": [],
      "source": [
        "train[\"Outlet_Size\"] = train[\"Outlet_Size\"].fillna(train[\"Outlet_Size\"].mode()[0])\n",
        "test[\"Outlet_Size\"] = test[\"Outlet_Size\"].fillna(test[\"Outlet_Size\"].mode()[0])"
      ]
    },
    {
      "cell_type": "code",
      "execution_count": null,
      "metadata": {
        "colab": {
          "base_uri": "https://localhost:8080/"
        },
        "id": "SUD1mlD-Paut",
        "outputId": "9c204320-9dbf-4db6-e269-0c2b33173cbb"
      },
      "outputs": [
        {
          "name": "stdout",
          "output_type": "stream",
          "text": [
            "--------------------------------------------------\n",
            "The DataFrame has No Missing Values!\n",
            "--------------------------------------------------\n"
          ]
        }
      ],
      "source": [
        "check_missing_values(train)"
      ]
    },
    {
      "cell_type": "code",
      "execution_count": null,
      "metadata": {
        "colab": {
          "base_uri": "https://localhost:8080/"
        },
        "id": "Zo4C_0k9Pdwz",
        "outputId": "c6c5389b-ed51-4759-f033-83a191d8b123"
      },
      "outputs": [
        {
          "name": "stdout",
          "output_type": "stream",
          "text": [
            "--------------------------------------------------\n",
            "The DataFrame has No Missing Values!\n",
            "--------------------------------------------------\n"
          ]
        }
      ],
      "source": [
        "check_missing_values(test)"
      ]
    },
    {
      "cell_type": "markdown",
      "metadata": {
        "id": "Hato92dvPgdF"
      },
      "source": [
        "##### I have noticed that the item_fat_content has two categorical values but the are encoded unproparly"
      ]
    },
    {
      "cell_type": "code",
      "execution_count": null,
      "metadata": {
        "colab": {
          "base_uri": "https://localhost:8080/"
        },
        "id": "XbrKiV7aPlHX",
        "outputId": "958b2a83-0704-4e41-c9d9-0b2eeca115ac"
      },
      "outputs": [
        {
          "data": {
            "text/plain": [
              "Low Fat    5089\n",
              "Regular    2889\n",
              "LF          316\n",
              "reg         117\n",
              "low fat     112\n",
              "Name: Item_Fat_Content, dtype: int64"
            ]
          },
          "execution_count": 136,
          "metadata": {},
          "output_type": "execute_result"
        }
      ],
      "source": [
        "# Checking categorical values in the column\n",
        "train[\"Item_Fat_Content\"].value_counts()"
      ]
    },
    {
      "cell_type": "code",
      "execution_count": null,
      "metadata": {
        "id": "4dD9cJeIPn4v"
      },
      "outputs": [],
      "source": [
        "# Fixing the column in train and test dataset\n",
        "train[\"Item_Fat_Content\"].replace({\"LF\":\"Low Fat\", \"low fat\": \"Low Fat\", \"reg\": \"Regular\"}, inplace=True)\n",
        "test[\"Item_Fat_Content\"].replace({\"LF\":\"Low Fat\", \"low fat\": \"Low Fat\", \"reg\": \"Regular\"}, inplace=True)"
      ]
    },
    {
      "cell_type": "code",
      "execution_count": null,
      "metadata": {
        "colab": {
          "base_uri": "https://localhost:8080/"
        },
        "id": "k9qcfXxVPplV",
        "outputId": "5b67a24a-e6d9-4fd5-9b45-3dc74767c3c3"
      },
      "outputs": [
        {
          "name": "stdout",
          "output_type": "stream",
          "text": [
            "Low Fat    5517\n",
            "Regular    3006\n",
            "Name: Item_Fat_Content, dtype: int64\n",
            "--------------------------------------------------\n",
            "Low Fat    3668\n",
            "Regular    2013\n",
            "Name: Item_Fat_Content, dtype: int64\n"
          ]
        }
      ],
      "source": [
        "# Sanity check\n",
        "print(train[\"Item_Fat_Content\"].value_counts())\n",
        "print(\"-\"*50)\n",
        "print(test[\"Item_Fat_Content\"].value_counts())\n",
        "# Changing the column type to string \n",
        "train[\"Item_Fat_Content\"] = train[\"Item_Fat_Content\"].apply(str)\n",
        "test[\"Item_Fat_Content\"] = test[\"Item_Fat_Content\"].astype(str)"
      ]
    },
    {
      "cell_type": "code",
      "execution_count": null,
      "metadata": {
        "colab": {
          "base_uri": "https://localhost:8080/"
        },
        "id": "7oyXbIY1PuP8",
        "outputId": "11051518-b72c-4794-9e15-21d43c489adc"
      },
      "outputs": [
        {
          "data": {
            "text/plain": [
              "(dtype('O'), dtype('O'))"
            ]
          },
          "execution_count": 139,
          "metadata": {},
          "output_type": "execute_result"
        }
      ],
      "source": [
        "# Sanity check\n",
        "train[\"Item_Fat_Content\"].dtypes, train[\"Item_Fat_Content\"].dtypes"
      ]
    },
    {
      "cell_type": "markdown",
      "metadata": {
        "id": "uQCKdhR3Pyoe"
      },
      "source": [
        "#### Displaying the percentage of categorical values in \"Item_Fat_Content\""
      ]
    },
    {
      "cell_type": "code",
      "execution_count": null,
      "metadata": {
        "colab": {
          "base_uri": "https://localhost:8080/"
        },
        "id": "wBmZal-6Pzdi",
        "outputId": "fabc502b-34aa-440d-f1c8-3d3d539a0da3"
      },
      "outputs": [
        {
          "name": "stdout",
          "output_type": "stream",
          "text": [
            "Percentage of 'Item_Fat_Content' column values in training dataset\n",
            "\n",
            "Low Fat    64.730729\n",
            "Regular    35.269271\n",
            "Name: Item_Fat_Content, dtype: float64\n",
            "------------------------------------------------------------\n",
            "Percentage of 'Item_Fat_Content' column values in test dataset\n",
            "\n",
            "Low Fat    64.566098\n",
            "Regular    35.433902\n",
            "Name: Item_Fat_Content, dtype: float64\n"
          ]
        }
      ],
      "source": [
        "# For train set\n",
        "print(\"Percentage of 'Item_Fat_Content' column values in training dataset\\n\")\n",
        "print(train[\"Item_Fat_Content\"].value_counts() / train.shape[0] * 100)\n",
        "print(\"-\"*60)\n",
        "print(\"Percentage of 'Item_Fat_Content' column values in test dataset\\n\")\n",
        "print(test[\"Item_Fat_Content\"].value_counts() / test.shape[0] * 100)"
      ]
    },
    {
      "cell_type": "markdown",
      "metadata": {
        "id": "D4YYC28RztL_"
      },
      "source": [
        "## EDA\n",
        "\n",
        "### 1) Univariate Analysis"
      ]
    },
    {
      "cell_type": "code",
      "execution_count": null,
      "metadata": {
        "id": "bgVfuEZRzO4y"
      },
      "outputs": [],
      "source": [
        "def plot_univariate(col,width,height):\n",
        "    \"\"\"\n",
        "    INPUT:\n",
        "        col: Column name to be ploted \n",
        "        width: Figure width\n",
        "        height: Figure hight \n",
        "        \n",
        "    RETURN: \n",
        "        A plot of counted categorical items in the column\n",
        "    \"\"\"\n",
        "    plt.figure(figsize=(width,height))\n",
        "    sns.countplot(x=col,data=train,palette='Blues_r',\n",
        "                  order=train[col].value_counts().index)\n",
        "\n",
        "    plt.title(\"Distribution of \"+col+\" in the supermarkets\",fontsize=18)\n",
        "    plt.xticks(rotation=90, fontsize=14)\n",
        "    plt.yticks(fontsize=14)\n",
        "    plt.xlabel(col,fontsize=16)\n",
        "    plt.ylabel(\"Count\",fontsize=16)"
      ]
    },
    {
      "cell_type": "code",
      "execution_count": null,
      "metadata": {
        "colab": {
          "base_uri": "https://localhost:8080/",
          "height": 560
        },
        "id": "hNinVvK1zSg7",
        "outputId": "b678a0ae-a999-4779-8bd4-104dbd86c23c"
      },
      "outputs": [
        {
          "data": {
            "image/png": "[encoded data removed]",
            "text/plain": [
              "<Figure size 900x500 with 1 Axes>"
            ]
          },
          "metadata": {},
          "output_type": "display_data"
        }
      ],
      "source": [
        "plot_univariate(col=\"Item_Fat_Content\",width=9,height=5)"
      ]
    },
    {
      "cell_type": "code",
      "execution_count": null,
      "metadata": {
        "colab": {
          "base_uri": "https://localhost:8080/",
          "height": 849
        },
        "id": "jtMKtftrzrY1",
        "outputId": "b1def07a-2c54-4062-ac81-adcd143f7336"
      },
      "outputs": [
        {
          "data": {
            "image/png": "[encoded data removed]",
            "text/plain": [
              "<Figure size 1400x700 with 1 Axes>"
            ]
          },
          "metadata": {},
          "output_type": "display_data"
        }
      ],
      "source": [
        "plot_univariate(\"Item_Type\",14,7)"
      ]
    },
    {
      "cell_type": "code",
      "execution_count": null,
      "metadata": {
        "colab": {
          "base_uri": "https://localhost:8080/",
          "height": 563
        },
        "id": "HOiLWnhGz66j",
        "outputId": "133f137e-862b-407d-b32d-45b10e018ba9"
      },
      "outputs": [
        {
          "data": {
            "image/png": "[encoded data removed]",
            "text/plain": [
              "<Figure size 900x500 with 1 Axes>"
            ]
          },
          "metadata": {},
          "output_type": "display_data"
        }
      ],
      "source": [
        "#Outlet size\n",
        "plot_univariate(\"Outlet_Size\",9,5)"
      ]
    },
    {
      "cell_type": "markdown",
      "metadata": {
        "id": "rKVXQ0ge0H4S"
      },
      "source": [
        "### **Here we came to conclusion that that medium stores more than small and high**"
      ]
    },
    {
      "cell_type": "markdown",
      "metadata": {
        "id": "NGHz92r30Vcl"
      },
      "source": [
        "### **Bivariate Analysis**"
      ]
    },
    {
      "cell_type": "code",
      "execution_count": null,
      "metadata": {
        "colab": {
          "base_uri": "https://localhost:8080/",
          "height": 465
        },
        "id": "kHQ695ld0CrT",
        "outputId": "45a305d5-0ee9-4952-de61-c5f71d52d442"
      },
      "outputs": [
        {
          "data": {
            "image/png": "[encoded data removed]",
            "text/plain": [
              "<Figure size 800x500 with 1 Axes>"
            ]
          },
          "metadata": {},
          "output_type": "display_data"
        }
      ],
      "source": [
        "plt.figure(figsize=(8,5))\n",
        "sns.barplot(x='Item_Fat_Content',y='Item_Outlet_Sales',data=train,palette='mako');"
      ]
    },
    {
      "cell_type": "code",
      "execution_count": null,
      "metadata": {
        "colab": {
          "base_uri": "https://localhost:8080/"
        },
        "id": "lsOAKcUi0gq0",
        "outputId": "0c8f7a2b-9f67-4722-8159-8c3602644db9"
      },
      "outputs": [
        {
          "data": {
            "text/plain": [
              "Item_Fat_Content\n",
              "Low Fat    1.190409e+07\n",
              "Regular    6.687031e+06\n",
              "Name: Item_Outlet_Sales, dtype: float64"
            ]
          },
          "execution_count": 146,
          "metadata": {},
          "output_type": "execute_result"
        }
      ],
      "source": [
        "train.groupby(\"Item_Fat_Content\")[\"Item_Outlet_Sales\"].sum()"
      ]
    },
    {
      "cell_type": "markdown",
      "metadata": {
        "id": "GHuSD9D10qm4"
      },
      "source": [
        "**The item visibility column has alot of values with zero in it this cannot be right, as the item is impossible to be unvisibile \n",
        "Lets chack that**"
      ]
    },
    {
      "cell_type": "code",
      "execution_count": null,
      "metadata": {
        "colab": {
          "base_uri": "https://localhost:8080/"
        },
        "id": "PX_YPXMG0kNd",
        "outputId": "a8a85631-548c-4d9d-b13a-670ec069364c"
      },
      "outputs": [
        {
          "name": "stdout",
          "output_type": "stream",
          "text": [
            "0.0\n",
            "##################################################\n",
            "\n",
            " 0.000000    526\n",
            "0.076975      3\n",
            "0.162462      2\n",
            "0.076841      2\n",
            "0.073562      2\n",
            "           ... \n",
            "0.013957      1\n",
            "0.110460      1\n",
            "0.124646      1\n",
            "0.054142      1\n",
            "0.044878      1\n",
            "Name: Item_Visibility, Length: 7880, dtype: int64\n"
          ]
        }
      ],
      "source": [
        "# Checking if the column has a zero value\n",
        "print(train[\"Item_Visibility\"].min())\n",
        "print(\"#\"*50)\n",
        "# Double checking\n",
        "print(\"\\n\",train[\"Item_Visibility\"].value_counts())"
      ]
    },
    {
      "cell_type": "code",
      "execution_count": null,
      "metadata": {
        "id": "Wuqt7Wf70whf"
      },
      "outputs": [],
      "source": [
        "# Imputing the column with the mean in both train and test datasets\n",
        "train[\"Item_Visibility\"] = train[\"Item_Visibility\"].replace({0.000000: train[\"Item_Visibility\"].mean()})\n",
        "test[\"Item_Visibility\"] = test[\"Item_Visibility\"].replace({0.000000: test[\"Item_Visibility\"].mean()})"
      ]
    },
    {
      "cell_type": "code",
      "execution_count": null,
      "metadata": {
        "colab": {
          "base_uri": "https://localhost:8080/"
        },
        "id": "wT4H7ObD03Mh",
        "outputId": "4e1f1fb2-8597-4ed9-9bc4-09cfa973c3c1"
      },
      "outputs": [
        {
          "data": {
            "text/plain": [
              "(0.003574698, 0.003591414)"
            ]
          },
          "execution_count": 149,
          "metadata": {},
          "output_type": "execute_result"
        }
      ],
      "source": [
        "# Sanity check\n",
        "train[\"Item_Visibility\"].min(), test[\"Item_Visibility\"].min()"
      ]
    },
    {
      "cell_type": "code",
      "execution_count": null,
      "metadata": {
        "colab": {
          "base_uri": "https://localhost:8080/",
          "height": 489
        },
        "id": "3__94r9V04it",
        "outputId": "e1ab0f40-3ffa-46bb-b09a-3255b3e07ec9"
      },
      "outputs": [
        {
          "data": {
            "image/png": "[encoded data removed]",
            "text/plain": [
              "<Figure size 900x500 with 1 Axes>"
            ]
          },
          "metadata": {},
          "output_type": "display_data"
        }
      ],
      "source": [
        "# Ploting the distribution of the column\n",
        "plt.figure(figsize=(9,5))\n",
        "plt.scatter(x='Item_Outlet_Sales',y='Item_Visibility',data=train)\n",
        "plt.title(\"Relation between visibility of an item and its sales\", fontsize=16)\n",
        "plt.xlabel('Item Outlet Sales')\n",
        "plt.ylabel('Item Visibility');"
      ]
    },
    {
      "cell_type": "markdown",
      "metadata": {
        "id": "WMkBJ9nS0_ym"
      },
      "source": [
        "**We can see that now visibility is not exactly zero and it has some value indicating that Item is rarely purchased by the customers.**\n"
      ]
    },
    {
      "cell_type": "markdown",
      "metadata": {
        "id": "VPikwn3O1Jub"
      },
      "source": [
        "#### Item_MRP Visualization\n",
        "Item_MRP column has maximum Retail Price (list price) of the product\n"
      ]
    },
    {
      "cell_type": "code",
      "execution_count": null,
      "metadata": {
        "colab": {
          "base_uri": "https://localhost:8080/",
          "height": 488
        },
        "id": "0VGNqDT807fj",
        "outputId": "47bb1413-cda0-46a1-fe96-dea8841c397b"
      },
      "outputs": [
        {
          "data": {
            "image/png": "[encoded data removed]",
            "text/plain": [
              "<Figure size 800x500 with 1 Axes>"
            ]
          },
          "metadata": {},
          "output_type": "display_data"
        }
      ],
      "source": [
        "plt.figure(figsize=(8,5))\n",
        "plt.scatter(y='Item_Outlet_Sales',x='Item_MRP',data=train)\n",
        "plt.xlabel('Item MRP')\n",
        "plt.ylabel('Item Outlet Sales')\n",
        "plt.title(\"Item MRP regarding total sales in all markets\", fontsize=14);"
      ]
    },
    {
      "cell_type": "markdown",
      "metadata": {
        "id": "cfH4jYDV1Xhw"
      },
      "source": [
        "As you can see the item MRP is kinda divided to four categories, the last two categories indicates that they tend to have higher sales.\n",
        "\n",
        "Next step i will divide this column to four categories and the thir affect Item sales, and its better to be visiualized with barplot"
      ]
    },
    {
      "cell_type": "code",
      "execution_count": null,
      "metadata": {
        "colab": {
          "base_uri": "https://localhost:8080/",
          "height": 465
        },
        "id": "RSin_gtr1Sla",
        "outputId": "f714c00d-0bf5-42f7-8e3e-763d29046b5b"
      },
      "outputs": [
        {
          "data": {
            "image/png": "[encoded data removed]",
            "text/plain": [
              "<Figure size 800x500 with 1 Axes>"
            ]
          },
          "metadata": {},
          "output_type": "display_data"
        }
      ],
      "source": [
        "# Slicing the Item_MRP column into four categories \n",
        "train[\"Item_MRP_cat\"] = pd.cut(train[\"Item_MRP\"], [30,70,135,205,270])\n",
        "\n",
        "# making sure i slice the data correct into those four categories\n",
        "plt.figure(figsize=(8,5))\n",
        "sns.barplot(y='Item_Outlet_Sales',x=\"Item_MRP_cat\" ,data=train);"
      ]
    },
    {
      "cell_type": "markdown",
      "metadata": {
        "id": "WIdjs36V1emF"
      },
      "source": [
        "**Now i will preform numerical analysis on those categories**"
      ]
    },
    {
      "cell_type": "code",
      "execution_count": 191,
      "metadata": {
        "colab": {
          "base_uri": "https://localhost:8080/",
          "height": 455
        },
        "id": "lQgE5Sg51a6U",
        "outputId": "d9e5b131-5067-41b0-8f3d-e034320ab625"
      },
      "outputs": [
        {
          "output_type": "execute_result",
          "data": {
            "text/plain": [
              "          count       mean          std        min        25%        50%  \\\n",
              "Item_MRP                                                                   \n",
              "31.2900     1.0   898.8300          NaN   898.8300   898.8300   898.8300   \n",
              "31.4900     1.0   466.0600          NaN   466.0600   466.0600   466.0600   \n",
              "31.8900     1.0   366.1900          NaN   366.1900   366.1900   366.1900   \n",
              "31.9558     2.0   679.1160   432.186776   373.5138   526.3149   679.1160   \n",
              "32.0558     1.0  1018.6740          NaN  1018.6740  1018.6740  1018.6740   \n",
              "...         ...        ...          ...        ...        ...        ...   \n",
              "266.1884    2.0  4239.8144  1499.000757  3179.8608  3709.8376  4239.8144   \n",
              "266.2884    1.0  2914.8724          NaN  2914.8724  2914.8724  2914.8724   \n",
              "266.5884    2.0  3974.8260  3747.501892  1324.9420  2649.8840  3974.8260   \n",
              "266.6884    2.0  2119.9072  2623.251324   264.9884  1192.4478  2119.9072   \n",
              "266.8884    2.0  3047.3666  2810.626419  1059.9536  2053.6601  3047.3666   \n",
              "\n",
              "                75%        max  \n",
              "Item_MRP                        \n",
              "31.2900    898.8300   898.8300  \n",
              "31.4900    466.0600   466.0600  \n",
              "31.8900    366.1900   366.1900  \n",
              "31.9558    831.9171   984.7182  \n",
              "32.0558   1018.6740  1018.6740  \n",
              "...             ...        ...  \n",
              "266.1884  4769.7912  5299.7680  \n",
              "266.2884  2914.8724  2914.8724  \n",
              "266.5884  5299.7680  6624.7100  \n",
              "266.6884  3047.3666  3974.8260  \n",
              "266.8884  4041.0731  5034.7796  \n",
              "\n",
              "[5938 rows x 8 columns]"
            ],
            "text/html": [
              "\n",
              "  <div id=\"df-dd82d46a-1529-431d-b18d-b72c0bdae4e5\">\n",
              "    <div class=\"colab-df-container\">\n",
              "      <div>\n",
              "<style scoped>\n",
              "    .dataframe tbody tr th:only-of-type {\n",
              "        vertical-align: middle;\n",
              "    }\n",
              "\n",
              "    .dataframe tbody tr th {\n",
              "        vertical-align: top;\n",
              "    }\n",
              "\n",
              "    .dataframe thead th {\n",
              "        text-align: right;\n",
              "    }\n",
              "</style>\n",
              "<table border=\"1\" class=\"dataframe\">\n",
              "  <thead>\n",
              "    <tr style=\"text-align: right;\">\n",
              "      <th></th>\n",
              "      <th>count</th>\n",
              "      <th>mean</th>\n",
              "      <th>std</th>\n",
              "      <th>min</th>\n",
              "      <th>25%</th>\n",
              "      <th>50%</th>\n",
              "      <th>75%</th>\n",
              "      <th>max</th>\n",
              "    </tr>\n",
              "    <tr>\n",
              "      <th>Item_MRP</th>\n",
              "      <th></th>\n",
              "      <th></th>\n",
              "      <th></th>\n",
              "      <th></th>\n",
              "      <th></th>\n",
              "      <th></th>\n",
              "      <th></th>\n",
              "      <th></th>\n",
              "    </tr>\n",
              "  </thead>\n",
              "  <tbody>\n",
              "    <tr>\n",
              "      <th>31.2900</th>\n",
              "      <td>1.0</td>\n",
              "      <td>898.8300</td>\n",
              "      <td>NaN</td>\n",
              "      <td>898.8300</td>\n",
              "      <td>898.8300</td>\n",
              "      <td>898.8300</td>\n",
              "      <td>898.8300</td>\n",
              "      <td>898.8300</td>\n",
              "    </tr>\n",
              "    <tr>\n",
              "      <th>31.4900</th>\n",
              "      <td>1.0</td>\n",
              "      <td>466.0600</td>\n",
              "      <td>NaN</td>\n",
              "      <td>466.0600</td>\n",
              "      <td>466.0600</td>\n",
              "      <td>466.0600</td>\n",
              "      <td>466.0600</td>\n",
              "      <td>466.0600</td>\n",
              "    </tr>\n",
              "    <tr>\n",
              "      <th>31.8900</th>\n",
              "      <td>1.0</td>\n",
              "      <td>366.1900</td>\n",
              "      <td>NaN</td>\n",
              "      <td>366.1900</td>\n",
              "      <td>366.1900</td>\n",
              "      <td>366.1900</td>\n",
              "      <td>366.1900</td>\n",
              "      <td>366.1900</td>\n",
              "    </tr>\n",
              "    <tr>\n",
              "      <th>31.9558</th>\n",
              "      <td>2.0</td>\n",
              "      <td>679.1160</td>\n",
              "      <td>432.186776</td>\n",
              "      <td>373.5138</td>\n",
              "      <td>526.3149</td>\n",
              "      <td>679.1160</td>\n",
              "      <td>831.9171</td>\n",
              "      <td>984.7182</td>\n",
              "    </tr>\n",
              "    <tr>\n",
              "      <th>32.0558</th>\n",
              "      <td>1.0</td>\n",
              "      <td>1018.6740</td>\n",
              "      <td>NaN</td>\n",
              "      <td>1018.6740</td>\n",
              "      <td>1018.6740</td>\n",
              "      <td>1018.6740</td>\n",
              "      <td>1018.6740</td>\n",
              "      <td>1018.6740</td>\n",
              "    </tr>\n",
              "    <tr>\n",
              "      <th>...</th>\n",
              "      <td>...</td>\n",
              "      <td>...</td>\n",
              "      <td>...</td>\n",
              "      <td>...</td>\n",
              "      <td>...</td>\n",
              "      <td>...</td>\n",
              "      <td>...</td>\n",
              "      <td>...</td>\n",
              "    </tr>\n",
              "    <tr>\n",
              "      <th>266.1884</th>\n",
              "      <td>2.0</td>\n",
              "      <td>4239.8144</td>\n",
              "      <td>1499.000757</td>\n",
              "      <td>3179.8608</td>\n",
              "      <td>3709.8376</td>\n",
              "      <td>4239.8144</td>\n",
              "      <td>4769.7912</td>\n",
              "      <td>5299.7680</td>\n",
              "    </tr>\n",
              "    <tr>\n",
              "      <th>266.2884</th>\n",
              "      <td>1.0</td>\n",
              "      <td>2914.8724</td>\n",
              "      <td>NaN</td>\n",
              "      <td>2914.8724</td>\n",
              "      <td>2914.8724</td>\n",
              "      <td>2914.8724</td>\n",
              "      <td>2914.8724</td>\n",
              "      <td>2914.8724</td>\n",
              "    </tr>\n",
              "    <tr>\n",
              "      <th>266.5884</th>\n",
              "      <td>2.0</td>\n",
              "      <td>3974.8260</td>\n",
              "      <td>3747.501892</td>\n",
              "      <td>1324.9420</td>\n",
              "      <td>2649.8840</td>\n",
              "      <td>3974.8260</td>\n",
              "      <td>5299.7680</td>\n",
              "      <td>6624.7100</td>\n",
              "    </tr>\n",
              "    <tr>\n",
              "      <th>266.6884</th>\n",
              "      <td>2.0</td>\n",
              "      <td>2119.9072</td>\n",
              "      <td>2623.251324</td>\n",
              "      <td>264.9884</td>\n",
              "      <td>1192.4478</td>\n",
              "      <td>2119.9072</td>\n",
              "      <td>3047.3666</td>\n",
              "      <td>3974.8260</td>\n",
              "    </tr>\n",
              "    <tr>\n",
              "      <th>266.8884</th>\n",
              "      <td>2.0</td>\n",
              "      <td>3047.3666</td>\n",
              "      <td>2810.626419</td>\n",
              "      <td>1059.9536</td>\n",
              "      <td>2053.6601</td>\n",
              "      <td>3047.3666</td>\n",
              "      <td>4041.0731</td>\n",
              "      <td>5034.7796</td>\n",
              "    </tr>\n",
              "  </tbody>\n",
              "</table>\n",
              "<p>5938 rows × 8 columns</p>\n",
              "</div>\n",
              "      <button class=\"colab-df-convert\" onclick=\"convertToInteractive('df-dd82d46a-1529-431d-b18d-b72c0bdae4e5')\"\n",
              "              title=\"Convert this dataframe to an interactive table.\"\n",
              "              style=\"display:none;\">\n",
              "        \n",
              "  <svg xmlns=\"http://www.w3.org/2000/svg\" height=\"24px\"viewBox=\"0 0 24 24\"\n",
              "       width=\"24px\">\n",
              "    <path d=\"M0 0h24v24H0V0z\" fill=\"none\"/>\n",
              "    <path d=\"M18.56 5.44l.94 2.06.94-2.06 2.06-.94-2.06-.94-.94-2.06-.94 2.06-2.06.94zm-11 1L8.5 8.5l.94-2.06 2.06-.94-2.06-.94L8.5 2.5l-.94 2.06-2.06.94zm10 10l.94 2.06.94-2.06 2.06-.94-2.06-.94-.94-2.06-.94 2.06-2.06.94z\"/><path d=\"M17.41 7.96l-1.37-1.37c-.4-.4-.92-.59-1.43-.59-.52 0-1.04.2-1.43.59L10.3 9.45l-7.72 7.72c-.78.78-.78 2.05 0 2.83L4 21.41c.39.39.9.59 1.41.59.51 0 1.02-.2 1.41-.59l7.78-7.78 2.81-2.81c.8-.78.8-2.07 0-2.86zM5.41 20L4 18.59l7.72-7.72 1.47 1.35L5.41 20z\"/>\n",
              "  </svg>\n",
              "      </button>\n",
              "      \n",
              "  <style>\n",
              "    .colab-df-container {\n",
              "      display:flex;\n",
              "      flex-wrap:wrap;\n",
              "      gap: 12px;\n",
              "    }\n",
              "\n",
              "    .colab-df-convert {\n",
              "      background-color: #E8F0FE;\n",
              "      border: none;\n",
              "      border-radius: 50%;\n",
              "      cursor: pointer;\n",
              "      display: none;\n",
              "      fill: #1967D2;\n",
              "      height: 32px;\n",
              "      padding: 0 0 0 0;\n",
              "      width: 32px;\n",
              "    }\n",
              "\n",
              "    .colab-df-convert:hover {\n",
              "      background-color: #E2EBFA;\n",
              "      box-shadow: 0px 1px 2px rgba(60, 64, 67, 0.3), 0px 1px 3px 1px rgba(60, 64, 67, 0.15);\n",
              "      fill: #174EA6;\n",
              "    }\n",
              "\n",
              "    [theme=dark] .colab-df-convert {\n",
              "      background-color: #3B4455;\n",
              "      fill: #D2E3FC;\n",
              "    }\n",
              "\n",
              "    [theme=dark] .colab-df-convert:hover {\n",
              "      background-color: #434B5C;\n",
              "      box-shadow: 0px 1px 3px 1px rgba(0, 0, 0, 0.15);\n",
              "      filter: drop-shadow(0px 1px 2px rgba(0, 0, 0, 0.3));\n",
              "      fill: #FFFFFF;\n",
              "    }\n",
              "  </style>\n",
              "\n",
              "      <script>\n",
              "        const buttonEl =\n",
              "          document.querySelector('#df-dd82d46a-1529-431d-b18d-b72c0bdae4e5 button.colab-df-convert');\n",
              "        buttonEl.style.display =\n",
              "          google.colab.kernel.accessAllowed ? 'block' : 'none';\n",
              "\n",
              "        async function convertToInteractive(key) {\n",
              "          const element = document.querySelector('#df-dd82d46a-1529-431d-b18d-b72c0bdae4e5');\n",
              "          const dataTable =\n",
              "            await google.colab.kernel.invokeFunction('convertToInteractive',\n",
              "                                                     [key], {});\n",
              "          if (!dataTable) return;\n",
              "\n",
              "          const docLinkHtml = 'Like what you see? Visit the ' +\n",
              "            '<a target=\"_blank\" href=https://colab.research.google.com/notebooks/data_table.ipynb>data table notebook</a>'\n",
              "            + ' to learn more about interactive tables.';\n",
              "          element.innerHTML = '';\n",
              "          dataTable['output_type'] = 'display_data';\n",
              "          await google.colab.output.renderOutput(dataTable, element);\n",
              "          const docLink = document.createElement('div');\n",
              "          docLink.innerHTML = docLinkHtml;\n",
              "          element.appendChild(docLink);\n",
              "        }\n",
              "      </script>\n",
              "    </div>\n",
              "  </div>\n",
              "  "
            ]
          },
          "metadata": {},
          "execution_count": 191
        }
      ],
      "source": [
        "# seeing the numerical charactaristics for these categories\n",
        "train.groupby(\"Item_MRP\")[\"Item_Outlet_Sales\"].describe()"
      ]
    },
    {
      "cell_type": "code",
      "execution_count": 222,
      "metadata": {
        "id": "7u0hPuNy1keJ"
      },
      "outputs": [],
      "source": [
        "p =train.groupby(\"Item_MRP\")[\"Item_Outlet_Sales\"].count().sort_values(ascending=False)\n"
      ]
    },
    {
      "cell_type": "code",
      "source": [
        "sns.barplot(p.index);"
      ],
      "metadata": {
        "colab": {
          "base_uri": "https://localhost:8080/",
          "height": 430
        },
        "id": "NxagBSnPW8K2",
        "outputId": "79ea14f3-f282-4182-8339-0819689d09ae"
      },
      "execution_count": 225,
      "outputs": [
        {
          "output_type": "display_data",
          "data": {
            "text/plain": [
              "<Figure size 640x480 with 1 Axes>"
            ],
            "image/png": "[encoded data removed]"
          },
          "metadata": {}
        }
      ]
    },
    {
      "cell_type": "markdown",
      "metadata": {
        "id": "eVDzLiqv19SY"
      },
      "source": [
        "From the table above we can conclude that \n",
        "  - You can see that the number of sales made by the second categore which its Maximum Retail Price(MRP) between **((70, 135])** and **((135,205])** are nearly double the number of sales made by any other category, This means we should increase the most purchased product with this range  of Maximum Retail Price(MRP) in all supermarkets.\n",
        "  \n",
        "  - Also the mean of the products with MRP more than 200 is high , this is because it has higher price but not because it is purchased a lot."
      ]
    },
    {
      "cell_type": "code",
      "execution_count": null,
      "metadata": {
        "colab": {
          "base_uri": "https://localhost:8080/",
          "height": 363
        },
        "id": "L-nZSV_G17v2",
        "outputId": "5fc6cf1c-9b2b-42c9-9c1a-0e6bef0c149a"
      },
      "outputs": [
        {
          "data": {
            "text/html": [
              "\n",
              "  <div id=\"df-51eaf91c-5474-4c55-9124-fd59cf38906c\">\n",
              "    <div class=\"colab-df-container\">\n",
              "      <div>\n",
              "<style scoped>\n",
              "    .dataframe tbody tr th:only-of-type {\n",
              "        vertical-align: middle;\n",
              "    }\n",
              "\n",
              "    .dataframe tbody tr th {\n",
              "        vertical-align: top;\n",
              "    }\n",
              "\n",
              "    .dataframe thead th {\n",
              "        text-align: right;\n",
              "    }\n",
              "</style>\n",
              "<table border=\"1\" class=\"dataframe\">\n",
              "  <thead>\n",
              "    <tr style=\"text-align: right;\">\n",
              "      <th></th>\n",
              "      <th>count</th>\n",
              "      <th>mean</th>\n",
              "      <th>std</th>\n",
              "      <th>min</th>\n",
              "      <th>25%</th>\n",
              "      <th>50%</th>\n",
              "      <th>75%</th>\n",
              "      <th>max</th>\n",
              "    </tr>\n",
              "    <tr>\n",
              "      <th>Outlet_Establishment_Year</th>\n",
              "      <th></th>\n",
              "      <th></th>\n",
              "      <th></th>\n",
              "      <th></th>\n",
              "      <th></th>\n",
              "      <th></th>\n",
              "      <th></th>\n",
              "      <th></th>\n",
              "    </tr>\n",
              "  </thead>\n",
              "  <tbody>\n",
              "    <tr>\n",
              "      <th>1985</th>\n",
              "      <td>1463.0</td>\n",
              "      <td>2483.677474</td>\n",
              "      <td>2347.516621</td>\n",
              "      <td>33.9558</td>\n",
              "      <td>399.48000</td>\n",
              "      <td>1845.5976</td>\n",
              "      <td>3968.16800</td>\n",
              "      <td>13086.9648</td>\n",
              "    </tr>\n",
              "    <tr>\n",
              "      <th>1987</th>\n",
              "      <td>932.0</td>\n",
              "      <td>2298.995256</td>\n",
              "      <td>1533.531664</td>\n",
              "      <td>73.2380</td>\n",
              "      <td>1072.60380</td>\n",
              "      <td>2050.6640</td>\n",
              "      <td>3166.37835</td>\n",
              "      <td>10256.6490</td>\n",
              "    </tr>\n",
              "    <tr>\n",
              "      <th>1997</th>\n",
              "      <td>930.0</td>\n",
              "      <td>2277.844267</td>\n",
              "      <td>1488.405631</td>\n",
              "      <td>101.8674</td>\n",
              "      <td>1137.18640</td>\n",
              "      <td>1945.8005</td>\n",
              "      <td>3095.63710</td>\n",
              "      <td>9779.9362</td>\n",
              "    </tr>\n",
              "    <tr>\n",
              "      <th>1998</th>\n",
              "      <td>555.0</td>\n",
              "      <td>339.351662</td>\n",
              "      <td>271.014855</td>\n",
              "      <td>33.2900</td>\n",
              "      <td>154.13270</td>\n",
              "      <td>250.3408</td>\n",
              "      <td>455.40720</td>\n",
              "      <td>1775.6886</td>\n",
              "    </tr>\n",
              "    <tr>\n",
              "      <th>1999</th>\n",
              "      <td>930.0</td>\n",
              "      <td>2348.354635</td>\n",
              "      <td>1513.289464</td>\n",
              "      <td>111.8544</td>\n",
              "      <td>1182.79370</td>\n",
              "      <td>1966.1074</td>\n",
              "      <td>3281.72820</td>\n",
              "      <td>7646.0472</td>\n",
              "    </tr>\n",
              "    <tr>\n",
              "      <th>2002</th>\n",
              "      <td>929.0</td>\n",
              "      <td>2192.384798</td>\n",
              "      <td>1462.399658</td>\n",
              "      <td>99.8700</td>\n",
              "      <td>1068.60900</td>\n",
              "      <td>1834.9448</td>\n",
              "      <td>2929.52000</td>\n",
              "      <td>8994.9580</td>\n",
              "    </tr>\n",
              "    <tr>\n",
              "      <th>2004</th>\n",
              "      <td>930.0</td>\n",
              "      <td>2438.841866</td>\n",
              "      <td>1538.512533</td>\n",
              "      <td>113.8518</td>\n",
              "      <td>1238.88735</td>\n",
              "      <td>2109.2544</td>\n",
              "      <td>3310.35760</td>\n",
              "      <td>8479.6288</td>\n",
              "    </tr>\n",
              "    <tr>\n",
              "      <th>2007</th>\n",
              "      <td>926.0</td>\n",
              "      <td>2340.675263</td>\n",
              "      <td>1550.778025</td>\n",
              "      <td>143.8128</td>\n",
              "      <td>1195.94325</td>\n",
              "      <td>2005.0567</td>\n",
              "      <td>3096.46935</td>\n",
              "      <td>9664.7528</td>\n",
              "    </tr>\n",
              "    <tr>\n",
              "      <th>2009</th>\n",
              "      <td>928.0</td>\n",
              "      <td>1995.498739</td>\n",
              "      <td>1375.932889</td>\n",
              "      <td>69.2432</td>\n",
              "      <td>981.55565</td>\n",
              "      <td>1655.1788</td>\n",
              "      <td>2702.64865</td>\n",
              "      <td>6768.5228</td>\n",
              "    </tr>\n",
              "  </tbody>\n",
              "</table>\n",
              "</div>\n",
              "      <button class=\"colab-df-convert\" onclick=\"convertToInteractive('df-51eaf91c-5474-4c55-9124-fd59cf38906c')\"\n",
              "              title=\"Convert this dataframe to an interactive table.\"\n",
              "              style=\"display:none;\">\n",
              "        \n",
              "  <svg xmlns=\"http://www.w3.org/2000/svg\" height=\"24px\"viewBox=\"0 0 24 24\"\n",
              "       width=\"24px\">\n",
              "    <path d=\"M0 0h24v24H0V0z\" fill=\"none\"/>\n",
              "    <path d=\"M18.56 5.44l.94 2.06.94-2.06 2.06-.94-2.06-.94-.94-2.06-.94 2.06-2.06.94zm-11 1L8.5 8.5l.94-2.06 2.06-.94-2.06-.94L8.5 2.5l-.94 2.06-2.06.94zm10 10l.94 2.06.94-2.06 2.06-.94-2.06-.94-.94-2.06-.94 2.06-2.06.94z\"/><path d=\"M17.41 7.96l-1.37-1.37c-.4-.4-.92-.59-1.43-.59-.52 0-1.04.2-1.43.59L10.3 9.45l-7.72 7.72c-.78.78-.78 2.05 0 2.83L4 21.41c.39.39.9.59 1.41.59.51 0 1.02-.2 1.41-.59l7.78-7.78 2.81-2.81c.8-.78.8-2.07 0-2.86zM5.41 20L4 18.59l7.72-7.72 1.47 1.35L5.41 20z\"/>\n",
              "  </svg>\n",
              "      </button>\n",
              "      \n",
              "  <style>\n",
              "    .colab-df-container {\n",
              "      display:flex;\n",
              "      flex-wrap:wrap;\n",
              "      gap: 12px;\n",
              "    }\n",
              "\n",
              "    .colab-df-convert {\n",
              "      background-color: #E8F0FE;\n",
              "      border: none;\n",
              "      border-radius: 50%;\n",
              "      cursor: pointer;\n",
              "      display: none;\n",
              "      fill: #1967D2;\n",
              "      height: 32px;\n",
              "      padding: 0 0 0 0;\n",
              "      width: 32px;\n",
              "    }\n",
              "\n",
              "    .colab-df-convert:hover {\n",
              "      background-color: #E2EBFA;\n",
              "      box-shadow: 0px 1px 2px rgba(60, 64, 67, 0.3), 0px 1px 3px 1px rgba(60, 64, 67, 0.15);\n",
              "      fill: #174EA6;\n",
              "    }\n",
              "\n",
              "    [theme=dark] .colab-df-convert {\n",
              "      background-color: #3B4455;\n",
              "      fill: #D2E3FC;\n",
              "    }\n",
              "\n",
              "    [theme=dark] .colab-df-convert:hover {\n",
              "      background-color: #434B5C;\n",
              "      box-shadow: 0px 1px 3px 1px rgba(0, 0, 0, 0.15);\n",
              "      filter: drop-shadow(0px 1px 2px rgba(0, 0, 0, 0.3));\n",
              "      fill: #FFFFFF;\n",
              "    }\n",
              "  </style>\n",
              "\n",
              "      <script>\n",
              "        const buttonEl =\n",
              "          document.querySelector('#df-51eaf91c-5474-4c55-9124-fd59cf38906c button.colab-df-convert');\n",
              "        buttonEl.style.display =\n",
              "          google.colab.kernel.accessAllowed ? 'block' : 'none';\n",
              "\n",
              "        async function convertToInteractive(key) {\n",
              "          const element = document.querySelector('#df-51eaf91c-5474-4c55-9124-fd59cf38906c');\n",
              "          const dataTable =\n",
              "            await google.colab.kernel.invokeFunction('convertToInteractive',\n",
              "                                                     [key], {});\n",
              "          if (!dataTable) return;\n",
              "\n",
              "          const docLinkHtml = 'Like what you see? Visit the ' +\n",
              "            '<a target=\"_blank\" href=https://colab.research.google.com/notebooks/data_table.ipynb>data table notebook</a>'\n",
              "            + ' to learn more about interactive tables.';\n",
              "          element.innerHTML = '';\n",
              "          dataTable['output_type'] = 'display_data';\n",
              "          await google.colab.output.renderOutput(dataTable, element);\n",
              "          const docLink = document.createElement('div');\n",
              "          docLink.innerHTML = docLinkHtml;\n",
              "          element.appendChild(docLink);\n",
              "        }\n",
              "      </script>\n",
              "    </div>\n",
              "  </div>\n",
              "  "
            ],
            "text/plain": [
              "                            count         mean          std       min  \\\n",
              "Outlet_Establishment_Year                                               \n",
              "1985                       1463.0  2483.677474  2347.516621   33.9558   \n",
              "1987                        932.0  2298.995256  1533.531664   73.2380   \n",
              "1997                        930.0  2277.844267  1488.405631  101.8674   \n",
              "1998                        555.0   339.351662   271.014855   33.2900   \n",
              "1999                        930.0  2348.354635  1513.289464  111.8544   \n",
              "2002                        929.0  2192.384798  1462.399658   99.8700   \n",
              "2004                        930.0  2438.841866  1538.512533  113.8518   \n",
              "2007                        926.0  2340.675263  1550.778025  143.8128   \n",
              "2009                        928.0  1995.498739  1375.932889   69.2432   \n",
              "\n",
              "                                  25%        50%         75%         max  \n",
              "Outlet_Establishment_Year                                                 \n",
              "1985                        399.48000  1845.5976  3968.16800  13086.9648  \n",
              "1987                       1072.60380  2050.6640  3166.37835  10256.6490  \n",
              "1997                       1137.18640  1945.8005  3095.63710   9779.9362  \n",
              "1998                        154.13270   250.3408   455.40720   1775.6886  \n",
              "1999                       1182.79370  1966.1074  3281.72820   7646.0472  \n",
              "2002                       1068.60900  1834.9448  2929.52000   8994.9580  \n",
              "2004                       1238.88735  2109.2544  3310.35760   8479.6288  \n",
              "2007                       1195.94325  2005.0567  3096.46935   9664.7528  \n",
              "2009                        981.55565  1655.1788  2702.64865   6768.5228  "
            ]
          },
          "execution_count": 156,
          "metadata": {},
          "output_type": "execute_result"
        }
      ],
      "source": [
        "# Numerical charactaristics of years related to sales\n",
        "train.groupby(\"Outlet_Establishment_Year\")[\"Item_Outlet_Sales\"].describe()"
      ]
    },
    {
      "cell_type": "code",
      "execution_count": null,
      "metadata": {
        "colab": {
          "base_uri": "https://localhost:8080/"
        },
        "id": "gJcBwPpk2DiL",
        "outputId": "5b26940e-a59e-405d-b3c4-ca07c686c0f7"
      },
      "outputs": [
        {
          "data": {
            "text/plain": [
              "Outlet_Identifier\n",
              "OUT010    [1998]\n",
              "OUT013    [1987]\n",
              "OUT017    [2007]\n",
              "OUT018    [2009]\n",
              "OUT019    [1985]\n",
              "OUT027    [1985]\n",
              "OUT035    [2004]\n",
              "OUT045    [2002]\n",
              "OUT046    [1997]\n",
              "OUT049    [1999]\n",
              "Name: Outlet_Establishment_Year, dtype: object"
            ]
          },
          "execution_count": 157,
          "metadata": {},
          "output_type": "execute_result"
        }
      ],
      "source": [
        "# Grouping Outlet_identifier with the years it was established in.\n",
        "train.Outlet_Establishment_Year.groupby(train.Outlet_Identifier).apply(np.array).apply(lambda x: np.unique(x))"
      ]
    },
    {
      "cell_type": "markdown",
      "metadata": {
        "id": "nyq9uJch2RtI"
      },
      "source": [
        "The year \"1985\" was a year that Bigmart established **TWO** Outlets (\"OUT019\" and \"OUT027\"), so when we grouped the sales with years, the first year was the sales of two outlets (\"OUT019\" and \"OUT027\") together."
      ]
    },
    {
      "cell_type": "code",
      "execution_count": null,
      "metadata": {
        "colab": {
          "base_uri": "https://localhost:8080/",
          "height": 394
        },
        "id": "svWfVTyI2Gfg",
        "outputId": "52dba523-2da1-4ac2-e318-754ae7f62f6e"
      },
      "outputs": [
        {
          "data": {
            "text/html": [
              "\n",
              "  <div id=\"df-57a2d6c1-861d-4a7d-a252-491257e0f61b\">\n",
              "    <div class=\"colab-df-container\">\n",
              "      <div>\n",
              "<style scoped>\n",
              "    .dataframe tbody tr th:only-of-type {\n",
              "        vertical-align: middle;\n",
              "    }\n",
              "\n",
              "    .dataframe tbody tr th {\n",
              "        vertical-align: top;\n",
              "    }\n",
              "\n",
              "    .dataframe thead th {\n",
              "        text-align: right;\n",
              "    }\n",
              "</style>\n",
              "<table border=\"1\" class=\"dataframe\">\n",
              "  <thead>\n",
              "    <tr style=\"text-align: right;\">\n",
              "      <th></th>\n",
              "      <th>count</th>\n",
              "      <th>mean</th>\n",
              "      <th>std</th>\n",
              "      <th>min</th>\n",
              "      <th>25%</th>\n",
              "      <th>50%</th>\n",
              "      <th>75%</th>\n",
              "      <th>max</th>\n",
              "    </tr>\n",
              "    <tr>\n",
              "      <th>Outlet_Identifier</th>\n",
              "      <th></th>\n",
              "      <th></th>\n",
              "      <th></th>\n",
              "      <th></th>\n",
              "      <th></th>\n",
              "      <th></th>\n",
              "      <th></th>\n",
              "      <th></th>\n",
              "    </tr>\n",
              "  </thead>\n",
              "  <tbody>\n",
              "    <tr>\n",
              "      <th>OUT010</th>\n",
              "      <td>555.0</td>\n",
              "      <td>339.351662</td>\n",
              "      <td>271.014855</td>\n",
              "      <td>33.2900</td>\n",
              "      <td>154.13270</td>\n",
              "      <td>250.3408</td>\n",
              "      <td>455.40720</td>\n",
              "      <td>1775.6886</td>\n",
              "    </tr>\n",
              "    <tr>\n",
              "      <th>OUT013</th>\n",
              "      <td>932.0</td>\n",
              "      <td>2298.995256</td>\n",
              "      <td>1533.531664</td>\n",
              "      <td>73.2380</td>\n",
              "      <td>1072.60380</td>\n",
              "      <td>2050.6640</td>\n",
              "      <td>3166.37835</td>\n",
              "      <td>10256.6490</td>\n",
              "    </tr>\n",
              "    <tr>\n",
              "      <th>OUT017</th>\n",
              "      <td>926.0</td>\n",
              "      <td>2340.675263</td>\n",
              "      <td>1550.778025</td>\n",
              "      <td>143.8128</td>\n",
              "      <td>1195.94325</td>\n",
              "      <td>2005.0567</td>\n",
              "      <td>3096.46935</td>\n",
              "      <td>9664.7528</td>\n",
              "    </tr>\n",
              "    <tr>\n",
              "      <th>OUT018</th>\n",
              "      <td>928.0</td>\n",
              "      <td>1995.498739</td>\n",
              "      <td>1375.932889</td>\n",
              "      <td>69.2432</td>\n",
              "      <td>981.55565</td>\n",
              "      <td>1655.1788</td>\n",
              "      <td>2702.64865</td>\n",
              "      <td>6768.5228</td>\n",
              "    </tr>\n",
              "    <tr>\n",
              "      <th>OUT019</th>\n",
              "      <td>528.0</td>\n",
              "      <td>340.329723</td>\n",
              "      <td>249.979449</td>\n",
              "      <td>33.9558</td>\n",
              "      <td>153.63335</td>\n",
              "      <td>265.3213</td>\n",
              "      <td>460.73360</td>\n",
              "      <td>1482.0708</td>\n",
              "    </tr>\n",
              "    <tr>\n",
              "      <th>OUT027</th>\n",
              "      <td>935.0</td>\n",
              "      <td>3694.038558</td>\n",
              "      <td>2127.760054</td>\n",
              "      <td>241.6854</td>\n",
              "      <td>2044.33890</td>\n",
              "      <td>3364.9532</td>\n",
              "      <td>4975.52340</td>\n",
              "      <td>13086.9648</td>\n",
              "    </tr>\n",
              "    <tr>\n",
              "      <th>OUT035</th>\n",
              "      <td>930.0</td>\n",
              "      <td>2438.841866</td>\n",
              "      <td>1538.512533</td>\n",
              "      <td>113.8518</td>\n",
              "      <td>1238.88735</td>\n",
              "      <td>2109.2544</td>\n",
              "      <td>3310.35760</td>\n",
              "      <td>8479.6288</td>\n",
              "    </tr>\n",
              "    <tr>\n",
              "      <th>OUT045</th>\n",
              "      <td>929.0</td>\n",
              "      <td>2192.384798</td>\n",
              "      <td>1462.399658</td>\n",
              "      <td>99.8700</td>\n",
              "      <td>1068.60900</td>\n",
              "      <td>1834.9448</td>\n",
              "      <td>2929.52000</td>\n",
              "      <td>8994.9580</td>\n",
              "    </tr>\n",
              "    <tr>\n",
              "      <th>OUT046</th>\n",
              "      <td>930.0</td>\n",
              "      <td>2277.844267</td>\n",
              "      <td>1488.405631</td>\n",
              "      <td>101.8674</td>\n",
              "      <td>1137.18640</td>\n",
              "      <td>1945.8005</td>\n",
              "      <td>3095.63710</td>\n",
              "      <td>9779.9362</td>\n",
              "    </tr>\n",
              "    <tr>\n",
              "      <th>OUT049</th>\n",
              "      <td>930.0</td>\n",
              "      <td>2348.354635</td>\n",
              "      <td>1513.289464</td>\n",
              "      <td>111.8544</td>\n",
              "      <td>1182.79370</td>\n",
              "      <td>1966.1074</td>\n",
              "      <td>3281.72820</td>\n",
              "      <td>7646.0472</td>\n",
              "    </tr>\n",
              "  </tbody>\n",
              "</table>\n",
              "</div>\n",
              "      <button class=\"colab-df-convert\" onclick=\"convertToInteractive('df-57a2d6c1-861d-4a7d-a252-491257e0f61b')\"\n",
              "              title=\"Convert this dataframe to an interactive table.\"\n",
              "              style=\"display:none;\">\n",
              "        \n",
              "  <svg xmlns=\"http://www.w3.org/2000/svg\" height=\"24px\"viewBox=\"0 0 24 24\"\n",
              "       width=\"24px\">\n",
              "    <path d=\"M0 0h24v24H0V0z\" fill=\"none\"/>\n",
              "    <path d=\"M18.56 5.44l.94 2.06.94-2.06 2.06-.94-2.06-.94-.94-2.06-.94 2.06-2.06.94zm-11 1L8.5 8.5l.94-2.06 2.06-.94-2.06-.94L8.5 2.5l-.94 2.06-2.06.94zm10 10l.94 2.06.94-2.06 2.06-.94-2.06-.94-.94-2.06-.94 2.06-2.06.94z\"/><path d=\"M17.41 7.96l-1.37-1.37c-.4-.4-.92-.59-1.43-.59-.52 0-1.04.2-1.43.59L10.3 9.45l-7.72 7.72c-.78.78-.78 2.05 0 2.83L4 21.41c.39.39.9.59 1.41.59.51 0 1.02-.2 1.41-.59l7.78-7.78 2.81-2.81c.8-.78.8-2.07 0-2.86zM5.41 20L4 18.59l7.72-7.72 1.47 1.35L5.41 20z\"/>\n",
              "  </svg>\n",
              "      </button>\n",
              "      \n",
              "  <style>\n",
              "    .colab-df-container {\n",
              "      display:flex;\n",
              "      flex-wrap:wrap;\n",
              "      gap: 12px;\n",
              "    }\n",
              "\n",
              "    .colab-df-convert {\n",
              "      background-color: #E8F0FE;\n",
              "      border: none;\n",
              "      border-radius: 50%;\n",
              "      cursor: pointer;\n",
              "      display: none;\n",
              "      fill: #1967D2;\n",
              "      height: 32px;\n",
              "      padding: 0 0 0 0;\n",
              "      width: 32px;\n",
              "    }\n",
              "\n",
              "    .colab-df-convert:hover {\n",
              "      background-color: #E2EBFA;\n",
              "      box-shadow: 0px 1px 2px rgba(60, 64, 67, 0.3), 0px 1px 3px 1px rgba(60, 64, 67, 0.15);\n",
              "      fill: #174EA6;\n",
              "    }\n",
              "\n",
              "    [theme=dark] .colab-df-convert {\n",
              "      background-color: #3B4455;\n",
              "      fill: #D2E3FC;\n",
              "    }\n",
              "\n",
              "    [theme=dark] .colab-df-convert:hover {\n",
              "      background-color: #434B5C;\n",
              "      box-shadow: 0px 1px 3px 1px rgba(0, 0, 0, 0.15);\n",
              "      filter: drop-shadow(0px 1px 2px rgba(0, 0, 0, 0.3));\n",
              "      fill: #FFFFFF;\n",
              "    }\n",
              "  </style>\n",
              "\n",
              "      <script>\n",
              "        const buttonEl =\n",
              "          document.querySelector('#df-57a2d6c1-861d-4a7d-a252-491257e0f61b button.colab-df-convert');\n",
              "        buttonEl.style.display =\n",
              "          google.colab.kernel.accessAllowed ? 'block' : 'none';\n",
              "\n",
              "        async function convertToInteractive(key) {\n",
              "          const element = document.querySelector('#df-57a2d6c1-861d-4a7d-a252-491257e0f61b');\n",
              "          const dataTable =\n",
              "            await google.colab.kernel.invokeFunction('convertToInteractive',\n",
              "                                                     [key], {});\n",
              "          if (!dataTable) return;\n",
              "\n",
              "          const docLinkHtml = 'Like what you see? Visit the ' +\n",
              "            '<a target=\"_blank\" href=https://colab.research.google.com/notebooks/data_table.ipynb>data table notebook</a>'\n",
              "            + ' to learn more about interactive tables.';\n",
              "          element.innerHTML = '';\n",
              "          dataTable['output_type'] = 'display_data';\n",
              "          await google.colab.output.renderOutput(dataTable, element);\n",
              "          const docLink = document.createElement('div');\n",
              "          docLink.innerHTML = docLinkHtml;\n",
              "          element.appendChild(docLink);\n",
              "        }\n",
              "      </script>\n",
              "    </div>\n",
              "  </div>\n",
              "  "
            ],
            "text/plain": [
              "                   count         mean          std       min         25%  \\\n",
              "Outlet_Identifier                                                          \n",
              "OUT010             555.0   339.351662   271.014855   33.2900   154.13270   \n",
              "OUT013             932.0  2298.995256  1533.531664   73.2380  1072.60380   \n",
              "OUT017             926.0  2340.675263  1550.778025  143.8128  1195.94325   \n",
              "OUT018             928.0  1995.498739  1375.932889   69.2432   981.55565   \n",
              "OUT019             528.0   340.329723   249.979449   33.9558   153.63335   \n",
              "OUT027             935.0  3694.038558  2127.760054  241.6854  2044.33890   \n",
              "OUT035             930.0  2438.841866  1538.512533  113.8518  1238.88735   \n",
              "OUT045             929.0  2192.384798  1462.399658   99.8700  1068.60900   \n",
              "OUT046             930.0  2277.844267  1488.405631  101.8674  1137.18640   \n",
              "OUT049             930.0  2348.354635  1513.289464  111.8544  1182.79370   \n",
              "\n",
              "                         50%         75%         max  \n",
              "Outlet_Identifier                                     \n",
              "OUT010              250.3408   455.40720   1775.6886  \n",
              "OUT013             2050.6640  3166.37835  10256.6490  \n",
              "OUT017             2005.0567  3096.46935   9664.7528  \n",
              "OUT018             1655.1788  2702.64865   6768.5228  \n",
              "OUT019              265.3213   460.73360   1482.0708  \n",
              "OUT027             3364.9532  4975.52340  13086.9648  \n",
              "OUT035             2109.2544  3310.35760   8479.6288  \n",
              "OUT045             1834.9448  2929.52000   8994.9580  \n",
              "OUT046             1945.8005  3095.63710   9779.9362  \n",
              "OUT049             1966.1074  3281.72820   7646.0472  "
            ]
          },
          "execution_count": 158,
          "metadata": {},
          "output_type": "execute_result"
        }
      ],
      "source": [
        "train.groupby(\"Outlet_Identifier\")[\"Item_Outlet_Sales\"].describe()"
      ]
    },
    {
      "cell_type": "markdown",
      "metadata": {
        "id": "E3bcrt_t2Y37"
      },
      "source": [
        "These two outlets have **lower num of sales** made, and **lower price of item** relative to the other outlets, so it justifies lower number of overall Outlet sales.\n"
      ]
    },
    {
      "cell_type": "markdown",
      "metadata": {
        "id": "pvL1_fWx2pZf"
      },
      "source": [
        "## **Item type affecting the sales**"
      ]
    },
    {
      "cell_type": "code",
      "execution_count": 200,
      "metadata": {
        "id": "Bug3A0yB2TgS"
      },
      "outputs": [],
      "source": [
        "# Order item types and their total sales\n",
        "order_type = train.groupby(\"Item_Type\")[\"Item_Outlet_Sales\"].sum().sort_values(ascending=False)"
      ]
    },
    {
      "cell_type": "code",
      "source": [
        "le = LabelEncoder()"
      ],
      "metadata": {
        "id": "hIMbtPVpVqW0"
      },
      "execution_count": 211,
      "outputs": []
    },
    {
      "cell_type": "code",
      "execution_count": 210,
      "metadata": {
        "colab": {
          "base_uri": "https://localhost:8080/",
          "height": 541
        },
        "id": "NPGT7fCj2t60",
        "outputId": "0e1e6f73-bd61-4ab3-93fc-7ef344bd1cb6"
      },
      "outputs": [
        {
          "output_type": "display_data",
          "data": {
            "text/plain": [
              "<Figure size 1000x600 with 1 Axes>"
            ],
            "image/png": "[encoded data removed]"
          },
          "metadata": {}
        }
      ],
      "source": [
        "plt.figure(figsize=(10,6))\n",
        "sns.barplot(order_type,palette='Blues_r')\n",
        "plt.xticks(rotation=90)\n",
        "plt.title(\"Total sales of each item type\", fontsize=16);"
      ]
    },
    {
      "cell_type": "markdown",
      "metadata": {
        "id": "1fSuy39Y3T-y"
      },
      "source": [
        "### **Feature Engineering**"
      ]
    },
    {
      "cell_type": "markdown",
      "metadata": {
        "id": "7N_zwg_93eeK"
      },
      "source": [
        "**We will build a preprocessing pipeline, inside i am goging to scale the numerical data and encode the categorical ones then adding the classifier **"
      ]
    },
    {
      "cell_type": "code",
      "execution_count": null,
      "metadata": {
        "id": "2qzX7qTE3Pou"
      },
      "outputs": [],
      "source": [
        "# Importing the important libiries\n",
        "\n",
        "from sklearn.compose import ColumnTransformer\n",
        "from sklearn.pipeline import Pipeline\n",
        "from sklearn.impute import SimpleImputer\n",
        "from sklearn.preprocessing import StandardScaler, OneHotEncoder\n",
        "from sklearn.model_selection import train_test_split, GridSearchCV\n",
        "\n",
        "np.random.seed(0)"
      ]
    },
    {
      "cell_type": "code",
      "execution_count": null,
      "metadata": {
        "id": "fD4XND7V3kap"
      },
      "outputs": [],
      "source": [
        "# Buliding the first part of the pipeline\n",
        "# Scaling the numeric features \n",
        "num_features = [\"Item_Weight\",\"Item_Visibility\",\"Item_MRP\"]\n",
        "numeric_transformer= Pipeline(\n",
        "    steps=[(\"scaler\", StandardScaler())]\n",
        ")\n",
        "\n",
        "# Encoding the important categorical features\n",
        "categorical_features = train.select_dtypes(include=['object']).columns.tolist()\n",
        "categorical_transformer = OneHotEncoder(handle_unknown=\"ignore\")\n",
        "\n",
        "preprocessor = ColumnTransformer(\n",
        "    transformers=[\n",
        "        (\"num\", numeric_transformer, num_features),\n",
        "        (\"cat\", categorical_transformer, categorical_features),\n",
        "    ]\n",
        ")"
      ]
    },
    {
      "cell_type": "markdown",
      "metadata": {
        "id": "TbKNJG6x6eXw"
      },
      "source": [
        "##**Label Encoding**"
      ]
    },
    {
      "cell_type": "code",
      "execution_count": null,
      "metadata": {
        "id": "8aX6jdKY6lQi"
      },
      "outputs": [],
      "source": [
        "le = LabelEncoder()"
      ]
    },
    {
      "cell_type": "code",
      "execution_count": null,
      "metadata": {
        "id": "d92wKfdO6oUn"
      },
      "outputs": [],
      "source": [
        "train  = train.apply(le.fit_transform)"
      ]
    },
    {
      "cell_type": "code",
      "execution_count": null,
      "metadata": {
        "colab": {
          "base_uri": "https://localhost:8080/",
          "height": 270
        },
        "id": "AkCFkD7t6q2T",
        "outputId": "5a89b458-29cb-48a2-fedd-d967c0cddbbe"
      },
      "outputs": [
        {
          "data": {
            "text/html": [
              "\n",
              "  <div id=\"df-66718354-1c31-478c-90ae-64662398bfa7\">\n",
              "    <div class=\"colab-df-container\">\n",
              "      <div>\n",
              "<style scoped>\n",
              "    .dataframe tbody tr th:only-of-type {\n",
              "        vertical-align: middle;\n",
              "    }\n",
              "\n",
              "    .dataframe tbody tr th {\n",
              "        vertical-align: top;\n",
              "    }\n",
              "\n",
              "    .dataframe thead th {\n",
              "        text-align: right;\n",
              "    }\n",
              "</style>\n",
              "<table border=\"1\" class=\"dataframe\">\n",
              "  <thead>\n",
              "    <tr style=\"text-align: right;\">\n",
              "      <th></th>\n",
              "      <th>Item_Identifier</th>\n",
              "      <th>Item_Weight</th>\n",
              "      <th>Item_Fat_Content</th>\n",
              "      <th>Item_Visibility</th>\n",
              "      <th>Item_Type</th>\n",
              "      <th>Item_MRP</th>\n",
              "      <th>Outlet_Identifier</th>\n",
              "      <th>Outlet_Establishment_Year</th>\n",
              "      <th>Outlet_Size</th>\n",
              "      <th>Outlet_Location_Type</th>\n",
              "      <th>Outlet_Type</th>\n",
              "      <th>Item_Outlet_Sales</th>\n",
              "      <th>source</th>\n",
              "      <th>Item_MRP_cat</th>\n",
              "    </tr>\n",
              "  </thead>\n",
              "  <tbody>\n",
              "    <tr>\n",
              "      <th>0</th>\n",
              "      <td>156</td>\n",
              "      <td>284</td>\n",
              "      <td>0</td>\n",
              "      <td>663</td>\n",
              "      <td>4</td>\n",
              "      <td>5592</td>\n",
              "      <td>9</td>\n",
              "      <td>4</td>\n",
              "      <td>1</td>\n",
              "      <td>0</td>\n",
              "      <td>1</td>\n",
              "      <td>2540</td>\n",
              "      <td>0</td>\n",
              "      <td>3</td>\n",
              "    </tr>\n",
              "    <tr>\n",
              "      <th>1</th>\n",
              "      <td>8</td>\n",
              "      <td>57</td>\n",
              "      <td>1</td>\n",
              "      <td>879</td>\n",
              "      <td>14</td>\n",
              "      <td>473</td>\n",
              "      <td>3</td>\n",
              "      <td>8</td>\n",
              "      <td>1</td>\n",
              "      <td>2</td>\n",
              "      <td>2</td>\n",
              "      <td>422</td>\n",
              "      <td>0</td>\n",
              "      <td>0</td>\n",
              "    </tr>\n",
              "    <tr>\n",
              "      <th>2</th>\n",
              "      <td>662</td>\n",
              "      <td>376</td>\n",
              "      <td>0</td>\n",
              "      <td>714</td>\n",
              "      <td>10</td>\n",
              "      <td>2901</td>\n",
              "      <td>9</td>\n",
              "      <td>4</td>\n",
              "      <td>1</td>\n",
              "      <td>0</td>\n",
              "      <td>1</td>\n",
              "      <td>1639</td>\n",
              "      <td>0</td>\n",
              "      <td>2</td>\n",
              "    </tr>\n",
              "    <tr>\n",
              "      <th>3</th>\n",
              "      <td>1121</td>\n",
              "      <td>393</td>\n",
              "      <td>1</td>\n",
              "      <td>4432</td>\n",
              "      <td>6</td>\n",
              "      <td>4227</td>\n",
              "      <td>0</td>\n",
              "      <td>3</td>\n",
              "      <td>1</td>\n",
              "      <td>2</td>\n",
              "      <td>0</td>\n",
              "      <td>670</td>\n",
              "      <td>0</td>\n",
              "      <td>2</td>\n",
              "    </tr>\n",
              "    <tr>\n",
              "      <th>4</th>\n",
              "      <td>1297</td>\n",
              "      <td>265</td>\n",
              "      <td>0</td>\n",
              "      <td>4432</td>\n",
              "      <td>9</td>\n",
              "      <td>627</td>\n",
              "      <td>1</td>\n",
              "      <td>1</td>\n",
              "      <td>0</td>\n",
              "      <td>2</td>\n",
              "      <td>1</td>\n",
              "      <td>865</td>\n",
              "      <td>0</td>\n",
              "      <td>0</td>\n",
              "    </tr>\n",
              "  </tbody>\n",
              "</table>\n",
              "</div>\n",
              "      <button class=\"colab-df-convert\" onclick=\"convertToInteractive('df-66718354-1c31-478c-90ae-64662398bfa7')\"\n",
              "              title=\"Convert this dataframe to an interactive table.\"\n",
              "              style=\"display:none;\">\n",
              "        \n",
              "  <svg xmlns=\"http://www.w3.org/2000/svg\" height=\"24px\"viewBox=\"0 0 24 24\"\n",
              "       width=\"24px\">\n",
              "    <path d=\"M0 0h24v24H0V0z\" fill=\"none\"/>\n",
              "    <path d=\"M18.56 5.44l.94 2.06.94-2.06 2.06-.94-2.06-.94-.94-2.06-.94 2.06-2.06.94zm-11 1L8.5 8.5l.94-2.06 2.06-.94-2.06-.94L8.5 2.5l-.94 2.06-2.06.94zm10 10l.94 2.06.94-2.06 2.06-.94-2.06-.94-.94-2.06-.94 2.06-2.06.94z\"/><path d=\"M17.41 7.96l-1.37-1.37c-.4-.4-.92-.59-1.43-.59-.52 0-1.04.2-1.43.59L10.3 9.45l-7.72 7.72c-.78.78-.78 2.05 0 2.83L4 21.41c.39.39.9.59 1.41.59.51 0 1.02-.2 1.41-.59l7.78-7.78 2.81-2.81c.8-.78.8-2.07 0-2.86zM5.41 20L4 18.59l7.72-7.72 1.47 1.35L5.41 20z\"/>\n",
              "  </svg>\n",
              "      </button>\n",
              "      \n",
              "  <style>\n",
              "    .colab-df-container {\n",
              "      display:flex;\n",
              "      flex-wrap:wrap;\n",
              "      gap: 12px;\n",
              "    }\n",
              "\n",
              "    .colab-df-convert {\n",
              "      background-color: #E8F0FE;\n",
              "      border: none;\n",
              "      border-radius: 50%;\n",
              "      cursor: pointer;\n",
              "      display: none;\n",
              "      fill: #1967D2;\n",
              "      height: 32px;\n",
              "      padding: 0 0 0 0;\n",
              "      width: 32px;\n",
              "    }\n",
              "\n",
              "    .colab-df-convert:hover {\n",
              "      background-color: #E2EBFA;\n",
              "      box-shadow: 0px 1px 2px rgba(60, 64, 67, 0.3), 0px 1px 3px 1px rgba(60, 64, 67, 0.15);\n",
              "      fill: #174EA6;\n",
              "    }\n",
              "\n",
              "    [theme=dark] .colab-df-convert {\n",
              "      background-color: #3B4455;\n",
              "      fill: #D2E3FC;\n",
              "    }\n",
              "\n",
              "    [theme=dark] .colab-df-convert:hover {\n",
              "      background-color: #434B5C;\n",
              "      box-shadow: 0px 1px 3px 1px rgba(0, 0, 0, 0.15);\n",
              "      filter: drop-shadow(0px 1px 2px rgba(0, 0, 0, 0.3));\n",
              "      fill: #FFFFFF;\n",
              "    }\n",
              "  </style>\n",
              "\n",
              "      <script>\n",
              "        const buttonEl =\n",
              "          document.querySelector('#df-66718354-1c31-478c-90ae-64662398bfa7 button.colab-df-convert');\n",
              "        buttonEl.style.display =\n",
              "          google.colab.kernel.accessAllowed ? 'block' : 'none';\n",
              "\n",
              "        async function convertToInteractive(key) {\n",
              "          const element = document.querySelector('#df-66718354-1c31-478c-90ae-64662398bfa7');\n",
              "          const dataTable =\n",
              "            await google.colab.kernel.invokeFunction('convertToInteractive',\n",
              "                                                     [key], {});\n",
              "          if (!dataTable) return;\n",
              "\n",
              "          const docLinkHtml = 'Like what you see? Visit the ' +\n",
              "            '<a target=\"_blank\" href=https://colab.research.google.com/notebooks/data_table.ipynb>data table notebook</a>'\n",
              "            + ' to learn more about interactive tables.';\n",
              "          element.innerHTML = '';\n",
              "          dataTable['output_type'] = 'display_data';\n",
              "          await google.colab.output.renderOutput(dataTable, element);\n",
              "          const docLink = document.createElement('div');\n",
              "          docLink.innerHTML = docLinkHtml;\n",
              "          element.appendChild(docLink);\n",
              "        }\n",
              "      </script>\n",
              "    </div>\n",
              "  </div>\n",
              "  "
            ],
            "text/plain": [
              "   Item_Identifier  Item_Weight  Item_Fat_Content  Item_Visibility  Item_Type  \\\n",
              "0              156          284                 0              663          4   \n",
              "1                8           57                 1              879         14   \n",
              "2              662          376                 0              714         10   \n",
              "3             1121          393                 1             4432          6   \n",
              "4             1297          265                 0             4432          9   \n",
              "\n",
              "   Item_MRP  Outlet_Identifier  Outlet_Establishment_Year  Outlet_Size  \\\n",
              "0      5592                  9                          4            1   \n",
              "1       473                  3                          8            1   \n",
              "2      2901                  9                          4            1   \n",
              "3      4227                  0                          3            1   \n",
              "4       627                  1                          1            0   \n",
              "\n",
              "   Outlet_Location_Type  Outlet_Type  Item_Outlet_Sales  source  Item_MRP_cat  \n",
              "0                     0            1               2540       0             3  \n",
              "1                     2            2                422       0             0  \n",
              "2                     0            1               1639       0             2  \n",
              "3                     2            0                670       0             2  \n",
              "4                     2            1                865       0             0  "
            ]
          },
          "execution_count": 165,
          "metadata": {},
          "output_type": "execute_result"
        }
      ],
      "source": [
        "train.head()"
      ]
    },
    {
      "cell_type": "code",
      "execution_count": null,
      "metadata": {
        "id": "XxYNiDq46t16"
      },
      "outputs": [],
      "source": [
        "X = train.drop('Item_Outlet_Sales',axis = 1)\n",
        "y = train['Item_Outlet_Sales']"
      ]
    },
    {
      "cell_type": "markdown",
      "metadata": {
        "id": "9mDalEKWLDy3"
      },
      "source": [
        "### **One Hot Encoding**"
      ]
    },
    {
      "cell_type": "code",
      "execution_count": null,
      "metadata": {
        "id": "cSKpyYppLDRC"
      },
      "outputs": [],
      "source": [
        "from sklearn.preprocessing import OneHotEncoder"
      ]
    },
    {
      "cell_type": "code",
      "execution_count": null,
      "metadata": {
        "id": "e19P055VMhje"
      },
      "outputs": [],
      "source": [
        "enc = OneHotEncoder(handle_unknown='ignore')"
      ]
    },
    {
      "cell_type": "code",
      "execution_count": null,
      "metadata": {
        "id": "xn5B_3I9NN65"
      },
      "outputs": [],
      "source": [
        "y = OneHotEncoder().fit_transform(train).toarray()"
      ]
    },
    {
      "cell_type": "code",
      "execution_count": null,
      "metadata": {
        "colab": {
          "base_uri": "https://localhost:8080/"
        },
        "id": "ZfS1fQnSNTp_",
        "outputId": "0f93d51e-c780-48ab-cbf4-6774172f4a32"
      },
      "outputs": [
        {
          "name": "stdout",
          "output_type": "stream",
          "text": [
            "      Item_Identifier  Item_Weight  Item_Fat_Content  Item_Visibility  \\\n",
            "0                 156          284                 0              663   \n",
            "1                   8           57                 1              879   \n",
            "2                 662          376                 0              714   \n",
            "3                1121          393                 1             4432   \n",
            "4                1297          265                 0             4432   \n",
            "...               ...          ...               ...              ...   \n",
            "8518              370          125                 0             3911   \n",
            "8519              897          233                 1             3277   \n",
            "8520             1357          299                 0             2301   \n",
            "8521              681          149                 1             7175   \n",
            "8522               50          347                 0             3107   \n",
            "\n",
            "      Item_Type  Item_MRP  Outlet_Identifier  Outlet_Establishment_Year  \\\n",
            "0             4      5592                  9                          4   \n",
            "1            14       473                  3                          8   \n",
            "2            10      2901                  9                          4   \n",
            "3             6      4227                  0                          3   \n",
            "4             9       627                  1                          1   \n",
            "...         ...       ...                ...                        ...   \n",
            "8518         13      4955                  1                          1   \n",
            "8519          0      2023                  7                          5   \n",
            "8520          8      1263                  6                          6   \n",
            "8521         13      1857                  3                          8   \n",
            "8522         14      1011                  8                          2   \n",
            "\n",
            "      Outlet_Size  Outlet_Location_Type  Outlet_Type  Item_Outlet_Sales  \\\n",
            "0               1                     0            1               2540   \n",
            "1               1                     2            2                422   \n",
            "2               1                     0            1               1639   \n",
            "3               1                     2            0                670   \n",
            "4               0                     2            1                865   \n",
            "...           ...                   ...          ...                ...   \n",
            "8518            0                     2            1               2047   \n",
            "8519            1                     1            1                516   \n",
            "8520            2                     1            1               1018   \n",
            "8521            1                     2            2               1466   \n",
            "8522            2                     0            1                697   \n",
            "\n",
            "      source  Item_MRP_cat  \n",
            "0          0             3  \n",
            "1          0             0  \n",
            "2          0             2  \n",
            "3          0             2  \n",
            "4          0             0  \n",
            "...      ...           ...  \n",
            "8518       0             3  \n",
            "8519       0             1  \n",
            "8520       0             1  \n",
            "8521       0             1  \n",
            "8522       0             1  \n",
            "\n",
            "[8523 rows x 14 columns]\n"
          ]
        }
      ],
      "source": [
        "print(train)"
      ]
    },
    {
      "cell_type": "markdown",
      "source": [
        "# **Modelling**"
      ],
      "metadata": {
        "id": "w3WvMx8Adk1J"
      }
    },
    {
      "cell_type": "markdown",
      "metadata": {
        "id": "X4Jo1gHx3sie"
      },
      "source": [
        "## Linear regression and Preprocessing The data\n",
        "**Appending Linear regression classifier to preprocessing pipeline. Now we have a full prediction pipeline.** "
      ]
    },
    {
      "cell_type": "code",
      "execution_count": null,
      "metadata": {
        "id": "5EUZRsLr3sOc"
      },
      "outputs": [],
      "source": [
        "# Linearclassfier pipeline model\n",
        "LR_clf = Pipeline(\n",
        "    steps= [(\"preprocessor\", preprocessor),\n",
        "    (\"classifier\", LinearRegression())]\n",
        ")"
      ]
    },
    {
      "cell_type": "code",
      "execution_count": null,
      "metadata": {
        "id": "O0THih9L3ndj"
      },
      "outputs": [],
      "source": [
        "# Splitting the train data to dataset and a target value \n",
        "y= train['Item_Outlet_Sales']\n",
        "X= train.drop(\"Item_Outlet_Sales\", axis=1)"
      ]
    },
    {
      "cell_type": "code",
      "execution_count": null,
      "metadata": {
        "colab": {
          "base_uri": "https://localhost:8080/"
        },
        "id": "sx7WdimG34xd",
        "outputId": "61da3699-d2a5-45c1-c271-8f850d0c7614"
      },
      "outputs": [
        {
          "name": "stdout",
          "output_type": "stream",
          "text": [
            "model score: 0.512\n"
          ]
        }
      ],
      "source": [
        "# Splitting the data to train and test sets\n",
        "X_train, X_test, y_train, y_test = train_test_split(X, y, test_size=0.2, random_state=0)\n",
        "\n",
        "# Fitting the model\n",
        "LR_clf.fit(X_train, y_train)\n",
        "print(\"model score: %.3f\" % LR_clf.score(X_test, y_test))"
      ]
    },
    {
      "cell_type": "markdown",
      "metadata": {
        "id": "fo-VXpfVQpf_"
      },
      "source": [
        "### **Regularized Linear Regression**"
      ]
    },
    {
      "cell_type": "code",
      "execution_count": 228,
      "metadata": {
        "colab": {
          "base_uri": "https://localhost:8080/"
        },
        "id": "uyZQma9FQ2C0",
        "outputId": "42a237e5-8e47-4781-b0f5-41bd3028d8ca"
      },
      "outputs": [
        {
          "output_type": "stream",
          "name": "stdout",
          "text": [
            "model score: 0.566\n"
          ]
        }
      ],
      "source": [
        "# Importing ridge regression\n",
        "from sklearn.linear_model import Ridge\n",
        "\n",
        "# Buliding the pipeline for ridge regression\n",
        "Ridge_clf = Pipeline(\n",
        "    steps= [(\"preprocessor\", preprocessor),\n",
        "    (\"classifier_Ridge\", Ridge())]\n",
        ")\n",
        "\n",
        "# Fitting the model\n",
        "Ridge_clf.fit(X_train, y_train)\n",
        "print(\"model score: %.3f\" % Ridge_clf.score(X_test, y_test))"
      ]
    },
    {
      "cell_type": "code",
      "source": [
        "# Find optimal alpha with grid search \n",
        "param_grid = {\n",
        "    \"classifier_Ridge__alpha\":[0.001,0.01,0.1,1,10,100,150,1000]\n",
        "}\n",
        "\n",
        "# Insintiating grid search model\n",
        "Ridge_grid = GridSearchCV(estimator=Ridge_clf, param_grid=param_grid,\n",
        "                          scoring=\"r2\",cv=5)\n",
        "\n",
        "# Getting the best results in the grid search\n",
        "Ridge_grid_result= Ridge_grid.fit(X_train, y_train)\n",
        "\n",
        "print('Best Score: ', Ridge_grid_result.best_score_)\n",
        "print('Best Params: ', Ridge_grid_result.best_params_)"
      ],
      "metadata": {
        "colab": {
          "base_uri": "https://localhost:8080/"
        },
        "id": "eOoTH7yqXqU5",
        "outputId": "78910fa9-0923-4dab-8bf8-f4cefe139632"
      },
      "execution_count": 229,
      "outputs": [
        {
          "output_type": "stream",
          "name": "stdout",
          "text": [
            "Best Score:  0.63276097427498\n",
            "Best Params:  {'classifier_Ridge__alpha': 100}\n"
          ]
        }
      ]
    },
    {
      "cell_type": "markdown",
      "metadata": {
        "id": "BEikpITn7_Ao"
      },
      "source": [
        "##**Random Forest**"
      ]
    },
    {
      "cell_type": "code",
      "execution_count": null,
      "metadata": {
        "id": "M_bzacrK8Lf9"
      },
      "outputs": [],
      "source": [
        "from sklearn.ensemble import RandomForestRegressor\n",
        "rf= RandomForestRegressor(n_estimators=1000)"
      ]
    },
    {
      "cell_type": "code",
      "execution_count": null,
      "metadata": {
        "colab": {
          "base_uri": "https://localhost:8080/",
          "height": 74
        },
        "id": "zU5xLuR_8MoV",
        "outputId": "4057d482-7f06-466e-c1ef-0456b0d5f850"
      },
      "outputs": [
        {
          "data": {
            "text/html": [
              "<style>#sk-container-id-2 {color: black;background-color: white;}#sk-container-id-2 pre{padding: 0;}#sk-container-id-2 div.sk-toggleable {background-color: white;}#sk-container-id-2 label.sk-toggleable__label {cursor: pointer;display: block;width: 100%;margin-bottom: 0;padding: 0.3em;box-sizing: border-box;text-align: center;}#sk-container-id-2 label.sk-toggleable__label-arrow:before {content: \"▸\";float: left;margin-right: 0.25em;color: #696969;}#sk-container-id-2 label.sk-toggleable__label-arrow:hover:before {color: black;}#sk-container-id-2 div.sk-estimator:hover label.sk-toggleable__label-arrow:before {color: black;}#sk-container-id-2 div.sk-toggleable__content {max-height: 0;max-width: 0;overflow: hidden;text-align: left;background-color: #f0f8ff;}#sk-container-id-2 div.sk-toggleable__content pre {margin: 0.2em;color: black;border-radius: 0.25em;background-color: #f0f8ff;}#sk-container-id-2 input.sk-toggleable__control:checked~div.sk-toggleable__content {max-height: 200px;max-width: 100%;overflow: auto;}#sk-container-id-2 input.sk-toggleable__control:checked~label.sk-toggleable__label-arrow:before {content: \"▾\";}#sk-container-id-2 div.sk-estimator input.sk-toggleable__control:checked~label.sk-toggleable__label {background-color: #d4ebff;}#sk-container-id-2 div.sk-label input.sk-toggleable__control:checked~label.sk-toggleable__label {background-color: #d4ebff;}#sk-container-id-2 input.sk-hidden--visually {border: 0;clip: rect(1px 1px 1px 1px);clip: rect(1px, 1px, 1px, 1px);height: 1px;margin: -1px;overflow: hidden;padding: 0;position: absolute;width: 1px;}#sk-container-id-2 div.sk-estimator {font-family: monospace;background-color: #f0f8ff;border: 1px dotted black;border-radius: 0.25em;box-sizing: border-box;margin-bottom: 0.5em;}#sk-container-id-2 div.sk-estimator:hover {background-color: #d4ebff;}#sk-container-id-2 div.sk-parallel-item::after {content: \"\";width: 100%;border-bottom: 1px solid gray;flex-grow: 1;}#sk-container-id-2 div.sk-label:hover label.sk-toggleable__label {background-color: #d4ebff;}#sk-container-id-2 div.sk-serial::before {content: \"\";position: absolute;border-left: 1px solid gray;box-sizing: border-box;top: 0;bottom: 0;left: 50%;z-index: 0;}#sk-container-id-2 div.sk-serial {display: flex;flex-direction: column;align-items: center;background-color: white;padding-right: 0.2em;padding-left: 0.2em;position: relative;}#sk-container-id-2 div.sk-item {position: relative;z-index: 1;}#sk-container-id-2 div.sk-parallel {display: flex;align-items: stretch;justify-content: center;background-color: white;position: relative;}#sk-container-id-2 div.sk-item::before, #sk-container-id-2 div.sk-parallel-item::before {content: \"\";position: absolute;border-left: 1px solid gray;box-sizing: border-box;top: 0;bottom: 0;left: 50%;z-index: -1;}#sk-container-id-2 div.sk-parallel-item {display: flex;flex-direction: column;z-index: 1;position: relative;background-color: white;}#sk-container-id-2 div.sk-parallel-item:first-child::after {align-self: flex-end;width: 50%;}#sk-container-id-2 div.sk-parallel-item:last-child::after {align-self: flex-start;width: 50%;}#sk-container-id-2 div.sk-parallel-item:only-child::after {width: 0;}#sk-container-id-2 div.sk-dashed-wrapped {border: 1px dashed gray;margin: 0 0.4em 0.5em 0.4em;box-sizing: border-box;padding-bottom: 0.4em;background-color: white;}#sk-container-id-2 div.sk-label label {font-family: monospace;font-weight: bold;display: inline-block;line-height: 1.2em;}#sk-container-id-2 div.sk-label-container {text-align: center;}#sk-container-id-2 div.sk-container {/* jupyter's `normalize.less` sets `[hidden] { display: none; }` but bootstrap.min.css set `[hidden] { display: none !important; }` so we also need the `!important` here to be able to override the default hidden behavior on the sphinx rendered scikit-learn.org. See: https://github.com/scikit-learn/scikit-learn/issues/21755 */display: inline-block !important;position: relative;}#sk-container-id-2 div.sk-text-repr-fallback {display: none;}</style><div id=\"sk-container-id-2\" class=\"sk-top-container\"><div class=\"sk-text-repr-fallback\"><pre>RandomForestRegressor(n_estimators=1000)</pre><b>In a Jupyter environment, please rerun this cell to show the HTML representation or trust the notebook. <br />On GitHub, the HTML representation is unable to render, please try loading this page with nbviewer.org.</b></div><div class=\"sk-container\" hidden><div class=\"sk-item\"><div class=\"sk-estimator sk-toggleable\"><input class=\"sk-toggleable__control sk-hidden--visually\" id=\"sk-estimator-id-2\" type=\"checkbox\" checked><label for=\"sk-estimator-id-2\" class=\"sk-toggleable__label sk-toggleable__label-arrow\">RandomForestRegressor</label><div class=\"sk-toggleable__content\"><pre>RandomForestRegressor(n_estimators=1000)</pre></div></div></div></div></div>"
            ],
            "text/plain": [
              "RandomForestRegressor(n_estimators=1000)"
            ]
          },
          "execution_count": 175,
          "metadata": {},
          "output_type": "execute_result"
        }
      ],
      "source": [
        "rf.fit(X_train,y_train)"
      ]
    },
    {
      "cell_type": "code",
      "execution_count": null,
      "metadata": {
        "id": "6LFx7AYf8TCJ"
      },
      "outputs": [],
      "source": [
        "y_pred = rf.predict(X_test)"
      ]
    },
    {
      "cell_type": "code",
      "execution_count": null,
      "metadata": {
        "id": "6bZjeGx-8yKd"
      },
      "outputs": [],
      "source": [
        "from sklearn.metrics import classification_report,confusion_matrix,accuracy_score,r2_score"
      ]
    },
    {
      "cell_type": "code",
      "execution_count": null,
      "metadata": {
        "colab": {
          "base_uri": "https://localhost:8080/"
        },
        "id": "nuebkqWL8S76",
        "outputId": "2ffa474c-76a4-4971-dc4c-345d022063de"
      },
      "outputs": [
        {
          "name": "stdout",
          "output_type": "stream",
          "text": [
            "0.6083939555874696\n"
          ]
        }
      ],
      "source": [
        "print(r2_score(y_test,y_pred))"
      ]
    },
    {
      "cell_type": "markdown",
      "metadata": {
        "id": "bn6rggBm4EK8"
      },
      "source": [
        "###**XGBoost regressor**\n",
        "**\n",
        "\n",
        "Appending XGBoost regressor to preprocessing pipeline. so we can have a full prediction pipeline for it.**"
      ]
    },
    {
      "cell_type": "code",
      "execution_count": null,
      "metadata": {
        "id": "63bO-Jg_4HSk"
      },
      "outputs": [],
      "source": [
        "# Importing XGBoost regressor \n",
        "from xgboost.sklearn import XGBRegressor"
      ]
    },
    {
      "cell_type": "code",
      "execution_count": null,
      "metadata": {
        "colab": {
          "base_uri": "https://localhost:8080/"
        },
        "id": "vcuoIdBG4JeM",
        "outputId": "b0d1ecd8-bc2f-43b0-990b-2d1160c24332"
      },
      "outputs": [
        {
          "name": "stdout",
          "output_type": "stream",
          "text": [
            "XGB model accuracy: 0.630\n"
          ]
        }
      ],
      "source": [
        "# XGBoost regressor pipeline model\n",
        "XGB_reg = Pipeline(\n",
        "    steps= [(\"preprocessor\", preprocessor),\n",
        "    (\"XGB_regressor\", XGBRegressor())]\n",
        ")\n",
        "\n",
        "# Fitting the moedel to the data\n",
        "XGB_reg.fit(X_train, y_train)\n",
        "print(\"XGB model accuracy: %.3f\" % XGB_reg.score(X_test, y_test))"
      ]
    },
    {
      "cell_type": "code",
      "execution_count": null,
      "metadata": {
        "colab": {
          "background_save": true,
          "base_uri": "https://localhost:8080/"
        },
        "id": "Og_aMzAL4MD_",
        "outputId": "c17952f2-51dd-4e7f-ad76-9393a902e0d9"
      },
      "outputs": [
        {
          "name": "stdout",
          "output_type": "stream",
          "text": [
            "Fitting 5 folds for each of 108 candidates, totalling 540 fits\n",
            "[14:38:08] WARNING: ../src/objective/regression_obj.cu:213: reg:linear is now deprecated in favor of reg:squarederror.\n",
            "[14:38:08] WARNING: ../src/learner.cc:767: \n",
            "Parameters: { \"silent\" } are not used.\n",
            "\n",
            "Best Score:  0.6412101412895075\n",
            "Best Params:  {'XGB_regressor__colsample_bytree': 0.07, 'XGB_regressor__learning_rate': 0.05, 'XGB_regressor__max_depth': 5, 'XGB_regressor__min_child_weight': 10, 'XGB_regressor__n_estimators': 1000, 'XGB_regressor__nthread': 4, 'XGB_regressor__objective': 'reg:linear', 'XGB_regressor__silent': 1, 'XGB_regressor__subsample': 0.07}\n"
          ]
        }
      ],
      "source": [
        "# Finding best paramets for XGB model \n",
        "param_grid = {\n",
        "    \"XGB_regressor__nthread\": [4], # When use hyberthread, XGBoost may be slower\n",
        "    \"XGB_regressor__objective\": ['reg:linear'],\n",
        "    \"XGB_regressor__learning_rate\": [0.03,0.05,0.07],\n",
        "    \"XGB_regressor__max_depth\": [5,6,7,15],\n",
        "    \"XGB_regressor__min_child_weight\": [4,5,10],\n",
        "    \"XGB_regressor__silent\": [1],\n",
        "    \"XGB_regressor__subsample\": [0.07],\n",
        "    \"XGB_regressor__colsample_bytree\": [0.07],\n",
        "    \"XGB_regressor__n_estimators\":[100, 500,1000]\n",
        "}\n",
        "# Insintiating grid search model\n",
        "XGB_grid = GridSearchCV(estimator=XGB_reg, param_grid=param_grid,\n",
        "                          scoring=\"r2\",cv=5,n_jobs=5,verbose=True)\n",
        "\n",
        "# Getting the best results in the grid search\n",
        "XGB_grid_result= XGB_grid.fit(X_train, y_train)\n",
        "\n",
        "print('Best Score: ', XGB_grid_result.best_score_)\n",
        "print('Best Params: ', XGB_grid_result.best_params_)"
      ]
    },
    {
      "cell_type": "code",
      "execution_count": null,
      "metadata": {
        "colab": {
          "background_save": true
        },
        "id": "zOkDPYRD4P3B",
        "outputId": "2e23d89e-2bc6-48ca-e231-f30d2305f9c7"
      },
      "outputs": [
        {
          "data": {
            "text/plain": [
              "0.6083939555874696"
            ]
          },
          "execution_count": 182,
          "metadata": {},
          "output_type": "execute_result"
        }
      ],
      "source": [
        "\n",
        "R2 = r2_score(y_test,y_pred)\n",
        "R2"
      ]
    },
    {
      "cell_type": "markdown",
      "metadata": {
        "id": "TceA35Xq9gKh"
      },
      "source": [
        "# **Summary**"
      ]
    },
    {
      "cell_type": "markdown",
      "source": [
        "Random shows better acuracy than other models\n"
      ],
      "metadata": {
        "id": "HiCk6t5OXd3K"
      }
    },
    {
      "cell_type": "markdown",
      "source": [
        "# Conclusion\n",
        "The Items bought are more of Low Fat and \"Fruits and vegetables\" and \"Snack food\" are the most sold items in all the stores with all sizes.The items with visibility near to zero is rarely purchased by the customers.You can see that the number of sales made by the second categore which its Maximum Retail Price(MRP) between **(70, 135) and (135,205) are nearly double the number of sales made by any other category, This means we should increase the most purchased product with this range of Maximum Retail Price(MRP) insupermarkets. Also the mean of the products with MRP more than 200 is high this is because it has higher price but not because it is purchased a lot.\n",
        "The \"Outlet_Establishment_Year\" has no effect on the sales made by any outlet, as the number of sales made or the mean of all years are nearly the same ."
      ],
      "metadata": {
        "id": "Ef3yaeubXaq4"
      }
    },
    {
      "cell_type": "markdown",
      "source": [],
      "metadata": {
        "id": "az4mSvNEXakk"
      }
    }
  ],
  "metadata": {
    "colab": {
      "provenance": []
    },
    "kernelspec": {
      "display_name": "Python 3",
      "name": "python3"
    },
    "language_info": {
      "name": "python"
    }
  },
  "nbformat": 4,
  "nbformat_minor": 0
}